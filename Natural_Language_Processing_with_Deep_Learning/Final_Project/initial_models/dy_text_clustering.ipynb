{
 "cells": [
  {
   "cell_type": "code",
   "execution_count": null,
   "metadata": {},
   "outputs": [],
   "source": [
    "# This tells matplotlib not to try opening a new window for each plot.\n",
    "%matplotlib inline\n",
    "# General libraries.\n",
    "import pandas as pd \n",
    "import re\n",
    "import numpy as np\n",
    "import matplotlib.pyplot as plt\n",
    "# SK-learn libraries for learning.\n",
    "from sklearn.pipeline import Pipeline\n",
    "from sklearn.neighbors import KNeighborsClassifier\n",
    "from sklearn.linear_model import LogisticRegression\n",
    "from sklearn.naive_bayes import BernoulliNB\n",
    "from sklearn.naive_bayes import MultinomialNB\n",
    "\n",
    "# SK-learn libraries for evaluation.\n",
    "from sklearn.metrics import confusion_matrix\n",
    "from sklearn import metrics\n",
    "from sklearn.metrics import classification_report\n",
    "\n",
    "# SK-learn libraries for feature extraction from text.\n",
    "from sklearn.feature_extraction.text import *\n",
    "from sklearn.cluster import KMeans\n",
    "\n",
    "import nltk\n",
    "from tqdm import tqdm"
   ]
  },
  {
   "cell_type": "code",
   "execution_count": null,
   "metadata": {},
   "outputs": [],
   "source": [
    "df = pd.read_csv('/Users/daphneyang/Desktop/5YMIDS_SP21/w266/266_final/nyt_data_collection/dataset/train_dataset.csv')[:1000]\n",
    "df.head()"
   ]
  },
  {
   "cell_type": "code",
   "execution_count": null,
   "metadata": {},
   "outputs": [],
   "source": [
    "## creating functions\n",
    "import nltk\n",
    "from nltk.stem import WordNetLemmatizer\n",
    "from nltk.corpus import stopwords\n",
    "import pandas as pd\n",
    "import string\n",
    "\n",
    "\n",
    "def lemmatize_text(text):\n",
    "    w_tokenizer = nltk.tokenize.WhitespaceTokenizer()\n",
    "    lemmatizer = WordNetLemmatizer()\n",
    "    lem_text = []\n",
    "    for w in w_tokenizer.tokenize(text):\n",
    "        lem_text.append(lemmatizer.lemmatize(w))\n",
    "        lem_text.append(\" \")\n",
    "    return ''.join(lem_text)\n",
    "\n",
    "\n",
    "def clean_text(text):\n",
    "    \"\"\" Takes Text and does the following\n",
    "    1. Remove Stopwords - remove common stopwords in English\n",
    "    2. Removing Numbers -- may want to revisit this if numbers are important (thinking like covid cases and such)\n",
    "    3. Lemmatizes Text - revert word to its base form (ex. studies, studying to study)\n",
    "     \"\"\"\n",
    "    text = str(text)\n",
    "    if len(text) <1:\n",
    "        # if no available first paragraph\n",
    "        return \" \"\n",
    "    else:\n",
    "        no_numbers = re.sub(r'[0-9]', \"\", text)\n",
    "        no_punct = re.sub(r'[^\\w\\s]', '', no_numbers)\n",
    "    # no_punct = [char for char in no_numbers if char not in string.punctuation]\n",
    "    # no_punct = \" \".join(no_punct)\n",
    "    \n",
    "    # no_punct = \"\".join(no_numbers)\n",
    "    \n",
    "        lower_text = [word.lower() for word in no_punct.split()\n",
    "                  if word not in stopwords.words(\"english\")]\n",
    "        lower_text = ' '.join(lower_text)\n",
    "        lemm_text = lemmatize_text(lower_text)\n",
    "        if len(lemm_text) < 1:\n",
    "        # in empty after regex\n",
    "            return \" \"\n",
    "        else:\n",
    "            return lemm_text\n"
   ]
  },
  {
   "cell_type": "code",
   "execution_count": null,
   "metadata": {},
   "outputs": [],
   "source": [
    "text = \"There are 4572 students in CS61B and CS1A.\"\n",
    "no_numbers = re.sub(r'[0-9]', \"\", text)\n",
    "no_punct = re.sub(r'[^\\w\\s]', '', no_numbers)\n",
    "lower_text = [word.lower() for word in no_punct.split()\n",
    "                if word not in stopwords.words(\"english\")]\n",
    "lower_text = ' '.join(lower_text)\n",
    "lemm_text = lemmatize_text(lower_text).strip()\n",
    "lemm_text"
   ]
  },
  {
   "cell_type": "code",
   "execution_count": null,
   "metadata": {},
   "outputs": [],
   "source": [
    "## cleaning function\n",
    "df['cleaned_first_paragraph'] = df['first_paragraph'].apply(clean_text)\n",
    "df.head()"
   ]
  },
  {
   "cell_type": "code",
   "execution_count": null,
   "metadata": {},
   "outputs": [],
   "source": [
    "def compare_clean(idx):\n",
    "    print(f\"Row Number: {idx}\\n\")\n",
    "    print(f\"Original text: \\n {df.first_paragraph[idx]} \\n\")\n",
    "    print(f\"Cleaned text: \\n {df.cleaned_first_paragraph[idx]}\")"
   ]
  },
  {
   "cell_type": "code",
   "execution_count": null,
   "metadata": {},
   "outputs": [],
   "source": [
    "compare_clean(6)"
   ]
  },
  {
   "cell_type": "code",
   "execution_count": null,
   "metadata": {},
   "outputs": [],
   "source": [
    "## Document Clustering using TFIDF\n",
    "vectorizer = TfidfVectorizer()\n",
    "X = vectorizer.fit_transform(df.cleaned_first_paragraph.to_list())"
   ]
  },
  {
   "cell_type": "code",
   "execution_count": null,
   "metadata": {},
   "outputs": [],
   "source": [
    "## Output of first 10 feature names from small training sample\n",
    "print(vectorizer.get_feature_names()[:10])"
   ]
  },
  {
   "cell_type": "code",
   "execution_count": null,
   "metadata": {},
   "outputs": [],
   "source": [
    "## Clustering\n",
    "kmeans = KMeans(n_clusters=4)\n",
    "kmeans_fit = kmeans.fit(X)\n",
    "kmeans_fit"
   ]
  },
  {
   "cell_type": "code",
   "execution_count": null,
   "metadata": {},
   "outputs": [],
   "source": [
    "SSD = []\n",
    "K = range(1,50)\n",
    "for k in tqdm(K):\n",
    "    km = KMeans(n_clusters = k)\n",
    "    km = km.fit(X)\n",
    "    SSD.append(km.inertia_)"
   ]
  },
  {
   "cell_type": "code",
   "execution_count": null,
   "metadata": {},
   "outputs": [],
   "source": [
    "import matplotlib.pyplot as pyplot\n",
    "plt.plot(K, SSD, \"bx-\")\n",
    "plt.xlabel('k')\n",
    "plt.ylabel(\"Sum of Squared Distances\")\n",
    "plt.title('Elbow Method For Optimal Clusters')"
   ]
  },
  {
   "cell_type": "code",
   "execution_count": null,
   "metadata": {},
   "outputs": [],
   "source": [
    "matching = [s for s in keywords if any(xs in s for xs in ['Coronavirus'])]"
   ]
  },
  {
   "cell_type": "code",
   "execution_count": null,
   "metadata": {},
   "outputs": [],
   "source": [
    "keyword_vectorizer = TfidfVectorizer()\n",
    "X_keywords = vectorizer.fit_transform(covid_df.cleaned_first_paragraph.to_list())"
   ]
  },
  {
   "cell_type": "code",
   "execution_count": null,
   "metadata": {},
   "outputs": [],
   "source": [
    "SSD_keywords = []\n",
    "K_keywords = range(1,100)\n",
    "for k in tqdm(K_keywords):\n",
    "    km = KMeans(n_clusters = k)\n",
    "    km = km.fit(X)\n",
    "    SSD_keywords.append(km.inertia_)"
   ]
  },
  {
   "cell_type": "code",
   "execution_count": null,
   "metadata": {},
   "outputs": [],
   "source": [
    "plt.plot(K_keywords, SSD_keywords, \"bx-\")\n",
    "plt.xlabel('k')\n",
    "plt.ylabel(\"Sum of Squared Distances\")\n",
    "plt.title('Elbow Method For Optimal Clusters')"
   ]
  },
  {
   "cell_type": "markdown",
   "metadata": {},
   "source": [
    "# Subsetting Data"
   ]
  },
  {
   "cell_type": "code",
   "execution_count": null,
   "metadata": {},
   "outputs": [],
   "source": [
    "df = pd.read_csv('/Users/daphneyang/Desktop/5YMIDS_SP21/w266/266_final/nyt_data_collection/dataset/full_nyt_dataset.csv')"
   ]
  },
  {
   "cell_type": "code",
<<<<<<< HEAD
   "execution_count": null,
=======
   "execution_count": 27,
>>>>>>> 9275e207271a4ea17ccf8c25cfbd1d1278fa3976
   "metadata": {},
   "outputs": [
    {
     "output_type": "error",
     "ename": "NameError",
     "evalue": "name 'years' is not defined",
     "traceback": [
      "\u001b[0;31m---------------------------------------------------------------------------\u001b[0m",
      "\u001b[0;31mNameError\u001b[0m                                 Traceback (most recent call last)",
      "\u001b[0;32m<ipython-input-27-4d8caa287270>\u001b[0m in \u001b[0;36m<module>\u001b[0;34m\u001b[0m\n\u001b[0;32m----> 1\u001b[0;31m \u001b[0;32mdef\u001b[0m \u001b[0mdata_subset\u001b[0m\u001b[0;34m(\u001b[0m\u001b[0mdf\u001b[0m\u001b[0;34m,\u001b[0m \u001b[0mkeyword\u001b[0m\u001b[0;34m,\u001b[0m \u001b[0myears\u001b[0m\u001b[0;34m=\u001b[0m\u001b[0myears\u001b[0m\u001b[0;34m,\u001b[0m \u001b[0mcolumn\u001b[0m \u001b[0;34m=\u001b[0m \u001b[0;34m\"first_paragraph\"\u001b[0m\u001b[0;34m)\u001b[0m\u001b[0;34m:\u001b[0m\u001b[0;34m\u001b[0m\u001b[0;34m\u001b[0m\u001b[0m\n\u001b[0m\u001b[1;32m      2\u001b[0m     \"\"\" FUNCTION TO SUBSET FULL NYT DATASET\n\u001b[1;32m      3\u001b[0m     \u001b[0mMandatory\u001b[0m \u001b[0mInputs\u001b[0m\u001b[0;34m:\u001b[0m\u001b[0;34m\u001b[0m\u001b[0;34m\u001b[0m\u001b[0m\n\u001b[1;32m      4\u001b[0m     \u001b[0mdf\u001b[0m\u001b[0;34m:\u001b[0m \u001b[0mPandas\u001b[0m \u001b[0mDataframe\u001b[0m \u001b[0;32mwith\u001b[0m \u001b[0mtext\u001b[0m \u001b[0;32mand\u001b[0m \u001b[0mdate\u001b[0m \u001b[0minformation\u001b[0m \u001b[0;32mfrom\u001b[0m \u001b[0mNYT\u001b[0m \u001b[0mnewspaper\u001b[0m \u001b[0marticles\u001b[0m \u001b[0;34m(\u001b[0m\u001b[0mmust\u001b[0m \u001b[0mcontain\u001b[0m \u001b[0ma\u001b[0m \u001b[0mdate\u001b[0m \u001b[0;34m(\u001b[0m\u001b[0;32mas\u001b[0m \u001b[0ma\u001b[0m \u001b[0mstring\u001b[0m\u001b[0;34m)\u001b[0m\u001b[0;34m,\u001b[0m \u001b[0mfirst_paragraph\u001b[0m\u001b[0;34m,\u001b[0m \u001b[0;32mor\u001b[0m \u001b[0mkeywords\u001b[0m \u001b[0mcolumn\u001b[0m\u001b[0;34m)\u001b[0m\u001b[0;34m\u001b[0m\u001b[0;34m\u001b[0m\u001b[0m\n\u001b[1;32m      5\u001b[0m     \u001b[0mkeyword\u001b[0m\u001b[0;34m:\u001b[0m \u001b[0;34m(\u001b[0m\u001b[0mstr\u001b[0m\u001b[0;34m)\u001b[0m \u001b[0mword\u001b[0m \u001b[0mof\u001b[0m \u001b[0minterest\u001b[0m\u001b[0;34m\u001b[0m\u001b[0;34m\u001b[0m\u001b[0m\n",
      "\u001b[0;31mNameError\u001b[0m: name 'years' is not defined"
     ]
    }
   ],
   "source": [
    "def data_subset(df, keyword, years=years, column = \"first_paragraph\"):\n",
    "    \"\"\" FUNCTION TO SUBSET FULL NYT DATASET\n",
    "    Mandatory Inputs:\n",
    "    df: Pandas Dataframe with text and date information from NYT newspaper articles (must contain a date (as a string), first_paragraph, or keywords column)\n",
    "    keyword: (str) word of interest\n",
    "    years: (list) of years of interest\n",
    "\n",
    "    Optional Inputs: \n",
    "    column: (str) column name to subset on\n",
    "    \"\"\"\n",
    "    df = df.dropna(subset=[column])\n",
    "    df = df[df['date'].str[:4].isin([years])]\n",
    "    subset = df[df[column].str.lower().str.contains(keyword)]\n",
    "    return subset"
   ]
  },
  {
   "cell_type": "code",
   "execution_count": null,
   "metadata": {},
   "outputs": [],
   "source": [
    "keywords = []\n",
    "for i in range(len(df.keywords)):\n",
    "    cleaned_row = df.keywords[i].replace('[','')\n",
    "    cleaned_row = cleaned_row.replace(']','')\n",
    "    cleaned_row = cleaned_row.replace(\"'\",'')\n",
    "    keywords.extend(cleaned_row.split(\",\"))"
   ]
  },
  {
   "cell_type": "code",
   "execution_count": null,
   "metadata": {},
   "outputs": [],
   "source": [
    "df= df.dropna(subset=['first_paragraph'])"
   ]
  },
  {
   "cell_type": "code",
   "execution_count": null,
   "metadata": {},
   "outputs": [],
   "execution_count": 21,
   "metadata": {},
   "outputs": [
    {
     "output_type": "execute_result",
     "data": {
      "text/plain": [
       "0         2018\n",
       "1         2018\n",
       "2         2018\n",
       "3         2018\n",
       "4         2018\n",
       "          ... \n",
       "198828    2017\n",
       "198829    2017\n",
       "198830    2017\n",
       "198831    2017\n",
       "198832    2017\n",
       "Name: date, Length: 197548, dtype: object"
      ]
     },
     "metadata": {},
     "execution_count": 21
    }
   ],
   "source": [
    "df['date'].str[:4]"
   ]
  },
  {
   "cell_type": "code",
   "execution_count": 26,
   "metadata": {},
   "outputs": [
    {
     "data": {
      "text/html": [
       "<div>\n",
       "<style scoped>\n",
       "    .dataframe tbody tr th:only-of-type {\n",
       "        vertical-align: middle;\n",
       "    }\n",
       "\n",
       "    .dataframe tbody tr th {\n",
       "        vertical-align: top;\n",
       "    }\n",
       "\n",
       "    .dataframe thead th {\n",
       "        text-align: right;\n",
       "    }\n",
       "</style>\n",
       "<table border=\"1\" class=\"dataframe\">\n",
       "  <thead>\n",
       "    <tr style=\"text-align: right;\">\n",
       "      <th></th>\n",
       "      <th>headline</th>\n",
       "      <th>date</th>\n",
       "      <th>doc_type</th>\n",
       "      <th>material_type</th>\n",
       "      <th>section</th>\n",
       "      <th>abstract</th>\n",
       "      <th>first_paragraph</th>\n",
       "      <th>keywords</th>\n",
       "      <th>web_url</th>\n",
       "    </tr>\n",
       "  </thead>\n",
       "  <tbody>\n",
       "    <tr>\n",
       "      <th>6130</th>\n",
       "      <td>Labs Across U.S. Join Federal Initiative to St...</td>\n",
       "      <td>2020-05-01</td>\n",
       "      <td>article</td>\n",
       "      <td>News</td>\n",
       "      <td>NaN</td>\n",
       "      <td>The project, announced by the C.D.C., will hel...</td>\n",
       "      <td>The Centers for Disease Control and Prevention...</td>\n",
       "      <td>['Genetics and Heredity', 'Coronavirus (2019-n...</td>\n",
       "      <td>https://www.nytimes.com/2020/04/30/science/cor...</td>\n",
       "    </tr>\n",
       "    <tr>\n",
       "      <th>6132</th>\n",
       "      <td>U.S. Stocks End the Week Lower After Tech Earn...</td>\n",
       "      <td>2020-05-01</td>\n",
       "      <td>article</td>\n",
       "      <td>News</td>\n",
       "      <td>NaN</td>\n",
       "      <td>The latest on stock market and business news d...</td>\n",
       "      <td>This briefing is no longer updating. Read the ...</td>\n",
       "      <td>['United States Economy', 'Coronavirus (2019-n...</td>\n",
       "      <td>https://www.nytimes.com/2020/05/01/business/st...</td>\n",
       "    </tr>\n",
       "    <tr>\n",
       "      <th>6133</th>\n",
       "      <td>Companies Sell the Blood of Recovered Coronavi...</td>\n",
       "      <td>2020-05-01</td>\n",
       "      <td>article</td>\n",
       "      <td>News</td>\n",
       "      <td>NaN</td>\n",
       "      <td>The W.H.O. extends the global health emergency...</td>\n",
       "      <td>Some biotech companies are cashing in on the r...</td>\n",
       "      <td>['Coronavirus (2019-nCoV)', 'AIRLINES AND AIRP...</td>\n",
       "      <td>https://www.nytimes.com/2020/05/01/world/coron...</td>\n",
       "    </tr>\n",
       "    <tr>\n",
       "      <th>6134</th>\n",
       "      <td>Anderson Cooper Announces Birth of His First C...</td>\n",
       "      <td>2020-05-01</td>\n",
       "      <td>article</td>\n",
       "      <td>News</td>\n",
       "      <td>NaN</td>\n",
       "      <td>Wyatt Morgan Cooper, who is named after the ne...</td>\n",
       "      <td>Anderson Cooper signed off from a weekly CNN c...</td>\n",
       "      <td>['Television', 'Surrogate Motherhood']</td>\n",
       "      <td>https://www.nytimes.com/2020/05/01/us/anderson...</td>\n",
       "    </tr>\n",
       "    <tr>\n",
       "      <th>6137</th>\n",
       "      <td>Michigan Governor Reinstates State of Emergenc...</td>\n",
       "      <td>2020-05-01</td>\n",
       "      <td>article</td>\n",
       "      <td>News</td>\n",
       "      <td>NaN</td>\n",
       "      <td>The governor’s moves were in response to the R...</td>\n",
       "      <td>Gov. Gretchen Whitmer of Michigan, a prime pol...</td>\n",
       "      <td>['Demonstrations, Protests and Riots', 'Corona...</td>\n",
       "      <td>https://www.nytimes.com/2020/05/01/us/michigan...</td>\n",
       "    </tr>\n",
       "    <tr>\n",
       "      <th>...</th>\n",
       "      <td>...</td>\n",
       "      <td>...</td>\n",
       "      <td>...</td>\n",
       "      <td>...</td>\n",
       "      <td>...</td>\n",
       "      <td>...</td>\n",
       "      <td>...</td>\n",
       "      <td>...</td>\n",
       "      <td>...</td>\n",
       "    </tr>\n",
       "    <tr>\n",
       "      <th>195115</th>\n",
       "      <td>India’s Economy Shrank Nearly 24 Percent Last ...</td>\n",
       "      <td>2020-08-31</td>\n",
       "      <td>article</td>\n",
       "      <td>News</td>\n",
       "      <td>NaN</td>\n",
       "      <td>It’s the biggest decline of any major economy....</td>\n",
       "      <td>NEW DELHI — The Indian economy contracted by 2...</td>\n",
       "      <td>['Economic Conditions and Trends', 'Gross Dome...</td>\n",
       "      <td>https://www.nytimes.com/2020/08/31/world/asia/...</td>\n",
       "    </tr>\n",
       "    <tr>\n",
       "      <th>195116</th>\n",
       "      <td>This School Year, Unleash Your Inner Ms. Frizzle</td>\n",
       "      <td>2020-08-31</td>\n",
       "      <td>article</td>\n",
       "      <td>News</td>\n",
       "      <td>NaN</td>\n",
       "      <td>I’m no merry home educator, but I’ll be channe...</td>\n",
       "      <td>A few of my mom friends have confided in me th...</td>\n",
       "      <td>['Education (K-12)', 'Children and Childhood',...</td>\n",
       "      <td>https://www.nytimes.com/2020/08/31/parenting/m...</td>\n",
       "    </tr>\n",
       "    <tr>\n",
       "      <th>195124</th>\n",
       "      <td>Federal Government Relaxes Rules on Feeding Lo...</td>\n",
       "      <td>2020-08-31</td>\n",
       "      <td>article</td>\n",
       "      <td>News</td>\n",
       "      <td>NaN</td>\n",
       "      <td>Under pressure from Congress, the Agriculture ...</td>\n",
       "      <td>The Agriculture Department, under pressure fro...</td>\n",
       "      <td>['Lunch and Breakfast Programs', 'Shutdowns (I...</td>\n",
       "      <td>https://www.nytimes.com/2020/08/31/us/schools-...</td>\n",
       "    </tr>\n",
       "    <tr>\n",
       "      <th>195130</th>\n",
       "      <td>After Contact Tracing, Some U.S. Open Players ...</td>\n",
       "      <td>2020-08-31</td>\n",
       "      <td>article</td>\n",
       "      <td>News</td>\n",
       "      <td>NaN</td>\n",
       "      <td>These athletes did not test positive for the c...</td>\n",
       "      <td>You might think Kristina Mladenovic would have...</td>\n",
       "      <td>['United States Open (Tennis)', 'Tennis', 'Con...</td>\n",
       "      <td>https://www.nytimes.com/2020/08/31/sports/tenn...</td>\n",
       "    </tr>\n",
       "    <tr>\n",
       "      <th>195142</th>\n",
       "      <td>Israel and Hamas Agree to Cool Hostilities, fo...</td>\n",
       "      <td>2020-08-31</td>\n",
       "      <td>article</td>\n",
       "      <td>News</td>\n",
       "      <td>NaN</td>\n",
       "      <td>With the coronavirus spreading fast in Gaza, t...</td>\n",
       "      <td>JERUSALEM — With the coronavirus spreading fas...</td>\n",
       "      <td>['Palestinians', 'Embargoes and Sanctions', 'C...</td>\n",
       "      <td>https://www.nytimes.com/2020/08/31/world/middl...</td>\n",
       "    </tr>\n",
       "  </tbody>\n",
       "</table>\n",
       "<p>6661 rows × 9 columns</p>\n",
       "</div>"
      ],
      "text/plain": [
       "                                                 headline        date  \\\n",
       "6126    Two Arrested in Killings of Transgender Women ...  2020-05-01   \n",
       "6127                                     Fiona Ex Machina  2020-05-01   \n",
       "6128               No Graduation Ceremony? You Get Oprah!  2020-05-01   \n",
       "6129                          Closing Number of a Musical  2020-05-01   \n",
       "6130    Labs Across U.S. Join Federal Initiative to St...  2020-05-01   \n",
       "...                                                   ...         ...   \n",
       "195145  House Panel to Subpoena DeJoy Over Mail Delays...  2020-08-31   \n",
       "195146  The Padres Bulk Up and Set Their Sights on Cat...  2020-08-31   \n",
       "195147         Trump Fans Strife as Unrest Roils the U.S.  2020-08-31   \n",
       "195148  A Teacher and Congresswoman Confronts School R...  2020-08-31   \n",
       "195149  Frustrated by Election Boycott, Venezuela’s Le...  2020-08-31   \n",
       "\n",
       "       doc_type material_type  section  \\\n",
       "6126    article          News      NaN   \n",
       "6127    article          News      NaN   \n",
       "6128    article          News      NaN   \n",
       "6129    article          News      NaN   \n",
       "6130    article          News      NaN   \n",
       "...         ...           ...      ...   \n",
       "195145  article          News      NaN   \n",
       "195146  article          News      NaN   \n",
       "195147  article          News      NaN   \n",
       "195148  article          News      NaN   \n",
       "195149  article          News      NaN   \n",
       "\n",
       "                                                 abstract  \\\n",
       "6126    The police said they had classified the deaths...   \n",
       "6127                  Fiona Apple blows our minds, again.   \n",
       "6128    Oprah Winfrey will give a virtual commencement...   \n",
       "6129    Trenton Charlson raises the curtain on our sol...   \n",
       "6130    The project, announced by the C.D.C., will hel...   \n",
       "...                                                   ...   \n",
       "195145  The chairwoman of the House Oversight Committe...   \n",
       "195146  San Diego dealt 16 players and acquired nine m...   \n",
       "195147  The president plans to visit to Kenosha, Wis.,...   \n",
       "195148  Representative Jahana Hayes, a former National...   \n",
       "195149  President Nicolás Maduro cast his decree as a ...   \n",
       "\n",
       "                                          first_paragraph  \\\n",
       "6126    A week after the bodies of two transgender wom...   \n",
       "6127    “Fetch the Bolt Cutters” is Fiona Apple’s mast...   \n",
       "6128    They will not get to share in the memories syn...   \n",
       "6129    FRIDAY PUZZLE — This puzzle by Trenton Charlso...   \n",
       "6130    The Centers for Disease Control and Prevention...   \n",
       "...                                                   ...   \n",
       "195145  WASHINGTON — Representative Carolyn B. Maloney...   \n",
       "195146  As he canvassed the major leagues before Monda...   \n",
       "195147  WASHINGTON — President Trump has been throwing...   \n",
       "195148  Hi. Welcome to On Politics, your guide to the ...   \n",
       "195149  MEXICO CITY — The Venezuelan government said M...   \n",
       "\n",
       "                                                 keywords  \\\n",
       "6126    ['Murders, Attempted Murders and Homicides', '...   \n",
       "6127                                                   []   \n",
       "6128    ['Commencement Speeches', 'Colleges and Univer...   \n",
       "6129                                ['Crossword Puzzles']   \n",
       "6130    ['Genetics and Heredity', 'Coronavirus (2019-n...   \n",
       "...                                                   ...   \n",
       "195145  ['Postal Service and Post Offices', 'United St...   \n",
       "195146                    ['Baseball', 'Trades (Sports)']   \n",
       "195147  ['Presidential Election of 2020', 'George Floy...   \n",
       "195148  ['Education (K-12)', 'Coronavirus Reopenings',...   \n",
       "195149  ['Amnesties, Commutations and Pardons', 'Polit...   \n",
       "\n",
       "                                                  web_url  \n",
       "6126    https://www.nytimes.com/2020/04/30/us/puerto-r...  \n",
       "6127    https://www.nytimes.com/2020/04/30/podcasts/st...  \n",
       "6128    https://www.nytimes.com/2020/04/30/us/oprah-wi...  \n",
       "6129    https://www.nytimes.com/2020/04/30/crosswords/...  \n",
       "6130    https://www.nytimes.com/2020/04/30/science/cor...  \n",
       "...                                                   ...  \n",
       "195145  https://www.nytimes.com/2020/08/31/us/postal-s...  \n",
       "195146  https://www.nytimes.com/2020/08/31/sports/base...  \n",
       "195147  https://www.nytimes.com/2020/08/31/us/politics...  \n",
       "195148  https://www.nytimes.com/2020/08/31/us/politics...  \n",
       "195149  https://www.nytimes.com/2020/08/31/world/ameri...  \n",
       "\n",
<<<<<<< Updated upstream
       "[6661 rows x 9 columns]"
      ]
=======
       "[47616 rows x 9 columns]"
      ],
      "text/html": "<div>\n<style scoped>\n    .dataframe tbody tr th:only-of-type {\n        vertical-align: middle;\n    }\n\n    .dataframe tbody tr th {\n        vertical-align: top;\n    }\n\n    .dataframe thead th {\n        text-align: right;\n    }\n</style>\n<table border=\"1\" class=\"dataframe\">\n  <thead>\n    <tr style=\"text-align: right;\">\n      <th></th>\n      <th>headline</th>\n      <th>date</th>\n      <th>doc_type</th>\n      <th>material_type</th>\n      <th>section</th>\n      <th>abstract</th>\n      <th>first_paragraph</th>\n      <th>keywords</th>\n      <th>web_url</th>\n    </tr>\n  </thead>\n  <tbody>\n    <tr>\n      <th>6126</th>\n      <td>Two Arrested in Killings of Transgender Women ...</td>\n      <td>2020-05-01</td>\n      <td>article</td>\n      <td>News</td>\n      <td>NaN</td>\n      <td>The police said they had classified the deaths...</td>\n      <td>A week after the bodies of two transgender wom...</td>\n      <td>['Murders, Attempted Murders and Homicides', '...</td>\n      <td>https://www.nytimes.com/2020/04/30/us/puerto-r...</td>\n    </tr>\n    <tr>\n      <th>6127</th>\n      <td>Fiona Ex Machina</td>\n      <td>2020-05-01</td>\n      <td>article</td>\n      <td>News</td>\n      <td>NaN</td>\n      <td>Fiona Apple blows our minds, again.</td>\n      <td>“Fetch the Bolt Cutters” is Fiona Apple’s mast...</td>\n      <td>[]</td>\n      <td>https://www.nytimes.com/2020/04/30/podcasts/st...</td>\n    </tr>\n    <tr>\n      <th>6128</th>\n      <td>No Graduation Ceremony? You Get Oprah!</td>\n      <td>2020-05-01</td>\n      <td>article</td>\n      <td>News</td>\n      <td>NaN</td>\n      <td>Oprah Winfrey will give a virtual commencement...</td>\n      <td>They will not get to share in the memories syn...</td>\n      <td>['Commencement Speeches', 'Colleges and Univer...</td>\n      <td>https://www.nytimes.com/2020/04/30/us/oprah-wi...</td>\n    </tr>\n    <tr>\n      <th>6129</th>\n      <td>Closing Number of a Musical</td>\n      <td>2020-05-01</td>\n      <td>article</td>\n      <td>News</td>\n      <td>NaN</td>\n      <td>Trenton Charlson raises the curtain on our sol...</td>\n      <td>FRIDAY PUZZLE — This puzzle by Trenton Charlso...</td>\n      <td>['Crossword Puzzles']</td>\n      <td>https://www.nytimes.com/2020/04/30/crosswords/...</td>\n    </tr>\n    <tr>\n      <th>6130</th>\n      <td>Labs Across U.S. Join Federal Initiative to St...</td>\n      <td>2020-05-01</td>\n      <td>article</td>\n      <td>News</td>\n      <td>NaN</td>\n      <td>The project, announced by the C.D.C., will hel...</td>\n      <td>The Centers for Disease Control and Prevention...</td>\n      <td>['Genetics and Heredity', 'Coronavirus (2019-n...</td>\n      <td>https://www.nytimes.com/2020/04/30/science/cor...</td>\n    </tr>\n    <tr>\n      <th>...</th>\n      <td>...</td>\n      <td>...</td>\n      <td>...</td>\n      <td>...</td>\n      <td>...</td>\n      <td>...</td>\n      <td>...</td>\n      <td>...</td>\n      <td>...</td>\n    </tr>\n    <tr>\n      <th>195145</th>\n      <td>House Panel to Subpoena DeJoy Over Mail Delays...</td>\n      <td>2020-08-31</td>\n      <td>article</td>\n      <td>News</td>\n      <td>NaN</td>\n      <td>The chairwoman of the House Oversight Committe...</td>\n      <td>WASHINGTON — Representative Carolyn B. Maloney...</td>\n      <td>['Postal Service and Post Offices', 'United St...</td>\n      <td>https://www.nytimes.com/2020/08/31/us/postal-s...</td>\n    </tr>\n    <tr>\n      <th>195146</th>\n      <td>The Padres Bulk Up and Set Their Sights on Cat...</td>\n      <td>2020-08-31</td>\n      <td>article</td>\n      <td>News</td>\n      <td>NaN</td>\n      <td>San Diego dealt 16 players and acquired nine m...</td>\n      <td>As he canvassed the major leagues before Monda...</td>\n      <td>['Baseball', 'Trades (Sports)']</td>\n      <td>https://www.nytimes.com/2020/08/31/sports/base...</td>\n    </tr>\n    <tr>\n      <th>195147</th>\n      <td>Trump Fans Strife as Unrest Roils the U.S.</td>\n      <td>2020-08-31</td>\n      <td>article</td>\n      <td>News</td>\n      <td>NaN</td>\n      <td>The president plans to visit to Kenosha, Wis.,...</td>\n      <td>WASHINGTON — President Trump has been throwing...</td>\n      <td>['Presidential Election of 2020', 'George Floy...</td>\n      <td>https://www.nytimes.com/2020/08/31/us/politics...</td>\n    </tr>\n    <tr>\n      <th>195148</th>\n      <td>A Teacher and Congresswoman Confronts School R...</td>\n      <td>2020-08-31</td>\n      <td>article</td>\n      <td>News</td>\n      <td>NaN</td>\n      <td>Representative Jahana Hayes, a former National...</td>\n      <td>Hi. Welcome to On Politics, your guide to the ...</td>\n      <td>['Education (K-12)', 'Coronavirus Reopenings',...</td>\n      <td>https://www.nytimes.com/2020/08/31/us/politics...</td>\n    </tr>\n    <tr>\n      <th>195149</th>\n      <td>Frustrated by Election Boycott, Venezuela’s Le...</td>\n      <td>2020-08-31</td>\n      <td>article</td>\n      <td>News</td>\n      <td>NaN</td>\n      <td>President Nicolás Maduro cast his decree as a ...</td>\n      <td>MEXICO CITY — The Venezuelan government said M...</td>\n      <td>['Amnesties, Commutations and Pardons', 'Polit...</td>\n      <td>https://www.nytimes.com/2020/08/31/world/ameri...</td>\n    </tr>\n  </tbody>\n</table>\n<p>47616 rows × 9 columns</p>\n</div>"
     },
     "execution_count": 11,
     "metadata": {},
     "output_type": "execute_result"
     "execution_count": 26
    }
   ],
   "source": [
    "df_ = df[df['date'].str[:4].isin([\"2020\", \"2021\"])]\n",
    "# covid_df = df_[df_['first_paragraph'].str.lower().str.contains('coronavirus')]\n",
    "# covid_df\n",
    "df_"
   ]
  },
  {
   "cell_type": "code",
   "execution_count": null,
   "metadata": {},
   "outputs": [],
   "source": [
    "covid_df.to_csv('../nyt_data_collection/fp_covid_articles.csv', index = False)"
   ]
  },
  {
   "cell_type": "code",
   "execution_count": null,
   "metadata": {},
   "outputs": [],
   "source": [
    "data_subset(df, \"coronavirus\")"
   ]
  },
  {
   "cell_type": "code",
   "execution_count": null,
   "metadata": {},
   "outputs": [],
   "source": [
    "covid_df = df[df['keywords'].str.lower().str.contains('coronavirus')]\n",
    "covid_df"
   ]
  },
  {
   "cell_type": "code",
   "execution_count": null,
   "metadata": {},
   "outputs": [],
   "source": [
    "covid_df.to_csv('../nyt_data_collection/covid_articles.csv', index = False)"
   ]
  },
  {
   "cell_type": "code",
   "execution_count": null,
   "metadata": {},
   "outputs": [],
   "source": [
    "keywords = list(set(keywords))"
   ]
  },
  {
   "cell_type": "code",
   "execution_count": null,
   "metadata": {},
   "outputs": [],
   "source": [
    "oil_df = df[df['keywords'].str.lower().str.contains('oil')]\n",
    "oil_df"
   ]
  },
  {
   "cell_type": "code",
   "execution_count": null,
   "metadata": {},
   "outputs": [],
   "source": [
    "oil_df.to_csv('../nyt_data_collection/oil_articles.csv', index = False)"
   ]
  },
  {
   "cell_type": "code",
   "execution_count": null,
   "metadata": {},
   "outputs": [],
   "source": [
    "golf_df = df[df['keywords'].str.lower().str.contains('masters golf')]\n",
    "golf_df"
   ]
  },
  {
   "cell_type": "code",
   "execution_count": null,
   "metadata": {},
   "outputs": [],
   "source": [
    "golf_df.to_csv('../nyt_data_collection/golf_articles.csv', index = False)"
   ]
  },
  {
   "cell_type": "code",
   "execution_count": null,
   "metadata": {},
   "outputs": [],
   "source": [
    "import pandas as pd\n",
    "pd.read_csv(\"home/jupyter/266/266_final/nyt_data_collection/fp_covid_articles.csv\")"
   ]
  },
  {
   "cell_type": "code",
   "execution_count": null,
   "metadata": {},
   "outputs": [],
   "source": []
  }
 ],
 "metadata": {
  "environment": {
   "name": "pytorch-gpu.1-7.m65",
   "type": "gcloud",
   "uri": "gcr.io/deeplearning-platform-release/pytorch-gpu.1-7:m65"
  },
  "kernelspec": {
   "display_name": "Python 3",
   "language": "python",
   "name": "python3"
  },
  "language_info": {
   "codemirror_mode": {
    "name": "ipython",
    "version": 3
   },
   "file_extension": ".py",
   "mimetype": "text/x-python",
   "name": "python",
   "nbconvert_exporter": "python",
   "pygments_lexer": "ipython3",
   "version": "3.8.3"
  }
 },
 "nbformat": 4,
 "nbformat_minor": 4
}
