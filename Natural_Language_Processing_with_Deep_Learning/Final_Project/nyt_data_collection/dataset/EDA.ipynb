{
 "metadata": {
  "language_info": {
   "codemirror_mode": {
    "name": "ipython",
    "version": 3
   },
   "file_extension": ".py",
   "mimetype": "text/x-python",
   "name": "python",
   "nbconvert_exporter": "python",
   "pygments_lexer": "ipython3",
   "version": "3.8.2-final"
  },
  "orig_nbformat": 2,
  "kernelspec": {
   "name": "python382jvsc74a57bd0f01f413ccceb0838a54db7a3b85e1fa80947b554ffa762be39bcb40f659a2043",
   "display_name": "Python 3.8.2 64-bit ('env')"
  },
  "metadata": {
   "interpreter": {
    "hash": "f01f413ccceb0838a54db7a3b85e1fa80947b554ffa762be39bcb40f659a2043"
   }
  }
 },
 "nbformat": 4,
 "nbformat_minor": 2,
 "cells": [
  {
   "cell_type": "code",
   "execution_count": 1,
   "metadata": {},
   "outputs": [],
   "source": [
    "import pandas as pd"
   ]
  },
  {
   "cell_type": "code",
   "execution_count": 2,
   "metadata": {},
   "outputs": [
    {
     "output_type": "execute_result",
     "data": {
      "text/plain": [
       "                                            headline        date doc_type  \\\n",
       "0  Trump’s Book Club: A President Who Doesn’t Rea...  2018-12-01  article   \n",
       "1  Kareem Hunt Is Cut by the Chiefs After a Video...  2018-12-01  article   \n",
       "2  Agency Pulls Back on Its Warning Against Talk ...  2018-12-01  article   \n",
       "3  A China Hawk Gains Prominence as Trump Confron...  2018-12-01  article   \n",
       "4                     Wilmer Flores Is a Met No More  2018-12-01  article   \n",
       "\n",
       "  material_type  section                                           abstract  \\\n",
       "0          News      NaN  President Trump, who is not a reader, has used...   \n",
       "1          News      NaN  Hunt, a star running back, was also suspended ...   \n",
       "2          News      NaN  Casual conversations about impeachment and inv...   \n",
       "3          News      NaN  Michael Pillsbury, the president’s top outside...   \n",
       "4          News      NaN  A fan favorite, Flores did not receive a contr...   \n",
       "\n",
       "                                     first_paragraph  \\\n",
       "0  WASHINGTON — President Trump, a leader who is ...   \n",
       "1  The Kansas City Chiefs cut their star running ...   \n",
       "2  WASHINGTON — An independent government agency,...   \n",
       "3  WASHINGTON — Michael Pillsbury had just finish...   \n",
       "4  The Mets parted ways with a fan favorite, Wilm...   \n",
       "\n",
       "                                            keywords  \\\n",
       "0  ['Books and Literature', 'United States Politi...   \n",
       "1                  ['Football', 'Domestic Violence']   \n",
       "2                               ['Hatch Act (1939)']   \n",
       "3  ['United States International Relations', 'Uni...   \n",
       "4                                       ['Baseball']   \n",
       "\n",
       "                                             web_url  \n",
       "0  https://www.nytimes.com/2018/11/30/us/politics...  \n",
       "1  https://www.nytimes.com/2018/11/30/sports/kare...  \n",
       "2  https://www.nytimes.com/2018/11/30/us/politics...  \n",
       "3  https://www.nytimes.com/2018/11/30/us/politics...  \n",
       "4  https://www.nytimes.com/2018/11/30/sports/wilm...  "
      ],
      "text/html": "<div>\n<style scoped>\n    .dataframe tbody tr th:only-of-type {\n        vertical-align: middle;\n    }\n\n    .dataframe tbody tr th {\n        vertical-align: top;\n    }\n\n    .dataframe thead th {\n        text-align: right;\n    }\n</style>\n<table border=\"1\" class=\"dataframe\">\n  <thead>\n    <tr style=\"text-align: right;\">\n      <th></th>\n      <th>headline</th>\n      <th>date</th>\n      <th>doc_type</th>\n      <th>material_type</th>\n      <th>section</th>\n      <th>abstract</th>\n      <th>first_paragraph</th>\n      <th>keywords</th>\n      <th>web_url</th>\n    </tr>\n  </thead>\n  <tbody>\n    <tr>\n      <th>0</th>\n      <td>Trump’s Book Club: A President Who Doesn’t Rea...</td>\n      <td>2018-12-01</td>\n      <td>article</td>\n      <td>News</td>\n      <td>NaN</td>\n      <td>President Trump, who is not a reader, has used...</td>\n      <td>WASHINGTON — President Trump, a leader who is ...</td>\n      <td>['Books and Literature', 'United States Politi...</td>\n      <td>https://www.nytimes.com/2018/11/30/us/politics...</td>\n    </tr>\n    <tr>\n      <th>1</th>\n      <td>Kareem Hunt Is Cut by the Chiefs After a Video...</td>\n      <td>2018-12-01</td>\n      <td>article</td>\n      <td>News</td>\n      <td>NaN</td>\n      <td>Hunt, a star running back, was also suspended ...</td>\n      <td>The Kansas City Chiefs cut their star running ...</td>\n      <td>['Football', 'Domestic Violence']</td>\n      <td>https://www.nytimes.com/2018/11/30/sports/kare...</td>\n    </tr>\n    <tr>\n      <th>2</th>\n      <td>Agency Pulls Back on Its Warning Against Talk ...</td>\n      <td>2018-12-01</td>\n      <td>article</td>\n      <td>News</td>\n      <td>NaN</td>\n      <td>Casual conversations about impeachment and inv...</td>\n      <td>WASHINGTON — An independent government agency,...</td>\n      <td>['Hatch Act (1939)']</td>\n      <td>https://www.nytimes.com/2018/11/30/us/politics...</td>\n    </tr>\n    <tr>\n      <th>3</th>\n      <td>A China Hawk Gains Prominence as Trump Confron...</td>\n      <td>2018-12-01</td>\n      <td>article</td>\n      <td>News</td>\n      <td>NaN</td>\n      <td>Michael Pillsbury, the president’s top outside...</td>\n      <td>WASHINGTON — Michael Pillsbury had just finish...</td>\n      <td>['United States International Relations', 'Uni...</td>\n      <td>https://www.nytimes.com/2018/11/30/us/politics...</td>\n    </tr>\n    <tr>\n      <th>4</th>\n      <td>Wilmer Flores Is a Met No More</td>\n      <td>2018-12-01</td>\n      <td>article</td>\n      <td>News</td>\n      <td>NaN</td>\n      <td>A fan favorite, Flores did not receive a contr...</td>\n      <td>The Mets parted ways with a fan favorite, Wilm...</td>\n      <td>['Baseball']</td>\n      <td>https://www.nytimes.com/2018/11/30/sports/wilm...</td>\n    </tr>\n  </tbody>\n</table>\n</div>"
     },
     "metadata": {},
     "execution_count": 2
    }
   ],
   "source": [
    "df = pd.read_csv('full_nyt_dataset_raw.csv')\n",
    "df.head()"
   ]
  },
  {
   "cell_type": "code",
   "execution_count": 4,
   "metadata": {},
   "outputs": [
    {
     "output_type": "execute_result",
     "data": {
      "text/plain": [
       "198833"
      ]
     },
     "metadata": {},
     "execution_count": 4
    }
   ],
   "source": [
    "n = len(df)\n",
    "n"
   ]
  },
  {
   "source": [
    "## Percent without First Paragraph"
   ],
   "cell_type": "markdown",
   "metadata": {}
  },
  {
   "cell_type": "code",
   "execution_count": 45,
   "metadata": {},
   "outputs": [
    {
     "output_type": "execute_result",
     "data": {
      "text/plain": [
       "                           headline        date doc_type material_type  \\\n",
       "135             Word + Quiz: enigma  2018-12-03  article          News   \n",
       "261              Word + Quiz: pique  2018-12-04  article          News   \n",
       "403           Word + Quiz: detritus  2018-12-05  article          News   \n",
       "518          Word + Quiz: egregious  2018-12-06  article          News   \n",
       "673        Word + Quiz: peregrinate  2018-12-07  article          News   \n",
       "...                             ...         ...      ...           ...   \n",
       "197905          Word + Quiz: sodden  2017-03-24  article          News   \n",
       "198201       Word + Quiz: hortatory  2017-03-27  article          News   \n",
       "198322       Word + Quiz: burlesque  2017-03-28  article          News   \n",
       "198426     Word + Quiz: discrepancy  2017-03-29  article          News   \n",
       "198551  Word + Quiz: supposititious  2017-03-30  article          News   \n",
       "\n",
       "        section                                           abstract  \\\n",
       "135         NaN  This word has appeared in 112 articles on NYTi...   \n",
       "261         NaN  This word has appeared in 199 articles on NYTi...   \n",
       "403         NaN  This word has appeared in 86 articles on NYTim...   \n",
       "518         NaN  This word has appeared in 334 articles on NYTi...   \n",
       "673         NaN  This word has appeared in 39 articles on NYTim...   \n",
       "...         ...                                                ...   \n",
       "197905      NaN  This word has appeared in 29 New York Times ar...   \n",
       "198201      NaN  This word has appeared in six New York Times a...   \n",
       "198322      NaN  This word has appeared in six New York Times a...   \n",
       "198426      NaN  This word has appeared in 153 New York Times a...   \n",
       "198551      NaN  This word has appeared in three New York Times...   \n",
       "\n",
       "       first_paragraph keywords  \\\n",
       "135          _________       []   \n",
       "261          _________       []   \n",
       "403          _________       []   \n",
       "518          _________       []   \n",
       "673          _________       []   \n",
       "...                ...      ...   \n",
       "197905       _________       []   \n",
       "198201       _________       []   \n",
       "198322       _________       []   \n",
       "198426       _________       []   \n",
       "198551       _________       []   \n",
       "\n",
       "                                                  web_url  \n",
       "135     https://www.nytimes.com/2018/12/03/learning/03...  \n",
       "261     https://www.nytimes.com/2018/12/04/learning/04...  \n",
       "403     https://www.nytimes.com/2018/12/05/learning/05...  \n",
       "518     https://www.nytimes.com/2018/12/06/learning/06...  \n",
       "673     https://www.nytimes.com/2018/12/07/learning/07...  \n",
       "...                                                   ...  \n",
       "197905  https://www.nytimes.com/2017/03/24/learning/24...  \n",
       "198201  https://www.nytimes.com/2017/03/27/learning/27...  \n",
       "198322  https://www.nytimes.com/2017/03/28/learning/28...  \n",
       "198426  https://www.nytimes.com/2017/03/29/learning/29...  \n",
       "198551  https://www.nytimes.com/2017/03/30/learning/30...  \n",
       "\n",
       "[1244 rows x 9 columns]"
      ],
      "text/html": "<div>\n<style scoped>\n    .dataframe tbody tr th:only-of-type {\n        vertical-align: middle;\n    }\n\n    .dataframe tbody tr th {\n        vertical-align: top;\n    }\n\n    .dataframe thead th {\n        text-align: right;\n    }\n</style>\n<table border=\"1\" class=\"dataframe\">\n  <thead>\n    <tr style=\"text-align: right;\">\n      <th></th>\n      <th>headline</th>\n      <th>date</th>\n      <th>doc_type</th>\n      <th>material_type</th>\n      <th>section</th>\n      <th>abstract</th>\n      <th>first_paragraph</th>\n      <th>keywords</th>\n      <th>web_url</th>\n    </tr>\n  </thead>\n  <tbody>\n    <tr>\n      <th>135</th>\n      <td>Word + Quiz: enigma</td>\n      <td>2018-12-03</td>\n      <td>article</td>\n      <td>News</td>\n      <td>NaN</td>\n      <td>This word has appeared in 112 articles on NYTi...</td>\n      <td>_________</td>\n      <td>[]</td>\n      <td>https://www.nytimes.com/2018/12/03/learning/03...</td>\n    </tr>\n    <tr>\n      <th>261</th>\n      <td>Word + Quiz: pique</td>\n      <td>2018-12-04</td>\n      <td>article</td>\n      <td>News</td>\n      <td>NaN</td>\n      <td>This word has appeared in 199 articles on NYTi...</td>\n      <td>_________</td>\n      <td>[]</td>\n      <td>https://www.nytimes.com/2018/12/04/learning/04...</td>\n    </tr>\n    <tr>\n      <th>403</th>\n      <td>Word + Quiz: detritus</td>\n      <td>2018-12-05</td>\n      <td>article</td>\n      <td>News</td>\n      <td>NaN</td>\n      <td>This word has appeared in 86 articles on NYTim...</td>\n      <td>_________</td>\n      <td>[]</td>\n      <td>https://www.nytimes.com/2018/12/05/learning/05...</td>\n    </tr>\n    <tr>\n      <th>518</th>\n      <td>Word + Quiz: egregious</td>\n      <td>2018-12-06</td>\n      <td>article</td>\n      <td>News</td>\n      <td>NaN</td>\n      <td>This word has appeared in 334 articles on NYTi...</td>\n      <td>_________</td>\n      <td>[]</td>\n      <td>https://www.nytimes.com/2018/12/06/learning/06...</td>\n    </tr>\n    <tr>\n      <th>673</th>\n      <td>Word + Quiz: peregrinate</td>\n      <td>2018-12-07</td>\n      <td>article</td>\n      <td>News</td>\n      <td>NaN</td>\n      <td>This word has appeared in 39 articles on NYTim...</td>\n      <td>_________</td>\n      <td>[]</td>\n      <td>https://www.nytimes.com/2018/12/07/learning/07...</td>\n    </tr>\n    <tr>\n      <th>...</th>\n      <td>...</td>\n      <td>...</td>\n      <td>...</td>\n      <td>...</td>\n      <td>...</td>\n      <td>...</td>\n      <td>...</td>\n      <td>...</td>\n      <td>...</td>\n    </tr>\n    <tr>\n      <th>197905</th>\n      <td>Word + Quiz: sodden</td>\n      <td>2017-03-24</td>\n      <td>article</td>\n      <td>News</td>\n      <td>NaN</td>\n      <td>This word has appeared in 29 New York Times ar...</td>\n      <td>_________</td>\n      <td>[]</td>\n      <td>https://www.nytimes.com/2017/03/24/learning/24...</td>\n    </tr>\n    <tr>\n      <th>198201</th>\n      <td>Word + Quiz: hortatory</td>\n      <td>2017-03-27</td>\n      <td>article</td>\n      <td>News</td>\n      <td>NaN</td>\n      <td>This word has appeared in six New York Times a...</td>\n      <td>_________</td>\n      <td>[]</td>\n      <td>https://www.nytimes.com/2017/03/27/learning/27...</td>\n    </tr>\n    <tr>\n      <th>198322</th>\n      <td>Word + Quiz: burlesque</td>\n      <td>2017-03-28</td>\n      <td>article</td>\n      <td>News</td>\n      <td>NaN</td>\n      <td>This word has appeared in six New York Times a...</td>\n      <td>_________</td>\n      <td>[]</td>\n      <td>https://www.nytimes.com/2017/03/28/learning/28...</td>\n    </tr>\n    <tr>\n      <th>198426</th>\n      <td>Word + Quiz: discrepancy</td>\n      <td>2017-03-29</td>\n      <td>article</td>\n      <td>News</td>\n      <td>NaN</td>\n      <td>This word has appeared in 153 New York Times a...</td>\n      <td>_________</td>\n      <td>[]</td>\n      <td>https://www.nytimes.com/2017/03/29/learning/29...</td>\n    </tr>\n    <tr>\n      <th>198551</th>\n      <td>Word + Quiz: supposititious</td>\n      <td>2017-03-30</td>\n      <td>article</td>\n      <td>News</td>\n      <td>NaN</td>\n      <td>This word has appeared in three New York Times...</td>\n      <td>_________</td>\n      <td>[]</td>\n      <td>https://www.nytimes.com/2017/03/30/learning/30...</td>\n    </tr>\n  </tbody>\n</table>\n<p>1244 rows × 9 columns</p>\n</div>"
     },
     "metadata": {},
     "execution_count": 45
    }
   ],
   "source": [
    "# dataset with less than 20 characters considered insufficient for first paragraph\n",
    "no_first_paragraph = df[df['first_paragraph'].str.len() <= 10]\n",
    "n_no_first_paragraph = len(no_first_paragraph)\n",
    "no_first_paragraph"
   ]
  },
  {
   "cell_type": "code",
   "execution_count": 55,
   "metadata": {},
   "outputs": [
    {
     "output_type": "execute_result",
     "data": {
      "text/plain": [
       "1244"
      ]
     },
     "metadata": {},
     "execution_count": 55
    }
   ],
   "source": [
    "n_no_first_paragraph"
   ]
  },
  {
   "cell_type": "code",
   "execution_count": 46,
   "metadata": {},
   "outputs": [
    {
     "output_type": "execute_result",
     "data": {
      "text/plain": [
       "0.6256506716691898"
      ]
     },
     "metadata": {},
     "execution_count": 46
    }
   ],
   "source": [
    "pct_no_first_paragraph = n_no_first_paragraph/n *100\n",
    "pct_no_first_paragraph"
   ]
  },
  {
   "source": [
    "## Percent without Abstract"
   ],
   "cell_type": "markdown",
   "metadata": {}
  },
  {
   "cell_type": "code",
   "execution_count": 54,
   "metadata": {},
   "outputs": [
    {
     "output_type": "execute_result",
     "data": {
      "text/plain": [
       "                                                 headline        date  \\\n",
       "1358         5 Cheap(ish) Things for Cold Weather Running  2018-12-13   \n",
       "2047        5 Cheap(ish) Things for a Romantic Date Night  2018-12-20   \n",
       "11924                         Wait … Is Twitter Good Now?  2020-04-22   \n",
       "33107   A devastated Native American community shows t...  2020-10-08   \n",
       "33120                      Today’s polls, as we get them.  2020-10-08   \n",
       "34133                      Today’s polls, as we get them.  2020-10-16   \n",
       "46175                  Why Does My Kid Prefer My Partner?  2020-03-04   \n",
       "53694   Her Ex Won’t Stop Texting. And That Makes Me t...  2019-06-13   \n",
       "57183             Friday Night Music: Dakhabrakha in Kyiv  2017-09-15   \n",
       "65429                  We’re Still Smarter Than Computers  2020-11-25   \n",
       "97295   Tassi the Goat Gives Birth to Goat Twins Durin...  2018-05-24   \n",
       "102513       Police Misconduct & Racial Injustice in 2020  2021-03-11   \n",
       "152592                               Challenge With Gusto  2017-12-02   \n",
       "153804  New Trailer: ‘The 15:17 to Paris,’ From Clint ...  2017-12-13   \n",
       "158699        Rebuilding After Sandy: One Brick at a Time  2017-10-29   \n",
       "161146  New Trailer: ‘A Wrinkle in Time,’ From Ava DuV...  2017-11-20   \n",
       "169521  The Most Instagrammable Neighborhood in Americ...  2019-09-12   \n",
       "189295  In a closely watched New Hampshire primary, De...  2020-09-08   \n",
       "195443                                         Not needed  2017-03-02   \n",
       "\n",
       "       doc_type material_type  section    abstract  \\\n",
       "1358    article          News      NaN    Brrrrr.    \n",
       "2047    article          News      NaN   Cuuuuute!   \n",
       "11924   article          News      NaN    Sort of.   \n",
       "33107   article          News      NaN           .   \n",
       "33120   article          News      NaN      Oct. 8   \n",
       "34133   article          News      NaN     Oct. 16   \n",
       "46175   article          News      NaN       Rude.   \n",
       "53694   article          News      NaN  Not quite.   \n",
       "57183   article          News      NaN       Hats!   \n",
       "65429   article          News      NaN    For now.   \n",
       "97295   article          News      NaN   Surprise!   \n",
       "102513  article          News      NaN               \n",
       "152592  article          News      NaN  Mark Diehl   \n",
       "153804  article          News      NaN         The   \n",
       "158699  article          News      NaN    Business   \n",
       "161146  article          News      NaN         Ava   \n",
       "169521  article          News      NaN      #dumbo   \n",
       "189295  article          News      NaN         the   \n",
       "195443  article          News      NaN  Not needed   \n",
       "\n",
       "                                          first_paragraph  \\\n",
       "1358    Welcome to the Smarter Living newsletter! Sign...   \n",
       "2047    Welcome to the Smarter Living newsletter. We e...   \n",
       "11924   We spend a lot of our days chatting with each ...   \n",
       "33107   The coronavirus has torn through the Mississip...   \n",
       "33120                                              Oct. 8   \n",
       "34133                                             Oct. 16   \n",
       "46175   A lot of parenting questions boil down to: Is ...   \n",
       "53694   My girlfriend and I have been dating for six m...   \n",
       "57183   Since that’s where I am at the moment. It is, ...   \n",
       "65429   This article is part of the On Tech newsletter...   \n",
       "97295   Megan Kibby, 33, said she never expected to be...   \n",
       "102513  Rarely has deadly police misconduct been so gr...   \n",
       "152592  SATURDAY PUZZLE — A brief one today, because I...   \n",
       "153804  In 2016, the director Clint Eastwood dramatize...   \n",
       "158699  Five years after New York City’s deadliest hur...   \n",
       "161146  Even though Ava DuVernay’s name isn’t seen unt...   \n",
       "169521  The view of the Manhattan Bridge from Dumbo ha...   \n",
       "189295  Democratic primary voters in New Hampshire wil...   \n",
       "195443  Articles in this series will look at steps bei...   \n",
       "\n",
       "                                                 keywords  \\\n",
       "1358                               ['Gifts', 'Christmas']   \n",
       "2047                                                   []   \n",
       "11924      ['Social Media', 'Computers and the Internet']   \n",
       "33107                              ['internal-essential']   \n",
       "33120                                                  []   \n",
       "34133                                                  []   \n",
       "46175   ['Parenting', 'Children and Childhood', 'Psych...   \n",
       "53694                  ['Customs, Etiquette and Manners']   \n",
       "57183                                                  []   \n",
       "65429           ['Television', 'Artificial Intelligence']   \n",
       "97295                                  ['Goats', 'Twins']   \n",
       "102513                                                 []   \n",
       "152592                              ['Crossword Puzzles']   \n",
       "153804                                         ['Movies']   \n",
       "158699  ['Hurricane Sandy (2012)', 'Real Estate and Ho...   \n",
       "161146                                         ['Movies']   \n",
       "169521  ['Real Estate and Housing (Residential)', 'His...   \n",
       "189295                                                 []   \n",
       "195443                                         ['Floods']   \n",
       "\n",
       "                                                  web_url  \n",
       "1358    https://www.nytimes.com/2018/12/13/smarter-liv...  \n",
       "2047    https://www.nytimes.com/2018/12/19/smarter-liv...  \n",
       "11924   https://www.nytimes.com/2020/04/22/style/twitt...  \n",
       "33107   https://www.nytimes.com/2020/10/08/world/a-dev...  \n",
       "33120   https://www.nytimes.com/2020/10/08/upshot/toda...  \n",
       "34133   https://www.nytimes.com/2020/10/16/upshot/toda...  \n",
       "46175   https://www.nytimes.com/2020/03/04/parenting/w...  \n",
       "53694   https://www.nytimes.com/2019/06/13/style/ex-bo...  \n",
       "57183   https://krugman.blogs.nytimes.com/2017/09/15/f...  \n",
       "65429   https://www.nytimes.com/2020/11/25/technology/...  \n",
       "97295   https://www.nytimes.com/2018/05/24/style/goat-...  \n",
       "102513  https://www.nytimes.com/2021/03/11/video/ZRfl8...  \n",
       "152592  https://www.nytimes.com/2017/12/01/crosswords/...  \n",
       "153804  https://www.nytimes.com/2017/12/13/movies/trai...  \n",
       "158699  https://www.nytimes.com/2017/10/29/nyregion/hu...  \n",
       "161146  https://www.nytimes.com/2017/11/19/movies/a-wr...  \n",
       "169521  https://www.nytimes.com/2019/09/12/nyregion/th...  \n",
       "189295  https://www.nytimes.com/2020/09/08/us/election...  \n",
       "195443  https://www.nytimes.com/2017/03/02/nyregion/no...  "
      ],
      "text/html": "<div>\n<style scoped>\n    .dataframe tbody tr th:only-of-type {\n        vertical-align: middle;\n    }\n\n    .dataframe tbody tr th {\n        vertical-align: top;\n    }\n\n    .dataframe thead th {\n        text-align: right;\n    }\n</style>\n<table border=\"1\" class=\"dataframe\">\n  <thead>\n    <tr style=\"text-align: right;\">\n      <th></th>\n      <th>headline</th>\n      <th>date</th>\n      <th>doc_type</th>\n      <th>material_type</th>\n      <th>section</th>\n      <th>abstract</th>\n      <th>first_paragraph</th>\n      <th>keywords</th>\n      <th>web_url</th>\n    </tr>\n  </thead>\n  <tbody>\n    <tr>\n      <th>1358</th>\n      <td>5 Cheap(ish) Things for Cold Weather Running</td>\n      <td>2018-12-13</td>\n      <td>article</td>\n      <td>News</td>\n      <td>NaN</td>\n      <td>Brrrrr.</td>\n      <td>Welcome to the Smarter Living newsletter! Sign...</td>\n      <td>['Gifts', 'Christmas']</td>\n      <td>https://www.nytimes.com/2018/12/13/smarter-liv...</td>\n    </tr>\n    <tr>\n      <th>2047</th>\n      <td>5 Cheap(ish) Things for a Romantic Date Night</td>\n      <td>2018-12-20</td>\n      <td>article</td>\n      <td>News</td>\n      <td>NaN</td>\n      <td>Cuuuuute!</td>\n      <td>Welcome to the Smarter Living newsletter. We e...</td>\n      <td>[]</td>\n      <td>https://www.nytimes.com/2018/12/19/smarter-liv...</td>\n    </tr>\n    <tr>\n      <th>11924</th>\n      <td>Wait … Is Twitter Good Now?</td>\n      <td>2020-04-22</td>\n      <td>article</td>\n      <td>News</td>\n      <td>NaN</td>\n      <td>Sort of.</td>\n      <td>We spend a lot of our days chatting with each ...</td>\n      <td>['Social Media', 'Computers and the Internet']</td>\n      <td>https://www.nytimes.com/2020/04/22/style/twitt...</td>\n    </tr>\n    <tr>\n      <th>33107</th>\n      <td>A devastated Native American community shows t...</td>\n      <td>2020-10-08</td>\n      <td>article</td>\n      <td>News</td>\n      <td>NaN</td>\n      <td>.</td>\n      <td>The coronavirus has torn through the Mississip...</td>\n      <td>['internal-essential']</td>\n      <td>https://www.nytimes.com/2020/10/08/world/a-dev...</td>\n    </tr>\n    <tr>\n      <th>33120</th>\n      <td>Today’s polls, as we get them.</td>\n      <td>2020-10-08</td>\n      <td>article</td>\n      <td>News</td>\n      <td>NaN</td>\n      <td>Oct. 8</td>\n      <td>Oct. 8</td>\n      <td>[]</td>\n      <td>https://www.nytimes.com/2020/10/08/upshot/toda...</td>\n    </tr>\n    <tr>\n      <th>34133</th>\n      <td>Today’s polls, as we get them.</td>\n      <td>2020-10-16</td>\n      <td>article</td>\n      <td>News</td>\n      <td>NaN</td>\n      <td>Oct. 16</td>\n      <td>Oct. 16</td>\n      <td>[]</td>\n      <td>https://www.nytimes.com/2020/10/16/upshot/toda...</td>\n    </tr>\n    <tr>\n      <th>46175</th>\n      <td>Why Does My Kid Prefer My Partner?</td>\n      <td>2020-03-04</td>\n      <td>article</td>\n      <td>News</td>\n      <td>NaN</td>\n      <td>Rude.</td>\n      <td>A lot of parenting questions boil down to: Is ...</td>\n      <td>['Parenting', 'Children and Childhood', 'Psych...</td>\n      <td>https://www.nytimes.com/2020/03/04/parenting/w...</td>\n    </tr>\n    <tr>\n      <th>53694</th>\n      <td>Her Ex Won’t Stop Texting. And That Makes Me t...</td>\n      <td>2019-06-13</td>\n      <td>article</td>\n      <td>News</td>\n      <td>NaN</td>\n      <td>Not quite.</td>\n      <td>My girlfriend and I have been dating for six m...</td>\n      <td>['Customs, Etiquette and Manners']</td>\n      <td>https://www.nytimes.com/2019/06/13/style/ex-bo...</td>\n    </tr>\n    <tr>\n      <th>57183</th>\n      <td>Friday Night Music: Dakhabrakha in Kyiv</td>\n      <td>2017-09-15</td>\n      <td>article</td>\n      <td>News</td>\n      <td>NaN</td>\n      <td>Hats!</td>\n      <td>Since that’s where I am at the moment. It is, ...</td>\n      <td>[]</td>\n      <td>https://krugman.blogs.nytimes.com/2017/09/15/f...</td>\n    </tr>\n    <tr>\n      <th>65429</th>\n      <td>We’re Still Smarter Than Computers</td>\n      <td>2020-11-25</td>\n      <td>article</td>\n      <td>News</td>\n      <td>NaN</td>\n      <td>For now.</td>\n      <td>This article is part of the On Tech newsletter...</td>\n      <td>['Television', 'Artificial Intelligence']</td>\n      <td>https://www.nytimes.com/2020/11/25/technology/...</td>\n    </tr>\n    <tr>\n      <th>97295</th>\n      <td>Tassi the Goat Gives Birth to Goat Twins Durin...</td>\n      <td>2018-05-24</td>\n      <td>article</td>\n      <td>News</td>\n      <td>NaN</td>\n      <td>Surprise!</td>\n      <td>Megan Kibby, 33, said she never expected to be...</td>\n      <td>['Goats', 'Twins']</td>\n      <td>https://www.nytimes.com/2018/05/24/style/goat-...</td>\n    </tr>\n    <tr>\n      <th>102513</th>\n      <td>Police Misconduct &amp; Racial Injustice in 2020</td>\n      <td>2021-03-11</td>\n      <td>article</td>\n      <td>News</td>\n      <td>NaN</td>\n      <td></td>\n      <td>Rarely has deadly police misconduct been so gr...</td>\n      <td>[]</td>\n      <td>https://www.nytimes.com/2021/03/11/video/ZRfl8...</td>\n    </tr>\n    <tr>\n      <th>152592</th>\n      <td>Challenge With Gusto</td>\n      <td>2017-12-02</td>\n      <td>article</td>\n      <td>News</td>\n      <td>NaN</td>\n      <td>Mark Diehl</td>\n      <td>SATURDAY PUZZLE — A brief one today, because I...</td>\n      <td>['Crossword Puzzles']</td>\n      <td>https://www.nytimes.com/2017/12/01/crosswords/...</td>\n    </tr>\n    <tr>\n      <th>153804</th>\n      <td>New Trailer: ‘The 15:17 to Paris,’ From Clint ...</td>\n      <td>2017-12-13</td>\n      <td>article</td>\n      <td>News</td>\n      <td>NaN</td>\n      <td>The</td>\n      <td>In 2016, the director Clint Eastwood dramatize...</td>\n      <td>['Movies']</td>\n      <td>https://www.nytimes.com/2017/12/13/movies/trai...</td>\n    </tr>\n    <tr>\n      <th>158699</th>\n      <td>Rebuilding After Sandy: One Brick at a Time</td>\n      <td>2017-10-29</td>\n      <td>article</td>\n      <td>News</td>\n      <td>NaN</td>\n      <td>Business</td>\n      <td>Five years after New York City’s deadliest hur...</td>\n      <td>['Hurricane Sandy (2012)', 'Real Estate and Ho...</td>\n      <td>https://www.nytimes.com/2017/10/29/nyregion/hu...</td>\n    </tr>\n    <tr>\n      <th>161146</th>\n      <td>New Trailer: ‘A Wrinkle in Time,’ From Ava DuV...</td>\n      <td>2017-11-20</td>\n      <td>article</td>\n      <td>News</td>\n      <td>NaN</td>\n      <td>Ava</td>\n      <td>Even though Ava DuVernay’s name isn’t seen unt...</td>\n      <td>['Movies']</td>\n      <td>https://www.nytimes.com/2017/11/19/movies/a-wr...</td>\n    </tr>\n    <tr>\n      <th>169521</th>\n      <td>The Most Instagrammable Neighborhood in Americ...</td>\n      <td>2019-09-12</td>\n      <td>article</td>\n      <td>News</td>\n      <td>NaN</td>\n      <td>#dumbo</td>\n      <td>The view of the Manhattan Bridge from Dumbo ha...</td>\n      <td>['Real Estate and Housing (Residential)', 'His...</td>\n      <td>https://www.nytimes.com/2019/09/12/nyregion/th...</td>\n    </tr>\n    <tr>\n      <th>189295</th>\n      <td>In a closely watched New Hampshire primary, De...</td>\n      <td>2020-09-08</td>\n      <td>article</td>\n      <td>News</td>\n      <td>NaN</td>\n      <td>the</td>\n      <td>Democratic primary voters in New Hampshire wil...</td>\n      <td>[]</td>\n      <td>https://www.nytimes.com/2020/09/08/us/election...</td>\n    </tr>\n    <tr>\n      <th>195443</th>\n      <td>Not needed</td>\n      <td>2017-03-02</td>\n      <td>article</td>\n      <td>News</td>\n      <td>NaN</td>\n      <td>Not needed</td>\n      <td>Articles in this series will look at steps bei...</td>\n      <td>['Floods']</td>\n      <td>https://www.nytimes.com/2017/03/02/nyregion/no...</td>\n    </tr>\n  </tbody>\n</table>\n</div>"
     },
     "metadata": {},
     "execution_count": 54
    }
   ],
   "source": [
    "no_abstract = df[df['abstract'].str.len() <= 10]\n",
    "n_no_abstract = len(no_abstract)\n",
    "no_abstract"
   ]
  },
  {
   "cell_type": "code",
   "execution_count": 53,
   "metadata": {},
   "outputs": [
    {
     "output_type": "stream",
     "name": "stdout",
     "text": [
      "19\n"
     ]
    }
   ],
   "source": [
    "print(n_no_abstract)"
   ]
  },
  {
   "cell_type": "code",
   "execution_count": 48,
   "metadata": {},
   "outputs": [
    {
     "output_type": "execute_result",
     "data": {
      "text/plain": [
       "0.009555757847037464"
      ]
     },
     "metadata": {},
     "execution_count": 48
    }
   ],
   "source": [
    "pct_no_abstract = n_no_abstract/n *100\n",
    "pct_no_abstract"
   ]
  },
  {
   "cell_type": "code",
   "execution_count": 43,
   "metadata": {},
   "outputs": [
    {
     "output_type": "execute_result",
     "data": {
      "text/plain": [
       "                             headline        date doc_type material_type  \\\n",
       "33120  Today’s polls, as we get them.  2020-10-08  article          News   \n",
       "34133  Today’s polls, as we get them.  2020-10-16  article          News   \n",
       "\n",
       "       section abstract first_paragraph keywords  \\\n",
       "33120      NaN   Oct. 8          Oct. 8       []   \n",
       "34133      NaN  Oct. 16         Oct. 16       []   \n",
       "\n",
       "                                                 web_url  \n",
       "33120  https://www.nytimes.com/2020/10/08/upshot/toda...  \n",
       "34133  https://www.nytimes.com/2020/10/16/upshot/toda...  "
      ],
      "text/html": "<div>\n<style scoped>\n    .dataframe tbody tr th:only-of-type {\n        vertical-align: middle;\n    }\n\n    .dataframe tbody tr th {\n        vertical-align: top;\n    }\n\n    .dataframe thead th {\n        text-align: right;\n    }\n</style>\n<table border=\"1\" class=\"dataframe\">\n  <thead>\n    <tr style=\"text-align: right;\">\n      <th></th>\n      <th>headline</th>\n      <th>date</th>\n      <th>doc_type</th>\n      <th>material_type</th>\n      <th>section</th>\n      <th>abstract</th>\n      <th>first_paragraph</th>\n      <th>keywords</th>\n      <th>web_url</th>\n    </tr>\n  </thead>\n  <tbody>\n    <tr>\n      <th>33120</th>\n      <td>Today’s polls, as we get them.</td>\n      <td>2020-10-08</td>\n      <td>article</td>\n      <td>News</td>\n      <td>NaN</td>\n      <td>Oct. 8</td>\n      <td>Oct. 8</td>\n      <td>[]</td>\n      <td>https://www.nytimes.com/2020/10/08/upshot/toda...</td>\n    </tr>\n    <tr>\n      <th>34133</th>\n      <td>Today’s polls, as we get them.</td>\n      <td>2020-10-16</td>\n      <td>article</td>\n      <td>News</td>\n      <td>NaN</td>\n      <td>Oct. 16</td>\n      <td>Oct. 16</td>\n      <td>[]</td>\n      <td>https://www.nytimes.com/2020/10/16/upshot/toda...</td>\n    </tr>\n  </tbody>\n</table>\n</div>"
     },
     "metadata": {},
     "execution_count": 43
    }
   ],
   "source": [
    "missing_both = df[(df['first_paragraph'].str.len() <= 10) & (df['abstract'].str.len() <= 10)]\n",
    "n_missing_both = len(missing_both)\n",
    "missing_both"
   ]
  },
  {
   "cell_type": "code",
   "execution_count": 44,
   "metadata": {},
   "outputs": [
    {
     "output_type": "execute_result",
     "data": {
      "text/plain": [
       "0.001005869247056575"
      ]
     },
     "metadata": {},
     "execution_count": 44
    }
   ],
   "source": [
    "pct_missing_both = n_missing_both/n *100\n",
    "pct_missing_both"
   ]
  },
  {
   "source": [
    "# Final Data Set For Model Use"
   ],
   "cell_type": "markdown",
   "metadata": {}
  },
  {
   "cell_type": "code",
   "execution_count": 80,
   "metadata": {},
   "outputs": [
    {
     "output_type": "execute_result",
     "data": {
      "text/plain": [
       "1265"
      ]
     },
     "metadata": {},
     "execution_count": 80
    }
   ],
   "source": [
    "# Getting indicies of data to be dropped\n",
    "a_idx = no_abstract.index.to_list()\n",
    "idx = no_first_paragraph.index.to_list()\n",
    "both_idx = missing_both.index.to_list()\n",
    "for i in a_idx:\n",
    "    idx.append(i)\n",
    "for i in both_idx:\n",
    "    idx.append(i)\n",
    "len(idx)"
   ]
  },
  {
   "cell_type": "code",
   "execution_count": 82,
   "metadata": {},
   "outputs": [
    {
     "output_type": "execute_result",
     "data": {
      "text/plain": [
       "(197572, 9)"
      ]
     },
     "metadata": {},
     "execution_count": 82
    }
   ],
   "source": [
    "final_data = df.drop(idx)\n",
    "final_data.shape"
   ]
  },
  {
   "cell_type": "code",
   "execution_count": 83,
   "metadata": {},
   "outputs": [],
   "source": [
    "final_data.to_csv('full_nyt_dataset.csv', index = False)"
   ]
  },
  {
   "cell_type": "code",
   "execution_count": null,
   "metadata": {},
   "outputs": [],
   "source": []
  }
 ]
}