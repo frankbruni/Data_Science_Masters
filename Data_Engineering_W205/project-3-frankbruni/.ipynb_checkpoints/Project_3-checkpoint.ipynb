{
 "cells": [
  {
   "cell_type": "markdown",
   "metadata": {},
   "source": [
    "# Week 11"
   ]
  },
  {
   "cell_type": "markdown",
   "metadata": {},
   "source": [
    "#### copy in yml and game file:\n",
    "\n",
    "`cp ~/w205/course-content/11-Storing-Data-III/docker-compose.yml .`\n",
    "\n",
    "`cp ~/w205/course-content/11-Storing-Data-III/game_api.py .`\n",
    "\n",
    "#### bring up cluster\n",
    "\n",
    "`docker-compose up -d` \n",
    "\n",
    "`docker ps -a`\n",
    "\n",
    "#### create spark jupyter connection\n",
    "\n",
    "`docker-compose exec spark bash`\n",
    "\n",
    "`ln -s /w205 w205`\n",
    "\n",
    "`exit`\n",
    "\n",
    "#### create topic\n",
    "`docker-compose exec kafka kafka-topics --create --topic events --partitions 1 --replication-factor 1 --if-not-exists --zookeeper zookeeper:32181`\n",
    "\n",
    "#### run flask and game events\n",
    "\n",
    "`docker-compose exec mids env FLASK_APP=/w205/project-3-frankbruni/game_api.py flask run --host 0.0.0.0`\n",
    "\n",
    "`docker-compose exec mids curl http://localhost:5000/`\n",
    "\n",
    "`docker-compose exec mids curl http://localhost:5000/purchase_a_sword`\n",
    "\n",
    "`docker-compose exec mids curl http://localhost:5000/buy_a_sword`\n",
    "\n",
    "`docker-compose exec mids curl http://localhost:5000/join_guild`\n",
    "\n",
    "#### open jupyter notebook\n",
    "\n",
    "`docker-compose exec spark env PYSPARK_DRIVER_PYTHON=jupyter PYSPARK_DRIVER_PYTHON_OPTS='notebook --no-browser --port 8888 --ip 0.0.0.0 --allow-root' pyspark`"
   ]
  },
  {
   "cell_type": "code",
   "execution_count": 1,
   "metadata": {
    "collapsed": true
   },
   "outputs": [],
   "source": [
    "import json\n",
    "from pyspark.sql import Row\n",
    "from pyspark.sql.functions import udf"
   ]
  },
  {
   "cell_type": "code",
   "execution_count": 3,
   "metadata": {
    "collapsed": true
   },
   "outputs": [],
   "source": [
    "@udf('string')\n",
    "def munge_event(event_as_json):\n",
    "    event = json.loads(event_as_json)\n",
    "    event['Host'] = \"moe\"\n",
    "    event['Cache-Control'] = \"no-cache\"\n",
    "    return json.dumps(event)"
   ]
  },
  {
   "cell_type": "code",
   "execution_count": 4,
   "metadata": {
    "collapsed": true
   },
   "outputs": [],
   "source": [
    "raw_events = spark \\\n",
    "        .read \\\n",
    "        .format(\"kafka\") \\\n",
    "        .option(\"kafka.bootstrap.servers\", \"kafka:29092\") \\\n",
    "        .option(\"subscribe\", \"events\") \\\n",
    "        .option(\"startingOffsets\", \"earliest\") \\\n",
    "        .option(\"endingOffsets\", \"latest\") \\\n",
    "        .load()"
   ]
  },
  {
   "cell_type": "code",
   "execution_count": 6,
   "metadata": {},
   "outputs": [
    {
     "name": "stdout",
     "output_type": "stream",
     "text": [
      "+----+--------------------+------+---------+------+--------------------+-------------+\n",
      "| key|               value| topic|partition|offset|           timestamp|timestampType|\n",
      "+----+--------------------+------+---------+------+--------------------+-------------+\n",
      "|null|[7B 22 48 6F 73 7...|events|        0|     0|2020-12-06 00:29:...|            0|\n",
      "|null|[7B 22 48 6F 73 7...|events|        0|     1|2020-12-06 00:29:...|            0|\n",
      "|null|[7B 22 48 6F 73 7...|events|        0|     2|2020-12-06 00:29:...|            0|\n",
      "|null|[7B 22 41 63 63 6...|events|        0|     3|2020-12-06 00:29:...|            0|\n",
      "+----+--------------------+------+---------+------+--------------------+-------------+\n",
      "\n"
     ]
    }
   ],
   "source": [
    "raw_events.show()"
   ]
  },
  {
   "cell_type": "code",
   "execution_count": 5,
   "metadata": {
    "collapsed": true
   },
   "outputs": [],
   "source": [
    "munged_events = raw_events \\\n",
    "        .select(raw_events.value.cast('string').alias('raw'),\n",
    "                raw_events.timestamp.cast('string')) \\\n",
    "        .withColumn('munged', munge_event('raw'))"
   ]
  },
  {
   "cell_type": "code",
   "execution_count": 9,
   "metadata": {},
   "outputs": [
    {
     "name": "stdout",
     "output_type": "stream",
     "text": [
      "+--------------------+--------------------+--------------------+\n",
      "|                 raw|           timestamp|              munged|\n",
      "+--------------------+--------------------+--------------------+\n",
      "|{\"Host\": \"localho...|2020-12-06 00:29:...|{\"Host\": \"moe\", \"...|\n",
      "|{\"Host\": \"localho...|2020-12-06 00:29:...|{\"Host\": \"moe\", \"...|\n",
      "|{\"Host\": \"localho...|2020-12-06 00:29:...|{\"Host\": \"moe\", \"...|\n",
      "|{\"Accept\": \"*/*\",...|2020-12-06 00:29:...|{\"Accept\": \"*/*\",...|\n",
      "+--------------------+--------------------+--------------------+\n",
      "\n"
     ]
    }
   ],
   "source": [
    "munged_events.show()"
   ]
  },
  {
   "cell_type": "code",
   "execution_count": 10,
   "metadata": {
    "collapsed": true
   },
   "outputs": [],
   "source": [
    "extracted_events = munged_events \\\n",
    "        .rdd \\\n",
    "        .map(lambda r: Row(timestamp=r.timestamp, **json.loads(r.munged))) \\\n",
    "        .toDF()"
   ]
  },
  {
   "cell_type": "code",
   "execution_count": 12,
   "metadata": {
    "collapsed": true
   },
   "outputs": [],
   "source": [
    "sword_purchases = extracted_events \\\n",
    "        .filter(extracted_events.event_type == 'purchase_sword')\n"
   ]
  },
  {
   "cell_type": "markdown",
   "metadata": {
    "collapsed": true
   },
   "source": [
    "#### down\n",
    "`docker-compose down`\n",
    "\n",
    "`docker ps -a`"
   ]
  },
  {
   "cell_type": "markdown",
   "metadata": {},
   "source": [
    "# Week 12"
   ]
  },
  {
   "cell_type": "markdown",
   "metadata": {},
   "source": [
    "#### copy in yml and edit the week 11 game file to add in metadata (no need to copy in game_api again)\n",
    "\n",
    "`cp ~/w205/course-content/12-Querying-Data-II/docker-compose.yml .`\n",
    "\n",
    "\n",
    "#### bring up cluster\n",
    "\n",
    "`docker-compose up -d` \n",
    "\n",
    "`docker ps -a`\n",
    "\n",
    "#### create spark jupyter connection\n",
    "\n",
    "`docker-compose exec spark bash`\n",
    "\n",
    "`ln -s /w205 w205`\n",
    "\n",
    "`exit`\n",
    "\n",
    "#### create topic\n",
    "`docker-compose exec kafka kafka-topics --create --topic events --partitions 1 --replication-factor 1 --if-not-exists --zookeeper zookeeper:32181`\n",
    "\n",
    "#### run flask and game events this time using apache bench\n",
    "\n",
    "`docker-compose exec mids env FLASK_APP=/w205/project-3-frankbruni/game_api.py flask run --host 0.0.0.0`\n",
    "\n",
    "`docker-compose exec mids ab -n 10 -H \"Host: user1.comcast.com\" http://localhost:5000/`\n",
    "\n",
    "`docker-compose exec mids ab -n 10 -H \"Host: user1.comcast.com\" http://localhost:5000/purchase_a_sword`\n",
    "\n",
    "`docker-compose exec mids ab -n 10 -H \"Host: user1.comcast.com\" http://localhost:5000/buy_a_sword`\n",
    "\n",
    "`docker-compose exec mids ab -n 10 -H \"Host: user1.comcast.com\" http://localhost:5000/join_guild`\n",
    "\n",
    "\n",
    "`docker-compose exec mids ab -n 10 -H \"Host: user2.att.com\" http://localhost:5000/`\n",
    "\n",
    "`docker-compose exec mids ab -n 10 -H \"Host: user2.att.com\" http://localhost:5000/purchase_a_sword`\n",
    "\n",
    "`docker-compose exec mids ab -n 10 -H \"Host: user2.att.com\" http://localhost:5000/buy_a_sword`\n",
    "\n",
    "`docker-compose exec mids ab -n 10 -H \"Host: user2.att.com\" http://localhost:5000/join_guild`\n",
    "\n",
    "#### open jupyter notebook\n",
    "\n",
    "`docker-compose exec spark env PYSPARK_DRIVER_PYTHON=jupyter PYSPARK_DRIVER_PYTHON_OPTS='notebook --no-browser --port 8888 --ip 0.0.0.0 --allow-root' pyspark`"
   ]
  },
  {
   "cell_type": "markdown",
   "metadata": {},
   "source": [
    "#### code from filtered_writes.py"
   ]
  },
  {
   "cell_type": "code",
   "execution_count": 1,
   "metadata": {
    "collapsed": true
   },
   "outputs": [],
   "source": [
    "import json\n",
    "from pyspark.sql import Row\n",
    "from pyspark.sql.functions import udf"
   ]
  },
  {
   "cell_type": "code",
   "execution_count": 2,
   "metadata": {
    "collapsed": true
   },
   "outputs": [],
   "source": [
    "@udf('boolean')\n",
    "def is_purchase(event_as_json):\n",
    "    event = json.loads(event_as_json)\n",
    "    if event['event_type'] == 'purchase_sword':\n",
    "        return True\n",
    "    return False"
   ]
  },
  {
   "cell_type": "code",
   "execution_count": 3,
   "metadata": {
    "collapsed": true
   },
   "outputs": [],
   "source": [
    "raw_events = spark \\\n",
    "        .read \\\n",
    "        .format(\"kafka\") \\\n",
    "        .option(\"kafka.bootstrap.servers\", \"kafka:29092\") \\\n",
    "        .option(\"subscribe\", \"events\") \\\n",
    "        .option(\"startingOffsets\", \"earliest\") \\\n",
    "        .option(\"endingOffsets\", \"latest\") \\\n",
    "        .load()"
   ]
  },
  {
   "cell_type": "code",
   "execution_count": 4,
   "metadata": {
    "collapsed": true
   },
   "outputs": [],
   "source": [
    "purchase_events = raw_events \\\n",
    "        .select(raw_events.value.cast('string').alias('raw'),\n",
    "                raw_events.timestamp.cast('string')) \\\n",
    "        .filter(is_purchase('raw'))"
   ]
  },
  {
   "cell_type": "code",
   "execution_count": 5,
   "metadata": {
    "collapsed": true
   },
   "outputs": [],
   "source": [
    "extracted_purchase_events = purchase_events \\\n",
    "        .rdd \\\n",
    "        .map(lambda r: Row(timestamp=r.timestamp, **json.loads(r.raw))) \\\n",
    "        .toDF()"
   ]
  },
  {
   "cell_type": "code",
   "execution_count": 6,
   "metadata": {},
   "outputs": [
    {
     "name": "stdout",
     "output_type": "stream",
     "text": [
      "root\n",
      " |-- Accept: string (nullable = true)\n",
      " |-- Host: string (nullable = true)\n",
      " |-- User-Agent: string (nullable = true)\n",
      " |-- event_type: string (nullable = true)\n",
      " |-- sword_type: string (nullable = true)\n",
      " |-- timestamp: string (nullable = true)\n",
      "\n"
     ]
    }
   ],
   "source": [
    "extracted_purchase_events.printSchema()"
   ]
  },
  {
   "cell_type": "code",
   "execution_count": 7,
   "metadata": {},
   "outputs": [
    {
     "name": "stdout",
     "output_type": "stream",
     "text": [
      "+------+-----------------+---------------+--------------+----------+--------------------+\n",
      "|Accept|             Host|     User-Agent|    event_type|sword_type|           timestamp|\n",
      "+------+-----------------+---------------+--------------+----------+--------------------+\n",
      "|   */*|user1.comcast.com|ApacheBench/2.3|purchase_sword|   knights|2020-12-06 01:12:...|\n",
      "|   */*|user1.comcast.com|ApacheBench/2.3|purchase_sword|   knights|2020-12-06 01:12:...|\n",
      "|   */*|user1.comcast.com|ApacheBench/2.3|purchase_sword|   knights|2020-12-06 01:12:...|\n",
      "|   */*|user1.comcast.com|ApacheBench/2.3|purchase_sword|   knights|2020-12-06 01:12:...|\n",
      "|   */*|user1.comcast.com|ApacheBench/2.3|purchase_sword|   knights|2020-12-06 01:12:...|\n",
      "|   */*|user1.comcast.com|ApacheBench/2.3|purchase_sword|   knights|2020-12-06 01:12:...|\n",
      "|   */*|user1.comcast.com|ApacheBench/2.3|purchase_sword|   knights|2020-12-06 01:12:...|\n",
      "|   */*|user1.comcast.com|ApacheBench/2.3|purchase_sword|   knights|2020-12-06 01:12:...|\n",
      "|   */*|user1.comcast.com|ApacheBench/2.3|purchase_sword|   knights|2020-12-06 01:12:...|\n",
      "|   */*|user1.comcast.com|ApacheBench/2.3|purchase_sword|   knights|2020-12-06 01:12:...|\n",
      "|   */*|    user2.att.com|ApacheBench/2.3|purchase_sword|   knights|2020-12-06 01:12:...|\n",
      "|   */*|    user2.att.com|ApacheBench/2.3|purchase_sword|   knights|2020-12-06 01:12:...|\n",
      "|   */*|    user2.att.com|ApacheBench/2.3|purchase_sword|   knights|2020-12-06 01:12:...|\n",
      "|   */*|    user2.att.com|ApacheBench/2.3|purchase_sword|   knights|2020-12-06 01:12:...|\n",
      "|   */*|    user2.att.com|ApacheBench/2.3|purchase_sword|   knights|2020-12-06 01:12:...|\n",
      "|   */*|    user2.att.com|ApacheBench/2.3|purchase_sword|   knights|2020-12-06 01:12:...|\n",
      "|   */*|    user2.att.com|ApacheBench/2.3|purchase_sword|   knights|2020-12-06 01:12:...|\n",
      "|   */*|    user2.att.com|ApacheBench/2.3|purchase_sword|   knights|2020-12-06 01:12:...|\n",
      "|   */*|    user2.att.com|ApacheBench/2.3|purchase_sword|   knights|2020-12-06 01:12:...|\n",
      "|   */*|    user2.att.com|ApacheBench/2.3|purchase_sword|   knights|2020-12-06 01:12:...|\n",
      "+------+-----------------+---------------+--------------+----------+--------------------+\n",
      "\n"
     ]
    }
   ],
   "source": [
    "extracted_purchase_events.show()"
   ]
  },
  {
   "cell_type": "code",
   "execution_count": 8,
   "metadata": {
    "collapsed": true
   },
   "outputs": [],
   "source": [
    "extracted_purchase_events \\\n",
    "        .write \\\n",
    "        .mode('overwrite') \\\n",
    "        .parquet('/tmp/purchases')"
   ]
  },
  {
   "cell_type": "markdown",
   "metadata": {},
   "source": [
    "#### pyspark code"
   ]
  },
  {
   "cell_type": "code",
   "execution_count": 9,
   "metadata": {
    "collapsed": true
   },
   "outputs": [],
   "source": [
    "purchases = spark.read.parquet('/tmp/purchases')"
   ]
  },
  {
   "cell_type": "code",
   "execution_count": 10,
   "metadata": {},
   "outputs": [
    {
     "name": "stdout",
     "output_type": "stream",
     "text": [
      "+------+-----------------+---------------+--------------+----------+--------------------+\n",
      "|Accept|             Host|     User-Agent|    event_type|sword_type|           timestamp|\n",
      "+------+-----------------+---------------+--------------+----------+--------------------+\n",
      "|   */*|user1.comcast.com|ApacheBench/2.3|purchase_sword|   knights|2020-12-06 01:12:...|\n",
      "|   */*|user1.comcast.com|ApacheBench/2.3|purchase_sword|   knights|2020-12-06 01:12:...|\n",
      "|   */*|user1.comcast.com|ApacheBench/2.3|purchase_sword|   knights|2020-12-06 01:12:...|\n",
      "|   */*|user1.comcast.com|ApacheBench/2.3|purchase_sword|   knights|2020-12-06 01:12:...|\n",
      "|   */*|user1.comcast.com|ApacheBench/2.3|purchase_sword|   knights|2020-12-06 01:12:...|\n",
      "|   */*|user1.comcast.com|ApacheBench/2.3|purchase_sword|   knights|2020-12-06 01:12:...|\n",
      "|   */*|user1.comcast.com|ApacheBench/2.3|purchase_sword|   knights|2020-12-06 01:12:...|\n",
      "|   */*|user1.comcast.com|ApacheBench/2.3|purchase_sword|   knights|2020-12-06 01:12:...|\n",
      "|   */*|user1.comcast.com|ApacheBench/2.3|purchase_sword|   knights|2020-12-06 01:12:...|\n",
      "|   */*|user1.comcast.com|ApacheBench/2.3|purchase_sword|   knights|2020-12-06 01:12:...|\n",
      "|   */*|    user2.att.com|ApacheBench/2.3|purchase_sword|   knights|2020-12-06 01:12:...|\n",
      "|   */*|    user2.att.com|ApacheBench/2.3|purchase_sword|   knights|2020-12-06 01:12:...|\n",
      "|   */*|    user2.att.com|ApacheBench/2.3|purchase_sword|   knights|2020-12-06 01:12:...|\n",
      "|   */*|    user2.att.com|ApacheBench/2.3|purchase_sword|   knights|2020-12-06 01:12:...|\n",
      "|   */*|    user2.att.com|ApacheBench/2.3|purchase_sword|   knights|2020-12-06 01:12:...|\n",
      "|   */*|    user2.att.com|ApacheBench/2.3|purchase_sword|   knights|2020-12-06 01:12:...|\n",
      "|   */*|    user2.att.com|ApacheBench/2.3|purchase_sword|   knights|2020-12-06 01:12:...|\n",
      "|   */*|    user2.att.com|ApacheBench/2.3|purchase_sword|   knights|2020-12-06 01:12:...|\n",
      "|   */*|    user2.att.com|ApacheBench/2.3|purchase_sword|   knights|2020-12-06 01:12:...|\n",
      "|   */*|    user2.att.com|ApacheBench/2.3|purchase_sword|   knights|2020-12-06 01:12:...|\n",
      "+------+-----------------+---------------+--------------+----------+--------------------+\n",
      "\n"
     ]
    }
   ],
   "source": [
    "purchases.show()"
   ]
  },
  {
   "cell_type": "code",
   "execution_count": 11,
   "metadata": {
    "collapsed": true
   },
   "outputs": [],
   "source": [
    "purchases.registerTempTable('purchases')"
   ]
  },
  {
   "cell_type": "code",
   "execution_count": 12,
   "metadata": {
    "collapsed": true
   },
   "outputs": [],
   "source": [
    "purchases_by_example2 = spark.sql(\"select * from purchases where Host = 'user1.comcast.com'\")"
   ]
  },
  {
   "cell_type": "code",
   "execution_count": 13,
   "metadata": {},
   "outputs": [
    {
     "name": "stdout",
     "output_type": "stream",
     "text": [
      "+------+-----------------+---------------+--------------+----------+--------------------+\n",
      "|Accept|             Host|     User-Agent|    event_type|sword_type|           timestamp|\n",
      "+------+-----------------+---------------+--------------+----------+--------------------+\n",
      "|   */*|user1.comcast.com|ApacheBench/2.3|purchase_sword|   knights|2020-12-06 01:12:...|\n",
      "|   */*|user1.comcast.com|ApacheBench/2.3|purchase_sword|   knights|2020-12-06 01:12:...|\n",
      "|   */*|user1.comcast.com|ApacheBench/2.3|purchase_sword|   knights|2020-12-06 01:12:...|\n",
      "|   */*|user1.comcast.com|ApacheBench/2.3|purchase_sword|   knights|2020-12-06 01:12:...|\n",
      "|   */*|user1.comcast.com|ApacheBench/2.3|purchase_sword|   knights|2020-12-06 01:12:...|\n",
      "|   */*|user1.comcast.com|ApacheBench/2.3|purchase_sword|   knights|2020-12-06 01:12:...|\n",
      "|   */*|user1.comcast.com|ApacheBench/2.3|purchase_sword|   knights|2020-12-06 01:12:...|\n",
      "|   */*|user1.comcast.com|ApacheBench/2.3|purchase_sword|   knights|2020-12-06 01:12:...|\n",
      "|   */*|user1.comcast.com|ApacheBench/2.3|purchase_sword|   knights|2020-12-06 01:12:...|\n",
      "|   */*|user1.comcast.com|ApacheBench/2.3|purchase_sword|   knights|2020-12-06 01:12:...|\n",
      "+------+-----------------+---------------+--------------+----------+--------------------+\n",
      "\n"
     ]
    }
   ],
   "source": [
    "purchases_by_example2.show()"
   ]
  },
  {
   "cell_type": "code",
   "execution_count": 15,
   "metadata": {},
   "outputs": [
    {
     "data": {
      "text/html": [
       "<div>\n",
       "<style>\n",
       "    .dataframe thead tr:only-child th {\n",
       "        text-align: right;\n",
       "    }\n",
       "\n",
       "    .dataframe thead th {\n",
       "        text-align: left;\n",
       "    }\n",
       "\n",
       "    .dataframe tbody tr th {\n",
       "        vertical-align: top;\n",
       "    }\n",
       "</style>\n",
       "<table border=\"1\" class=\"dataframe\">\n",
       "  <thead>\n",
       "    <tr style=\"text-align: right;\">\n",
       "      <th></th>\n",
       "      <th>Accept</th>\n",
       "      <th>Host</th>\n",
       "      <th>User-Agent</th>\n",
       "      <th>event_type</th>\n",
       "      <th>sword_type</th>\n",
       "      <th>timestamp</th>\n",
       "    </tr>\n",
       "  </thead>\n",
       "  <tbody>\n",
       "    <tr>\n",
       "      <th>0</th>\n",
       "      <td>*/*</td>\n",
       "      <td>user1.comcast.com</td>\n",
       "      <td>ApacheBench/2.3</td>\n",
       "      <td>purchase_sword</td>\n",
       "      <td>knights</td>\n",
       "      <td>2020-12-06 01:12:03.812</td>\n",
       "    </tr>\n",
       "    <tr>\n",
       "      <th>1</th>\n",
       "      <td>*/*</td>\n",
       "      <td>user1.comcast.com</td>\n",
       "      <td>ApacheBench/2.3</td>\n",
       "      <td>purchase_sword</td>\n",
       "      <td>knights</td>\n",
       "      <td>2020-12-06 01:12:03.817</td>\n",
       "    </tr>\n",
       "    <tr>\n",
       "      <th>2</th>\n",
       "      <td>*/*</td>\n",
       "      <td>user1.comcast.com</td>\n",
       "      <td>ApacheBench/2.3</td>\n",
       "      <td>purchase_sword</td>\n",
       "      <td>knights</td>\n",
       "      <td>2020-12-06 01:12:03.822</td>\n",
       "    </tr>\n",
       "    <tr>\n",
       "      <th>3</th>\n",
       "      <td>*/*</td>\n",
       "      <td>user1.comcast.com</td>\n",
       "      <td>ApacheBench/2.3</td>\n",
       "      <td>purchase_sword</td>\n",
       "      <td>knights</td>\n",
       "      <td>2020-12-06 01:12:03.824</td>\n",
       "    </tr>\n",
       "    <tr>\n",
       "      <th>4</th>\n",
       "      <td>*/*</td>\n",
       "      <td>user1.comcast.com</td>\n",
       "      <td>ApacheBench/2.3</td>\n",
       "      <td>purchase_sword</td>\n",
       "      <td>knights</td>\n",
       "      <td>2020-12-06 01:12:03.827</td>\n",
       "    </tr>\n",
       "    <tr>\n",
       "      <th>5</th>\n",
       "      <td>*/*</td>\n",
       "      <td>user1.comcast.com</td>\n",
       "      <td>ApacheBench/2.3</td>\n",
       "      <td>purchase_sword</td>\n",
       "      <td>knights</td>\n",
       "      <td>2020-12-06 01:12:03.832</td>\n",
       "    </tr>\n",
       "    <tr>\n",
       "      <th>6</th>\n",
       "      <td>*/*</td>\n",
       "      <td>user1.comcast.com</td>\n",
       "      <td>ApacheBench/2.3</td>\n",
       "      <td>purchase_sword</td>\n",
       "      <td>knights</td>\n",
       "      <td>2020-12-06 01:12:03.835</td>\n",
       "    </tr>\n",
       "    <tr>\n",
       "      <th>7</th>\n",
       "      <td>*/*</td>\n",
       "      <td>user1.comcast.com</td>\n",
       "      <td>ApacheBench/2.3</td>\n",
       "      <td>purchase_sword</td>\n",
       "      <td>knights</td>\n",
       "      <td>2020-12-06 01:12:03.837</td>\n",
       "    </tr>\n",
       "    <tr>\n",
       "      <th>8</th>\n",
       "      <td>*/*</td>\n",
       "      <td>user1.comcast.com</td>\n",
       "      <td>ApacheBench/2.3</td>\n",
       "      <td>purchase_sword</td>\n",
       "      <td>knights</td>\n",
       "      <td>2020-12-06 01:12:03.839</td>\n",
       "    </tr>\n",
       "    <tr>\n",
       "      <th>9</th>\n",
       "      <td>*/*</td>\n",
       "      <td>user1.comcast.com</td>\n",
       "      <td>ApacheBench/2.3</td>\n",
       "      <td>purchase_sword</td>\n",
       "      <td>knights</td>\n",
       "      <td>2020-12-06 01:12:03.842</td>\n",
       "    </tr>\n",
       "  </tbody>\n",
       "</table>\n",
       "</div>"
      ],
      "text/plain": [
       "  Accept               Host       User-Agent      event_type sword_type  \\\n",
       "0    */*  user1.comcast.com  ApacheBench/2.3  purchase_sword    knights   \n",
       "1    */*  user1.comcast.com  ApacheBench/2.3  purchase_sword    knights   \n",
       "2    */*  user1.comcast.com  ApacheBench/2.3  purchase_sword    knights   \n",
       "3    */*  user1.comcast.com  ApacheBench/2.3  purchase_sword    knights   \n",
       "4    */*  user1.comcast.com  ApacheBench/2.3  purchase_sword    knights   \n",
       "5    */*  user1.comcast.com  ApacheBench/2.3  purchase_sword    knights   \n",
       "6    */*  user1.comcast.com  ApacheBench/2.3  purchase_sword    knights   \n",
       "7    */*  user1.comcast.com  ApacheBench/2.3  purchase_sword    knights   \n",
       "8    */*  user1.comcast.com  ApacheBench/2.3  purchase_sword    knights   \n",
       "9    */*  user1.comcast.com  ApacheBench/2.3  purchase_sword    knights   \n",
       "\n",
       "                 timestamp  \n",
       "0  2020-12-06 01:12:03.812  \n",
       "1  2020-12-06 01:12:03.817  \n",
       "2  2020-12-06 01:12:03.822  \n",
       "3  2020-12-06 01:12:03.824  \n",
       "4  2020-12-06 01:12:03.827  \n",
       "5  2020-12-06 01:12:03.832  \n",
       "6  2020-12-06 01:12:03.835  \n",
       "7  2020-12-06 01:12:03.837  \n",
       "8  2020-12-06 01:12:03.839  \n",
       "9  2020-12-06 01:12:03.842  "
      ]
     },
     "execution_count": 15,
     "metadata": {},
     "output_type": "execute_result"
    }
   ],
   "source": [
    "df = purchases_by_example2.toPandas()\n",
    "\n",
    "df"
   ]
  },
  {
   "cell_type": "code",
   "execution_count": 16,
   "metadata": {},
   "outputs": [
    {
     "data": {
      "text/html": [
       "<div>\n",
       "<style>\n",
       "    .dataframe thead tr:only-child th {\n",
       "        text-align: right;\n",
       "    }\n",
       "\n",
       "    .dataframe thead th {\n",
       "        text-align: left;\n",
       "    }\n",
       "\n",
       "    .dataframe tbody tr th {\n",
       "        vertical-align: top;\n",
       "    }\n",
       "</style>\n",
       "<table border=\"1\" class=\"dataframe\">\n",
       "  <thead>\n",
       "    <tr style=\"text-align: right;\">\n",
       "      <th></th>\n",
       "      <th>Accept</th>\n",
       "      <th>Host</th>\n",
       "      <th>User-Agent</th>\n",
       "      <th>event_type</th>\n",
       "      <th>sword_type</th>\n",
       "      <th>timestamp</th>\n",
       "    </tr>\n",
       "  </thead>\n",
       "  <tbody>\n",
       "    <tr>\n",
       "      <th>count</th>\n",
       "      <td>10</td>\n",
       "      <td>10</td>\n",
       "      <td>10</td>\n",
       "      <td>10</td>\n",
       "      <td>10</td>\n",
       "      <td>10</td>\n",
       "    </tr>\n",
       "    <tr>\n",
       "      <th>unique</th>\n",
       "      <td>1</td>\n",
       "      <td>1</td>\n",
       "      <td>1</td>\n",
       "      <td>1</td>\n",
       "      <td>1</td>\n",
       "      <td>10</td>\n",
       "    </tr>\n",
       "    <tr>\n",
       "      <th>top</th>\n",
       "      <td>*/*</td>\n",
       "      <td>user1.comcast.com</td>\n",
       "      <td>ApacheBench/2.3</td>\n",
       "      <td>purchase_sword</td>\n",
       "      <td>knights</td>\n",
       "      <td>2020-12-06 01:12:03.839</td>\n",
       "    </tr>\n",
       "    <tr>\n",
       "      <th>freq</th>\n",
       "      <td>10</td>\n",
       "      <td>10</td>\n",
       "      <td>10</td>\n",
       "      <td>10</td>\n",
       "      <td>10</td>\n",
       "      <td>1</td>\n",
       "    </tr>\n",
       "  </tbody>\n",
       "</table>\n",
       "</div>"
      ],
      "text/plain": [
       "       Accept               Host       User-Agent      event_type sword_type  \\\n",
       "count      10                 10               10              10         10   \n",
       "unique      1                  1                1               1          1   \n",
       "top       */*  user1.comcast.com  ApacheBench/2.3  purchase_sword    knights   \n",
       "freq       10                 10               10              10         10   \n",
       "\n",
       "                      timestamp  \n",
       "count                        10  \n",
       "unique                       10  \n",
       "top     2020-12-06 01:12:03.839  \n",
       "freq                          1  "
      ]
     },
     "execution_count": 16,
     "metadata": {},
     "output_type": "execute_result"
    }
   ],
   "source": [
    "df.describe()"
   ]
  },
  {
   "cell_type": "markdown",
   "metadata": {},
   "source": [
    "### Analytics"
   ]
  },
  {
   "cell_type": "markdown",
   "metadata": {},
   "source": [
    "##### What percent of the sword types are knights?"
   ]
  },
  {
   "cell_type": "code",
   "execution_count": 29,
   "metadata": {},
   "outputs": [
    {
     "name": "stdout",
     "output_type": "stream",
     "text": [
      "The percent of swords that are Knight type is 100.0 %\n"
     ]
    }
   ],
   "source": [
    "query = spark.sql(\"select count(*) as knights from purchases where sword_type = 'knights'\")\n",
    "number_of_knights = query.toPandas()\n",
    "\n",
    "query = spark.sql(\"select count(*) as total_swords from purchases\")\n",
    "total_swords = query.toPandas()\n",
    "\n",
    "print('The percent of swords that are Knight type is {0} %'.format((number_of_knights['knights'][0] / total_swords['total_swords'][0])*100))"
   ]
  },
  {
   "cell_type": "markdown",
   "metadata": {},
   "source": [
    "##### How many different hosts are there?"
   ]
  },
  {
   "cell_type": "code",
   "execution_count": 41,
   "metadata": {},
   "outputs": [
    {
     "name": "stdout",
     "output_type": "stream",
     "text": [
      "There are 2 unique hosts\n"
     ]
    }
   ],
   "source": [
    "query = spark.sql(\"select count(distinct(Host)) as number_of_hosts from purchases\")\n",
    "number_of_hosts = query.toPandas()\n",
    "\n",
    "print('There are {0} unique hosts'.format(number_of_hosts['number_of_hosts'][0]))"
   ]
  },
  {
   "cell_type": "markdown",
   "metadata": {},
   "source": [
    "##### Show the number of Knights for each Host"
   ]
  },
  {
   "cell_type": "code",
   "execution_count": 45,
   "metadata": {},
   "outputs": [],
   "source": [
    "query = spark.sql(\"select * from purchases where sword_type = 'knights'\")\n",
    "knights = query.toPandas()"
   ]
  },
  {
   "cell_type": "code",
   "execution_count": 57,
   "metadata": {},
   "outputs": [
    {
     "data": {
      "text/plain": [
       "user1.comcast.com    10\n",
       "user2.att.com        10\n",
       "Name: Host, dtype: int64"
      ]
     },
     "execution_count": 57,
     "metadata": {},
     "output_type": "execute_result"
    }
   ],
   "source": [
    "knights['Host'].value_counts()"
   ]
  },
  {
   "cell_type": "markdown",
   "metadata": {},
   "source": [
    "#### down\n",
    "`docker-compose down`\n",
    "\n",
    "`docker ps -a`"
   ]
  },
  {
   "cell_type": "code",
   "execution_count": null,
   "metadata": {
    "collapsed": true
   },
   "outputs": [],
   "source": []
  }
 ],
 "metadata": {
  "kernelspec": {
   "display_name": "Python 3",
   "language": "python",
   "name": "python3"
  },
  "language_info": {
   "codemirror_mode": {
    "name": "ipython",
    "version": 3
   },
   "file_extension": ".py",
   "mimetype": "text/x-python",
   "name": "python",
   "nbconvert_exporter": "python",
   "pygments_lexer": "ipython3",
   "version": "3.6.1"
  }
 },
 "nbformat": 4,
 "nbformat_minor": 2
}
