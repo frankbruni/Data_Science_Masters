{
 "cells": [
  {
   "cell_type": "markdown",
   "metadata": {
    "colab_type": "text",
    "id": "4r1L69aGoZG0"
   },
   "source": [
    "# Project 3: Poisonous Mushrooms"
   ]
  },
  {
   "cell_type": "markdown",
   "metadata": {
    "colab_type": "text",
    "id": "btVARsAroZG1"
   },
   "source": [
    "In this project, you'll investigate properties of mushrooms. This classic dataset contains over 8000 examples, where each describes a mushroom by a variety of features like color, odor, etc., and the target variable is an indicator for whether the mushroom is poisonous. The feature space has been binarized. Look at the feature_names below to see all 126 binary names.\n",
    "\n",
    "You'll start by running PCA to reduce the dimensionality from 126 down to 2 so that you can easily visualize the data. In general, PCA is very useful for visualization (though sklearn.manifold.tsne is known to produce better visualizations). Recall that PCA is a linear transformation. The 1st projected dimension is the linear combination of all 126 original features that captures as much of the variance in the data as possible. The 2nd projected dimension is the linear combination of all 126 original features that captures as much of the remaining variance as possible. The idea of dense low dimensional representations is crucial to machine learning!\n",
    "\n",
    "Once you've projected the data to 2 dimensions, you'll experiment with clustering using k-means and density estimation with Gaussian mixture models (GMM). Finally, you'll train a classifier by fitting a GMM for the positive class and a GMM for the negative class, and perform inference by comparing the probabilities output by each model.\n",
    "\n",
    "As always, you're welcome to work on the project in groups and discuss ideas on the course wall, but please **prepare your own write-up and write your own code**."
   ]
  },
  {
   "cell_type": "code",
   "execution_count": 1,
   "metadata": {
    "colab": {},
    "colab_type": "code",
    "id": "YDvuh15loZG2"
   },
   "outputs": [],
   "source": [
    "%matplotlib inline\n",
    "\n",
    "import urllib.request as urllib2 # For python3\n",
    "import numpy as np\n",
    "import matplotlib.pyplot as plt\n",
    "from sklearn import metrics\n",
    "from sklearn.decomposition import PCA\n",
    "from sklearn.cluster import KMeans\n",
    "from sklearn.mixture import GaussianMixture\n",
    "from matplotlib.colors import LogNorm"
   ]
  },
  {
   "cell_type": "code",
   "execution_count": 2,
   "metadata": {
    "colab": {},
    "colab_type": "code",
    "id": "JKyn8WO1pJwK"
   },
   "outputs": [],
   "source": [
    "MUSHROOM_DATA = 'https://raw.githubusercontent.com/UCB-MIDS/207-Applied-Machine-Learning/master/Data/mushroom.data'\n",
    "MUSHROOM_MAP = 'https://raw.githubusercontent.com/UCB-MIDS/207-Applied-Machine-Learning/master/Data/mushroom.map'"
   ]
  },
  {
   "cell_type": "markdown",
   "metadata": {
    "colab_type": "text",
    "id": "28FIvBtVoZG4"
   },
   "source": [
    "Load feature names."
   ]
  },
  {
   "cell_type": "code",
   "execution_count": 3,
   "metadata": {
    "colab": {},
    "colab_type": "code",
    "id": "zXUv_S1YoZG4"
   },
   "outputs": [
    {
     "name": "stdout",
     "output_type": "stream",
     "text": [
      "Loaded feature names:  126\n",
      "['cap-shape=bell', 'cap-shape=conical', 'cap-shape=convex', 'cap-shape=flat', 'cap-shape=knobbed', 'cap-shape=sunken', 'cap-surface=fibrous', 'cap-surface=grooves', 'cap-surface=scaly', 'cap-surface=smooth', 'cap-color=brown', 'cap-color=buff', 'cap-color=cinnamon', 'cap-color=gray', 'cap-color=green', 'cap-color=pink', 'cap-color=purple', 'cap-color=red', 'cap-color=white', 'cap-color=yellow', 'bruises?=bruises', 'bruises?=no', 'odor=almond', 'odor=anise', 'odor=creosote', 'odor=fishy', 'odor=foul', 'odor=musty', 'odor=none', 'odor=pungent', 'odor=spicy', 'gill-attachment=attached', 'gill-attachment=descending', 'gill-attachment=free', 'gill-attachment=notched', 'gill-spacing=close', 'gill-spacing=crowded', 'gill-spacing=distant', 'gill-size=broad', 'gill-size=narrow', 'gill-color=black', 'gill-color=brown', 'gill-color=buff', 'gill-color=chocolate', 'gill-color=gray', 'gill-color=green', 'gill-color=orange', 'gill-color=pink', 'gill-color=purple', 'gill-color=red', 'gill-color=white', 'gill-color=yellow', 'stalk-shape=enlarging', 'stalk-shape=tapering', 'stalk-root=bulbous', 'stalk-root=club', 'stalk-root=cup', 'stalk-root=equal', 'stalk-root=rhizomorphs', 'stalk-root=rooted', 'stalk-root=missing', 'stalk-surface-above-ring=fibrous', 'stalk-surface-above-ring=scaly', 'stalk-surface-above-ring=silky', 'stalk-surface-above-ring=smooth', 'stalk-surface-below-ring=fibrous', 'stalk-surface-below-ring=scaly', 'stalk-surface-below-ring=silky', 'stalk-surface-below-ring=smooth', 'stalk-color-above-ring=brown', 'stalk-color-above-ring=buff', 'stalk-color-above-ring=cinnamon', 'stalk-color-above-ring=gray', 'stalk-color-above-ring=orange', 'stalk-color-above-ring=pink', 'stalk-color-above-ring=red', 'stalk-color-above-ring=white', 'stalk-color-above-ring=yellow', 'stalk-color-below-ring=brown', 'stalk-color-below-ring=buff', 'stalk-color-below-ring=cinnamon', 'stalk-color-below-ring=gray', 'stalk-color-below-ring=orange', 'stalk-color-below-ring=pink', 'stalk-color-below-ring=red', 'stalk-color-below-ring=white', 'stalk-color-below-ring=yellow', 'veil-type=partial', 'veil-type=universal', 'veil-color=brown', 'veil-color=orange', 'veil-color=white', 'veil-color=yellow', 'ring-number=none', 'ring-number=one', 'ring-number=two', 'ring-type=cobwebby', 'ring-type=evanescent', 'ring-type=flaring', 'ring-type=large', 'ring-type=none', 'ring-type=pendant', 'ring-type=sheathing', 'ring-type=zone', 'spore-print-color=black', 'spore-print-color=brown', 'spore-print-color=buff', 'spore-print-color=chocolate', 'spore-print-color=green', 'spore-print-color=orange', 'spore-print-color=purple', 'spore-print-color=white', 'spore-print-color=yellow', 'population=abundant', 'population=clustered', 'population=numerous', 'population=scattered', 'population=several', 'population=solitary', 'habitat=grasses', 'habitat=leaves', 'habitat=meadows', 'habitat=paths', 'habitat=urban', 'habitat=waste', 'habitat=woods']\n"
     ]
    }
   ],
   "source": [
    "feature_names = []\n",
    "\n",
    "for line in urllib2.urlopen(MUSHROOM_MAP):\n",
    "    [index, name, junk] = line.decode('utf-8').split()\n",
    "    feature_names.append(name)\n",
    "\n",
    "print('Loaded feature names: ', len(feature_names))\n",
    "print(feature_names)"
   ]
  },
  {
   "cell_type": "markdown",
   "metadata": {
    "colab_type": "text",
    "id": "k034gVFboZHA"
   },
   "source": [
    "Load data. The dataset is sparse, but there aren't too many features, so we'll use a dense representation, which is supported by all sklearn objects."
   ]
  },
  {
   "cell_type": "code",
   "execution_count": 16,
   "metadata": {
    "colab": {},
    "colab_type": "code",
    "id": "gg6IVy0loZHA"
   },
   "outputs": [
    {
     "name": "stdout",
     "output_type": "stream",
     "text": [
      "(7000, 126) (1124, 126)\n"
     ]
    }
   ],
   "source": [
    "X, Y = [], []\n",
    "\n",
    "for line in urllib2.urlopen(MUSHROOM_DATA):\n",
    "    items = line.decode('utf-8').split()\n",
    "    Y.append(int(items.pop(0)))\n",
    "    x = np.zeros(len(feature_names))\n",
    "    for item in items:\n",
    "        feature = int(str(item).split(':')[0])\n",
    "        x[feature] = 1\n",
    "    X.append(x)\n",
    "\n",
    "# Convert these lists to numpy arrays.\n",
    "X = np.array(X)\n",
    "Y = np.array(Y)\n",
    "\n",
    "# Split into train and test data.\n",
    "train_data, train_labels = X[:7000], Y[:7000]\n",
    "test_data, test_labels = X[7000:], Y[7000:]\n",
    "\n",
    "# Check that the shapes look right.\n",
    "print(train_data.shape, test_data.shape)"
   ]
  },
  {
   "cell_type": "markdown",
   "metadata": {
    "colab_type": "text",
    "id": "nr25XV7BoZHC"
   },
   "source": [
    "### Part 1:\n",
    "\n",
    "Do a principal components analysis on the data. Show what fraction of the total variance in the training data is explained by the first k principal components, for k in [1, 2, 3, 4, 5, 10, 20, 30, 40, 50].  Also show a lineplot of fraction of total variance vs. number of principal components, for all possible numbers of principal components.\n",
    "\n",
    "Notes:\n",
    "* You can use `PCA` to produce a PCA analysis."
   ]
  },
  {
   "cell_type": "code",
   "execution_count": 50,
   "metadata": {
    "colab": {},
    "colab_type": "code",
    "id": "frHUWcZUoZHC"
   },
   "outputs": [
    {
     "name": "stdout",
     "output_type": "stream",
     "text": [
      "First 1 principal components\n",
      "Total Variance = 16.81 %\n",
      "\n",
      "\n",
      "First 2 principal components\n",
      "Total Variance = 30.7 %\n",
      "\n",
      "\n",
      "First 3 principal components\n",
      "Total Variance = 40.45 %\n",
      "\n",
      "\n",
      "First 4 principal components\n",
      "Total Variance = 46.79 %\n",
      "\n",
      "\n",
      "First 5 principal components\n",
      "Total Variance = 50.8 %\n",
      "\n",
      "\n",
      "First 10 principal components\n",
      "Total Variance = 65.13 %\n",
      "\n",
      "\n",
      "First 20 principal components\n",
      "Total Variance = 80.93 %\n",
      "\n",
      "\n",
      "First 30 principal components\n",
      "Total Variance = 89.81 %\n",
      "\n",
      "\n",
      "First 40 principal components\n",
      "Total Variance = 95.08 %\n",
      "\n",
      "\n",
      "First 50 principal components\n",
      "Total Variance = 98.13 %\n",
      "\n",
      "\n"
     ]
    },
    {
     "data": {
      "image/png": "[encoded data removed]",
      "text/plain": [
       "<Figure size 432x288 with 1 Axes>"
      ]
     },
     "metadata": {
      "needs_background": "light"
     },
     "output_type": "display_data"
    }
   ],
   "source": [
    "def P1():\n",
    "\n",
    "\n",
    "### STUDENT START ###\n",
    "    k = [1, 2, 3, 4, 5, 10, 20, 30, 40, 50]\n",
    "    var = []\n",
    "    x = 0\n",
    "    for i in k:\n",
    "        \n",
    "        # PCA\n",
    "        pca = PCA(n_components=i)\n",
    "        pca.fit(X)\n",
    "        var.append(pca.explained_variance_ratio_.sum())\n",
    "        \n",
    "        # Print Results\n",
    "        print('First {0} principal components'.format(i))\n",
    "        print('Total Variance = ' + str(round(100 * var[x],2)) + ' %')\n",
    "        print('\\n')\n",
    "        x += 1\n",
    "    \n",
    "    # PCA for all possible number of principal components, use 126 since this is the number of features\n",
    "    var = []\n",
    "    for i in range(126):\n",
    "        \n",
    "        pca = PCA(n_components=i)\n",
    "        pca.fit(X)\n",
    "        var.append(pca.explained_variance_ratio_.sum())\n",
    "        \n",
    "    plt.plot(range(126),var,'b-');\n",
    "    plt.xlabel('Number of Principal Components');\n",
    "    plt.ylabel('Fraction of Total Variance');\n",
    "### STUDENT END ###\n",
    "\n",
    "P1()"
   ]
  },
  {
   "cell_type": "markdown",
   "metadata": {
    "colab_type": "text",
    "id": "zbGl1D3RoZHE"
   },
   "source": [
    "### Part 2:\n",
    "\n",
    "PCA can be very useful for visualizing data. Project the training data down to 2 dimensions and show as a square scatterplot. Show the positive (poisonous) examples in red and the negative (non-poisonous) examples in green. Here's a reference for plotting: http://matplotlib.org/users/pyplot_tutorial.html\n",
    "\n",
    "Notes:\n",
    "* You can use `PCA` to produce a PCA analysis."
   ]
  },
  {
   "cell_type": "code",
   "execution_count": 175,
   "metadata": {
    "colab": {},
    "colab_type": "code",
    "id": "ZqPswXVloZHE"
   },
   "outputs": [
    {
     "data": {
      "image/png": "[encoded data removed]",
      "text/plain": [
       "<Figure size 432x288 with 1 Axes>"
      ]
     },
     "metadata": {
      "needs_background": "light"
     },
     "output_type": "display_data"
    }
   ],
   "source": [
    "def P2():\n",
    "\n",
    "### STUDENT START ###\n",
    "\n",
    "    pca = PCA(n_components=2)\n",
    "    train_data_pca = pca.fit_transform(train_data)\n",
    "\n",
    "    all_data = np.c_[train_data_pca, train_labels] \n",
    "\n",
    "\n",
    "    plt.scatter(all_data[all_data[:,2] == 0, 0], all_data[all_data[:,2] == 0, 1], c = 'green', label = 'Non - Poisonous')\n",
    "    plt.scatter(all_data[all_data[:,2] == 1, 0], all_data[all_data[:,2] == 1, 1], c = 'red', label = 'Poisonous')\n",
    "    plt.xlim(-3,3);\n",
    "    plt.ylim(-3,3);\n",
    "    plt.xlabel('Principal Component 1')\n",
    "    plt.ylabel('Principal Component 2')\n",
    "    plt.legend()\n",
    "### STUDENT END ###\n",
    "\n",
    "P2()"
   ]
  },
  {
   "cell_type": "code",
   "execution_count": 66,
   "metadata": {},
   "outputs": [
    {
     "data": {
      "text/plain": [
       "array([[-0.25007588, -0.0207064 ,  1.08378429, ...,  4.37206388,\n",
       "        -0.1489841 , -0.78501905],\n",
       "       [-0.25007588, -0.0207064 ,  1.08378429, ..., -0.22872493,\n",
       "        -0.1489841 , -0.78501905],\n",
       "       [ 3.99878622, -0.0207064 , -0.92269284, ..., -0.22872493,\n",
       "        -0.1489841 , -0.78501905],\n",
       "       ...,\n",
       "       [-0.25007588, -0.0207064 , -0.92269284, ...,  4.37206388,\n",
       "        -0.1489841 , -0.78501905],\n",
       "       [-0.25007588, -0.0207064 ,  1.08378429, ..., -0.22872493,\n",
       "        -0.1489841 ,  1.27385444],\n",
       "       [-0.25007588, -0.0207064 ,  1.08378429, ..., -0.22872493,\n",
       "        -0.1489841 , -0.78501905]])"
      ]
     },
     "execution_count": 66,
     "metadata": {},
     "output_type": "execute_result"
    }
   ],
   "source": [
    "from sklearn.preprocessing import StandardScaler\n",
    "x = StandardScaler().fit_transform(train_data)\n",
    "x"
   ]
  },
  {
   "cell_type": "markdown",
   "metadata": {
    "colab_type": "text",
    "id": "yuHTFCyNoZHG"
   },
   "source": [
    "### Part 3:\n",
    "\n",
    "Fit a k-means cluster model with 6 clusters over the 2d projected data. As in part 2, show as a square scatterplot with the positive (poisonous) examples in red and the negative (non-poisonous) examples in green.  For each cluster, mark the centroid and plot a circle that goes through the cluster's example that is most distant from the centroid.\n",
    "\n",
    "Notes:\n",
    "* You can use `KMeans` to produce a k-means cluster analysis.\n",
    "* You can use `linalg.norm` to determine distance (dissimilarity) between observations."
   ]
  },
  {
   "cell_type": "code",
   "execution_count": 264,
   "metadata": {
    "colab": {},
    "colab_type": "code",
    "id": "gJcVJnkPoZHG"
   },
   "outputs": [
    {
     "data": {
      "image/png": "[encoded data removed]",
      "text/plain": [
       "<Figure size 432x288 with 1 Axes>"
      ]
     },
     "metadata": {
      "needs_background": "light"
     },
     "output_type": "display_data"
    }
   ],
   "source": [
    "#def P3():\n",
    "\n",
    "### STUDENT START ###\n",
    "### STUDENT END ###\n",
    "kmeans = KMeans(n_clusters=6)\n",
    "kmeans.fit(train_data_pca)\n",
    "pred = kmeans.predict(train_data_pca)\n",
    "\n",
    "figure, axes = plt.subplots()\n",
    "\n",
    "plt.scatter(all_data[all_data[:,2] == 0, 0], all_data[all_data[:,2] == 0, 1], c = 'green', label = 'Non - Poisonous')\n",
    "plt.scatter(all_data[all_data[:,2] == 1, 0], all_data[all_data[:,2] == 1, 1], c = 'red', label = 'Poisonous')\n",
    "\n",
    "centers = kmeans.cluster_centers_\n",
    "plt.scatter(centers[:, 0], centers[:, 1], c = 'black', s = 50, alpha = 1);\n",
    "\n",
    "cluster_distances = np.c_[train_data_pca, pred] \n",
    "cluster_distances\n",
    "\n",
    "radius = []\n",
    "for i, v in enumerate(centers):\n",
    "    a = cluster_distances[cluster_distances[:,2] == i,:2]\n",
    "    dist = 0\n",
    "    for j in a:\n",
    "        temp = np.linalg.norm(j-v)\n",
    "        if temp > dist:\n",
    "            dist=temp\n",
    "    radius.append(dist)\n",
    "\n",
    "\n",
    "\n",
    "for i in range(6):\n",
    "    circ = plt.Circle((centers[i, 0], centers[i, 1]), radius[i], color='black',alpha=0.1)\n",
    "    axes.add_artist(circ)\n",
    "\n",
    "plt.xlim(-3,3);\n",
    "plt.ylim(-3,3);\n",
    "plt.xlabel('Principal Component 1')\n",
    "plt.ylabel('Principal Component 2')\n",
    "plt.legend();\n",
    "\n",
    "#P3()"
   ]
  },
  {
   "cell_type": "markdown",
   "metadata": {
    "colab_type": "text",
    "id": "v4dXc_VloZHI"
   },
   "source": [
    "### Part 4:\n",
    "\n",
    "Fit Gaussian mixture models for the positive (poisonous) examples in your 2d projected data. Vary the number of mixture components from 1 to 4 and the covariance matrix type 'spherical', 'diag', 'tied', 'full' (that's 16 models).  Show square plots of the estimated density contours presented in a 4x4 grid - one row each for a number of mixture components and one column each for a convariance matrix type.  \n",
    "\n",
    "Notes:\n",
    "* You can use `GaussianMixture(n_components=..., covariance_type=..., random_state=12345)` to produce a Gaussian mixture model.\n",
    "* You can use `contour` in combination with other methods to plot contours, like in this example: http://scikit-learn.org/stable/auto_examples/mixture/plot_gmm_pdf.html#example-mixture-plot-gmm-pdf-py\n",
    "* You can use `contour` without the `norm` and `levels` parameters. "
   ]
  },
  {
   "cell_type": "code",
   "execution_count": 286,
   "metadata": {
    "colab": {},
    "colab_type": "code",
    "id": "ZJSPb5gioZHI"
   },
   "outputs": [
    {
     "data": {
      "image/png": "[encoded data removed]",
      "text/plain": [
       "<Figure size 432x288 with 2 Axes>"
      ]
     },
     "metadata": {
      "needs_background": "light"
     },
     "output_type": "display_data"
    }
   ],
   "source": [
    "#def P4():\n",
    "\n",
    "### STUDENT START ###\n",
    "cov_type = ['spherical', 'diag', 'tied', 'full']\n",
    "n = [1,2,3,4]\n",
    "clf = GaussianMixture(n_components=1, covariance_type='spherical', random_state=12345)\n",
    "clf.fit(train_data_pca)\n",
    "x = np.linspace(-2., 3.)\n",
    "y = np.linspace(-2., 4.)\n",
    "X, Y = np.meshgrid(x, y)\n",
    "XX = np.array([X.ravel(), Y.ravel()]).T\n",
    "Z = -clf.score_samples(XX)\n",
    "Z = Z.reshape(X.shape)\n",
    "\n",
    "CS = plt.contour(X, Y, Z, norm=LogNorm(vmin=1.0, vmax=1000.0),\n",
    "                 levels=np.logspace(0, 3, 10))\n",
    "CB = plt.colorbar(CS, shrink=0.8, extend='both')\n",
    "plt.scatter(train_data_pca[:, 0], train_data_pca[:, 1], .8)\n",
    "\n",
    "plt.title('Negative log-likelihood predicted by a GMM')\n",
    "plt.axis('tight')\n",
    "plt.show()\n",
    "\n",
    "### STUDENT END ###\n",
    "\n",
    "#P4()"
   ]
  },
  {
   "cell_type": "markdown",
   "metadata": {
    "colab_type": "text",
    "id": "iMcLxdqDoZHL"
   },
   "source": [
    "### Part 5:\n",
    "\n",
    "Fit two Gaussian mixture models, one for the positive examples and one for the negative examples in your 2d projected data. Use 4 mixture components and full convariance for each model.  Predict the test example labels by picking the labels corresponding to the larger of the two models' probabilities.  What is the accuracy of you predictions on the test data?\n",
    "\n",
    "Notes:\n",
    "* You can use `GaussianMixture(n_components=..., covariance_type=..., random_state=12345)` to produce a Gaussian mixture model.\n",
    "* You can use `GaussianMixture`'s `score_samples` method to find the probabilities."
   ]
  },
  {
   "cell_type": "code",
   "execution_count": 0,
   "metadata": {
    "colab": {},
    "colab_type": "code",
    "id": "AOKXtGBzoZHL"
   },
   "outputs": [],
   "source": [
    "#def P5():\n",
    "\n",
    "### STUDENT START ###\n",
    "### STUDENT END ###\n",
    "\n",
    "#P5()"
   ]
  },
  {
   "cell_type": "markdown",
   "metadata": {
    "colab_type": "text",
    "id": "oWV5Ld70oZHN"
   },
   "source": [
    "### Part 6:\n",
    "\n",
    "Run a series of experiments to find the Gaussian mixture model that results in the best accuracy with no more than 50 parameters.  Do this by varying the number of PCA components, the number of GMM components, and the covariance type.\n",
    "\n",
    "Notes:\n",
    "* You can use `GaussianMixture(n_components=..., covariance_type=..., random_state=12345)` to produce a Gaussian mixture model.\n",
    "\n",
    "\n",
    "* For spherical, diag, and full covariance types:\n",
    "  * number of parameters = (number of parameters per gmm component * number of gmm components - 1) * number of classes\n",
    "  * number of parameters per gmm component includes all the means plus all the non-zero, non-duplicated values in the covariance matrix plus the mixing weight\n",
    "  * Each mixing weight parameter indicates how much to weight a particular gmm component; the -1 above accounts for the fact that the mixing weights must sum to 1, so you do not need to include the last mixing weight as its own parameter\n",
    "\n",
    "\n",
    "* To calculate the number of parameters for tied covariance type:\n",
    "  * number of parameters = (number of parameters per class - 1) * number of classes\n",
    "  * number of parameters per class includes all the means and mixing weights for all the gmm components plus all the non-zero, non-duplicated values in the one shared covariance matrix\n",
    "  * Each mixing weight parameter indicates how much to weight a particular gmm component; the -1 above accounts for the fact that the mixing weights must sum to 1, so you do not need to include the last mixing weight as its own parameter"
   ]
  },
  {
   "cell_type": "code",
   "execution_count": 0,
   "metadata": {
    "colab": {},
    "colab_type": "code",
    "id": "wWCMLsM2oZHN"
   },
   "outputs": [],
   "source": [
    "#def P6():\n",
    "\n",
    "### STUDENT START ###\n",
    "### STUDENT END ###\n",
    "\n",
    "#P6()"
   ]
  }
 ],
 "metadata": {
  "colab": {
   "collapsed_sections": [],
   "name": "firstname_lastname_p3.ipynb",
   "private_outputs": true,
   "provenance": [
    {
     "file_id": "1j7CnNjMJXwJIkwKIT_2sx4EtaOPPcE_E",
     "timestamp": 1562255632020
    },
    {
     "file_id": "1DBrE0aMfKbzUNBJPBpkyxaTi6OLfaWLK",
     "timestamp": 1562255565172
    }
   ],
   "version": "0.3.2"
  },
  "kernelspec": {
   "display_name": "Python 3",
   "language": "python",
   "name": "python3"
  },
  "language_info": {
   "codemirror_mode": {
    "name": "ipython",
    "version": 3
   },
   "file_extension": ".py",
   "mimetype": "text/x-python",
   "name": "python",
   "nbconvert_exporter": "python",
   "pygments_lexer": "ipython3",
   "version": "3.7.4"
  },
  "toc": {
   "base_numbering": 1,
   "nav_menu": {},
   "number_sections": false,
   "sideBar": true,
   "skip_h1_title": true,
   "title_cell": "Table of Contents",
   "title_sidebar": "Contents",
   "toc_cell": false,
   "toc_position": {},
   "toc_section_display": true,
   "toc_window_display": false
  }
 },
 "nbformat": 4,
 "nbformat_minor": 1
}
