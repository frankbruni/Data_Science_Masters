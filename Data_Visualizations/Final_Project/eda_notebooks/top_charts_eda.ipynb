{
 "metadata": {
  "language_info": {
   "codemirror_mode": {
    "name": "ipython",
    "version": 3
   },
   "file_extension": ".py",
   "mimetype": "text/x-python",
   "name": "python",
   "nbconvert_exporter": "python",
   "pygments_lexer": "ipython3",
   "version": "3.8.2-final"
  },
  "orig_nbformat": 2,
  "kernelspec": {
   "name": "python3",
   "display_name": "Python 3.8.2 64-bit",
   "metadata": {
    "interpreter": {
     "hash": "31f2aee4e71d21fbe5cf8b01ff0e069b9275f58929596ceb00d14d90e3e16cd6"
    }
   }
  }
 },
 "nbformat": 4,
 "nbformat_minor": 2,
 "cells": [
  {
   "source": [
    "# Top Charts Exploratory Data Analysis"
   ],
   "cell_type": "markdown",
   "metadata": {}
  },
  {
   "source": [
    "## Loading Dependencies"
   ],
   "cell_type": "markdown",
   "metadata": {}
  },
  {
   "cell_type": "code",
   "execution_count": 191,
   "metadata": {},
   "outputs": [],
   "source": [
    "import pandas as pd\n",
    "from collections import Counter\n",
    "import altair as alt\n",
    "import nltk\n",
    "import regex as re"
   ]
  },
  {
   "source": [
    "## Loading in Data"
   ],
   "cell_type": "markdown",
   "metadata": {}
  },
  {
   "cell_type": "code",
   "execution_count": 192,
   "metadata": {},
   "outputs": [
    {
     "output_type": "execute_result",
     "data": {
      "text/plain": [
       "                     artist  \\\n",
       "0     The Weeknd, Daft Punk   \n",
       "1  The Chainsmokers, Halsey   \n",
       "2              Clean Bandit   \n",
       "3   DJ Snake, Justin Bieber   \n",
       "4        ZAYN, Taylor Swift   \n",
       "\n",
       "                                               track     genius_artist  \\\n",
       "0                                            Starboy        The weeknd   \n",
       "1                                             Closer  The chainsmokers   \n",
       "2            Rockabye (feat. Sean Paul & Anne-Marie)      Clean bandit   \n",
       "3                                    Let Me Love You          Dj snake   \n",
       "4  I Don’t Wanna Live Forever (Fifty Shades Darke...              Zayn   \n",
       "\n",
       "                genius_track  \\\n",
       "0                    Starboy   \n",
       "1                     Closer   \n",
       "2                   Rockabye   \n",
       "3            Let me love you   \n",
       "4  I dont wanna live forever   \n",
       "\n",
       "                                              lyrics     genre  \n",
       "0     I'm tryna put you in the worst mood, ah P1 ...  r-b, pop  \n",
       "1     Hey, I was doing just fine before I met you...       pop  \n",
       "2     Call it love and devotion Call it a mom's a...       pop  \n",
       "3     I used to believe We were burnin' on the ed...       pop  \n",
       "4     Been sitting eyes wide open behind these fo...  r-b, pop  "
      ],
      "text/html": "<div>\n<style scoped>\n    .dataframe tbody tr th:only-of-type {\n        vertical-align: middle;\n    }\n\n    .dataframe tbody tr th {\n        vertical-align: top;\n    }\n\n    .dataframe thead th {\n        text-align: right;\n    }\n</style>\n<table border=\"1\" class=\"dataframe\">\n  <thead>\n    <tr style=\"text-align: right;\">\n      <th></th>\n      <th>artist</th>\n      <th>track</th>\n      <th>genius_artist</th>\n      <th>genius_track</th>\n      <th>lyrics</th>\n      <th>genre</th>\n    </tr>\n  </thead>\n  <tbody>\n    <tr>\n      <th>0</th>\n      <td>The Weeknd, Daft Punk</td>\n      <td>Starboy</td>\n      <td>The weeknd</td>\n      <td>Starboy</td>\n      <td>I'm tryna put you in the worst mood, ah P1 ...</td>\n      <td>r-b, pop</td>\n    </tr>\n    <tr>\n      <th>1</th>\n      <td>The Chainsmokers, Halsey</td>\n      <td>Closer</td>\n      <td>The chainsmokers</td>\n      <td>Closer</td>\n      <td>Hey, I was doing just fine before I met you...</td>\n      <td>pop</td>\n    </tr>\n    <tr>\n      <th>2</th>\n      <td>Clean Bandit</td>\n      <td>Rockabye (feat. Sean Paul &amp; Anne-Marie)</td>\n      <td>Clean bandit</td>\n      <td>Rockabye</td>\n      <td>Call it love and devotion Call it a mom's a...</td>\n      <td>pop</td>\n    </tr>\n    <tr>\n      <th>3</th>\n      <td>DJ Snake, Justin Bieber</td>\n      <td>Let Me Love You</td>\n      <td>Dj snake</td>\n      <td>Let me love you</td>\n      <td>I used to believe We were burnin' on the ed...</td>\n      <td>pop</td>\n    </tr>\n    <tr>\n      <th>4</th>\n      <td>ZAYN, Taylor Swift</td>\n      <td>I Don’t Wanna Live Forever (Fifty Shades Darke...</td>\n      <td>Zayn</td>\n      <td>I dont wanna live forever</td>\n      <td>Been sitting eyes wide open behind these fo...</td>\n      <td>r-b, pop</td>\n    </tr>\n  </tbody>\n</table>\n</div>"
     },
     "metadata": {},
     "execution_count": 192
    }
   ],
   "source": [
    "df = pd.read_csv('cleaned_data/all_top_songs_with_genres_nolist.csv')\n",
    "# preview of dataframe\n",
    "df.head()"
   ]
  },
  {
   "source": [
    "## Cleaning Up List of Genres"
   ],
   "cell_type": "markdown",
   "metadata": {}
  },
  {
   "cell_type": "code",
   "execution_count": 193,
   "metadata": {},
   "outputs": [],
   "source": [
    "# cleaning up the genres column on copy of dataframe\n",
    "df_ = df.copy()\n",
    "df_['genre'] = df_['genre'].str.split(\", \")\n"
   ]
  },
  {
   "cell_type": "code",
   "execution_count": 194,
   "metadata": {},
   "outputs": [],
   "source": [
    "# add all values to a list to generate a unique list of values\n",
    "genres_list = []\n",
    "for idx, value in enumerate(df_['genre']):\n",
    "    genres_list.extend(value)"
   ]
  },
  {
   "source": [
    "### Adding in Columns for genres"
   ],
   "cell_type": "markdown",
   "metadata": {}
  },
  {
   "cell_type": "code",
   "execution_count": 195,
   "metadata": {},
   "outputs": [],
   "source": [
    "df_['pop'] = df.genre.str.contains('pop')==True\n",
    "df_['rb'] = df.genre.str.contains('r-b')==True\n",
    "df_['rap'] = df.genre.str.contains('rap')==True\n",
    "df_['rock'] = df.genre.str.contains('rock')==True\n",
    "df_['non-music'] = df.genre.str.contains('non-music')==True\n",
    "df_['country'] = df.genre.str.contains('country')==True\n",
    "df_['no_genre'] = df.genre.str.contains('m')==True"
   ]
  },
  {
   "cell_type": "code",
   "execution_count": 196,
   "metadata": {},
   "outputs": [
    {
     "output_type": "execute_result",
     "data": {
      "text/plain": [
       "                     artist  \\\n",
       "0     The Weeknd, Daft Punk   \n",
       "1  The Chainsmokers, Halsey   \n",
       "2              Clean Bandit   \n",
       "3   DJ Snake, Justin Bieber   \n",
       "4        ZAYN, Taylor Swift   \n",
       "\n",
       "                                               track     genius_artist  \\\n",
       "0                                            Starboy        The weeknd   \n",
       "1                                             Closer  The chainsmokers   \n",
       "2            Rockabye (feat. Sean Paul & Anne-Marie)      Clean bandit   \n",
       "3                                    Let Me Love You          Dj snake   \n",
       "4  I Don’t Wanna Live Forever (Fifty Shades Darke...              Zayn   \n",
       "\n",
       "                genius_track  \\\n",
       "0                    Starboy   \n",
       "1                     Closer   \n",
       "2                   Rockabye   \n",
       "3            Let me love you   \n",
       "4  I dont wanna live forever   \n",
       "\n",
       "                                              lyrics       genre  pop  rb  \\\n",
       "0     I'm tryna put you in the worst mood, ah P1 ...  [r-b, pop]    1   1   \n",
       "1     Hey, I was doing just fine before I met you...       [pop]    1   0   \n",
       "2     Call it love and devotion Call it a mom's a...       [pop]    1   0   \n",
       "3     I used to believe We were burnin' on the ed...       [pop]    1   0   \n",
       "4     Been sitting eyes wide open behind these fo...  [r-b, pop]    1   1   \n",
       "\n",
       "   rap  rock  non-music  country  no_genre  \n",
       "0    0     0          0        0         0  \n",
       "1    0     0          0        0         0  \n",
       "2    0     0          0        0         0  \n",
       "3    0     0          0        0         0  \n",
       "4    0     0          0        0         0  "
      ],
      "text/html": "<div>\n<style scoped>\n    .dataframe tbody tr th:only-of-type {\n        vertical-align: middle;\n    }\n\n    .dataframe tbody tr th {\n        vertical-align: top;\n    }\n\n    .dataframe thead th {\n        text-align: right;\n    }\n</style>\n<table border=\"1\" class=\"dataframe\">\n  <thead>\n    <tr style=\"text-align: right;\">\n      <th></th>\n      <th>artist</th>\n      <th>track</th>\n      <th>genius_artist</th>\n      <th>genius_track</th>\n      <th>lyrics</th>\n      <th>genre</th>\n      <th>pop</th>\n      <th>rb</th>\n      <th>rap</th>\n      <th>rock</th>\n      <th>non-music</th>\n      <th>country</th>\n      <th>no_genre</th>\n    </tr>\n  </thead>\n  <tbody>\n    <tr>\n      <th>0</th>\n      <td>The Weeknd, Daft Punk</td>\n      <td>Starboy</td>\n      <td>The weeknd</td>\n      <td>Starboy</td>\n      <td>I'm tryna put you in the worst mood, ah P1 ...</td>\n      <td>[r-b, pop]</td>\n      <td>1</td>\n      <td>1</td>\n      <td>0</td>\n      <td>0</td>\n      <td>0</td>\n      <td>0</td>\n      <td>0</td>\n    </tr>\n    <tr>\n      <th>1</th>\n      <td>The Chainsmokers, Halsey</td>\n      <td>Closer</td>\n      <td>The chainsmokers</td>\n      <td>Closer</td>\n      <td>Hey, I was doing just fine before I met you...</td>\n      <td>[pop]</td>\n      <td>1</td>\n      <td>0</td>\n      <td>0</td>\n      <td>0</td>\n      <td>0</td>\n      <td>0</td>\n      <td>0</td>\n    </tr>\n    <tr>\n      <th>2</th>\n      <td>Clean Bandit</td>\n      <td>Rockabye (feat. Sean Paul &amp; Anne-Marie)</td>\n      <td>Clean bandit</td>\n      <td>Rockabye</td>\n      <td>Call it love and devotion Call it a mom's a...</td>\n      <td>[pop]</td>\n      <td>1</td>\n      <td>0</td>\n      <td>0</td>\n      <td>0</td>\n      <td>0</td>\n      <td>0</td>\n      <td>0</td>\n    </tr>\n    <tr>\n      <th>3</th>\n      <td>DJ Snake, Justin Bieber</td>\n      <td>Let Me Love You</td>\n      <td>Dj snake</td>\n      <td>Let me love you</td>\n      <td>I used to believe We were burnin' on the ed...</td>\n      <td>[pop]</td>\n      <td>1</td>\n      <td>0</td>\n      <td>0</td>\n      <td>0</td>\n      <td>0</td>\n      <td>0</td>\n      <td>0</td>\n    </tr>\n    <tr>\n      <th>4</th>\n      <td>ZAYN, Taylor Swift</td>\n      <td>I Don’t Wanna Live Forever (Fifty Shades Darke...</td>\n      <td>Zayn</td>\n      <td>I dont wanna live forever</td>\n      <td>Been sitting eyes wide open behind these fo...</td>\n      <td>[r-b, pop]</td>\n      <td>1</td>\n      <td>1</td>\n      <td>0</td>\n      <td>0</td>\n      <td>0</td>\n      <td>0</td>\n      <td>0</td>\n    </tr>\n  </tbody>\n</table>\n</div>"
     },
     "metadata": {},
     "execution_count": 196
    }
   ],
   "source": [
    "df_['pop'] = df_['pop'].astype(int)\n",
    "df_['rb'] = df_['rb'].astype(int)\n",
    "df_['rap'] = df_['rap'].astype(int)\n",
    "df_['rock'] = df_['rock'].astype(int)\n",
    "df_['non-music'] = df_['non-music'].astype(int)\n",
    "df_['country'] = df_['country'].astype(int)\n",
    "df_['no_genre'] = df_['no_genre'].astype(int)\n",
    "df_.head()"
   ]
  },
  {
   "cell_type": "code",
   "execution_count": 197,
   "metadata": {},
   "outputs": [],
   "source": [
    "### Saving to CSV\n",
    "df_.to_csv('cleaned_data/OHE_all_top_songs.csv', index=False)"
   ]
  },
  {
   "cell_type": "code",
   "execution_count": 198,
   "metadata": {},
   "outputs": [
    {
     "output_type": "execute_result",
     "data": {
      "text/plain": [
       "202         Don Omar, Zion & Lennox\n",
       "586                    Lil Uzi Vert\n",
       "591                    Lil Uzi Vert\n",
       "614     G-Eazy, A$AP Rocky, Cardi B\n",
       "700                          Eminem\n",
       "750                          Eminem\n",
       "758                          Eminem\n",
       "763                          Eminem\n",
       "767                          Eminem\n",
       "769            G-Eazy, Charlie Puth\n",
       "770                          Eminem\n",
       "771                          Eminem\n",
       "773                          Eminem\n",
       "775                          Eminem\n",
       "777                          Eminem\n",
       "810                    Travis Scott\n",
       "829                      Juice WRLD\n",
       "1016                     Juice WRLD\n",
       "1060                     Juice WRLD\n",
       "1061                     Juice WRLD\n",
       "1574                   Taylor Swift\n",
       "1858                     Kanye West\n",
       "2021                   Travis Scott\n",
       "2093                         Eminem\n",
       "2260                    Don Toliver\n",
       "2312                         Eminem\n",
       "2317                         Eminem\n",
       "2466                    Don Toliver\n",
       "2556                   Lil Uzi Vert\n",
       "2719                     Juice WRLD\n",
       "2776                     Juice WRLD\n",
       "3099                         Eminem\n",
       "3157                   Taylor Swift\n",
       "3298                 Paul Rosenberg\n",
       "3371                  The Kid LAROI\n",
       "Name: artist, dtype: object"
      ]
     },
     "metadata": {},
     "execution_count": 198
    }
   ],
   "source": [
    "df_[df_['non-music'] == 1]['artist']"
   ]
  },
  {
   "cell_type": "code",
   "execution_count": 199,
   "metadata": {},
   "outputs": [],
   "source": [
    "# drop non-music and bc they are all either having another genre or missing a genre\n",
    "df_ = df_.drop(columns=['non-music'])"
   ]
  },
  {
   "cell_type": "code",
   "execution_count": 200,
   "metadata": {},
   "outputs": [],
   "source": [
    "missing_genres = []\n",
    "for i in range(len(df_.artist)):\n",
    "    if sum(df_.iloc[i,6:11]) > 0:\n",
    "        item = 0\n",
    "        missing_genres.append(item)\n",
    "    else:\n",
    "        item = 1\n",
    "        missing_genres.append(item)"
   ]
  },
  {
   "cell_type": "code",
   "execution_count": 201,
   "metadata": {},
   "outputs": [],
   "source": [
    "df_['no_genre'] = missing_genres"
   ]
  },
  {
   "source": [
    "## Visualizations"
   ],
   "cell_type": "markdown",
   "metadata": {}
  },
  {
   "cell_type": "code",
   "execution_count": 202,
   "metadata": {},
   "outputs": [
    {
     "output_type": "execute_result",
     "data": {
      "text/plain": [
       "{'r-b': 520,\n",
       " 'pop': 1912,\n",
       " 'rap': 1463,\n",
       " 'rock': 225,\n",
       " 'non-music': 35,\n",
       " 'country': 42,\n",
       " 'm': 148}"
      ]
     },
     "metadata": {},
     "execution_count": 202
    }
   ],
   "source": [
    "genre_frequencies = dict(Counter(genres_list))\n",
    "genre_frequencies"
   ]
  },
  {
   "cell_type": "code",
   "execution_count": 203,
   "metadata": {},
   "outputs": [],
   "source": [
    "genre_frequencies_df = pd.DataFrame.from_records([genre_frequencies])\n",
    "genre_frequencies_df = genre_frequencies_df.rename(index={0:'counts'}).T.reset_index().rename(columns={'index':'genres'})\n",
    "genre_frequencies_df = genre_frequencies_df[genre_frequencies_df['genres'].isin(['r-b', 'pop', 'rap', 'rock', 'country'])]\n",
    "genre_frequencies_df.to_csv('cleaned_data/genre_song_counts.csv', index = False)"
   ]
  },
  {
   "cell_type": "code",
   "execution_count": null,
   "metadata": {},
   "outputs": [],
   "source": []
  },
  {
   "cell_type": "code",
   "execution_count": 204,
   "metadata": {},
   "outputs": [
    {
     "output_type": "execute_result",
     "data": {
      "text/html": "\n<div id=\"altair-viz-06cf8ef954544a7dafd63e1dc0c5648a\"></div>\n<script type=\"text/javascript\">\n  (function(spec, embedOpt){\n    let outputDiv = document.currentScript.previousElementSibling;\n    if (outputDiv.id !== \"altair-viz-06cf8ef954544a7dafd63e1dc0c5648a\") {\n      outputDiv = document.getElementById(\"altair-viz-06cf8ef954544a7dafd63e1dc0c5648a\");\n    }\n    const paths = {\n      \"vega\": \"https://cdn.jsdelivr.net/npm//vega@5?noext\",\n      \"vega-lib\": \"https://cdn.jsdelivr.net/npm//vega-lib?noext\",\n      \"vega-lite\": \"https://cdn.jsdelivr.net/npm//vega-lite@4.8.1?noext\",\n      \"vega-embed\": \"https://cdn.jsdelivr.net/npm//vega-embed@6?noext\",\n    };\n\n    function loadScript(lib) {\n      return new Promise(function(resolve, reject) {\n        var s = document.createElement('script');\n        s.src = paths[lib];\n        s.async = true;\n        s.onload = () => resolve(paths[lib]);\n        s.onerror = () => reject(`Error loading script: ${paths[lib]}`);\n        document.getElementsByTagName(\"head\")[0].appendChild(s);\n      });\n    }\n\n    function showError(err) {\n      outputDiv.innerHTML = `<div class=\"error\" style=\"color:red;\">${err}</div>`;\n      throw err;\n    }\n\n    function displayChart(vegaEmbed) {\n      vegaEmbed(outputDiv, spec, embedOpt)\n        .catch(err => showError(`Javascript Error: ${err.message}<br>This usually means there's a typo in your chart specification. See the javascript console for the full traceback.`));\n    }\n\n    if(typeof define === \"function\" && define.amd) {\n      requirejs.config({paths});\n      require([\"vega-embed\"], displayChart, err => showError(`Error loading script: ${err.message}`));\n    } else if (typeof vegaEmbed === \"function\") {\n      displayChart(vegaEmbed);\n    } else {\n      loadScript(\"vega\")\n        .then(() => loadScript(\"vega-lite\"))\n        .then(() => loadScript(\"vega-embed\"))\n        .catch(showError)\n        .then(() => displayChart(vegaEmbed));\n    }\n  })({\"config\": {\"view\": {\"continuousWidth\": 400, \"continuousHeight\": 300}, \"range\": {\"category\": {\"scheme\": \"tableau10\"}}}, \"layer\": [{\"mark\": \"bar\", \"encoding\": {\"color\": {\"type\": \"nominal\", \"field\": \"genres\"}, \"x\": {\"type\": \"nominal\", \"field\": \"genres\"}, \"y\": {\"type\": \"quantitative\", \"field\": \"counts\"}}}, {\"mark\": {\"type\": \"text\", \"align\": \"center\", \"dy\": -10}, \"encoding\": {\"color\": {\"type\": \"nominal\", \"field\": \"genres\"}, \"text\": {\"type\": \"quantitative\", \"field\": \"counts\"}, \"x\": {\"type\": \"nominal\", \"field\": \"genres\"}, \"y\": {\"type\": \"quantitative\", \"field\": \"counts\"}}}], \"data\": {\"name\": \"data-71b9376e6bf3f53f754160b399217023\"}, \"height\": 500, \"title\": \"Frequency of Genres on Top 200 Charts\", \"width\": 400, \"$schema\": \"https://vega.github.io/schema/vega-lite/v4.8.1.json\", \"datasets\": {\"data-71b9376e6bf3f53f754160b399217023\": [{\"genres\": \"r-b\", \"counts\": 520}, {\"genres\": \"pop\", \"counts\": 1912}, {\"genres\": \"rap\", \"counts\": 1463}, {\"genres\": \"rock\", \"counts\": 225}, {\"genres\": \"country\", \"counts\": 42}]}}, {\"mode\": \"vega-lite\"});\n</script>",
      "text/plain": [
       "alt.LayerChart(...)"
      ]
     },
     "metadata": {},
     "execution_count": 204
    }
   ],
   "source": [
    "bars = alt.Chart(data=genre_frequencies_df).mark_bar().encode(\n",
    "x= 'genres',\n",
    "y = 'counts',\n",
    "color = 'genres'\n",
    ")\n",
    "text = bars.mark_text(\n",
    "    align='center',\n",
    "    # baseline='top',\n",
    "    dy=-10 \n",
    ").encode(\n",
    "    text='counts:Q',\n",
    ")\n",
    "\n",
    "(bars + text).properties(height=500, width = 400,title = \"Frequency of Genres on Top 200 Charts\").configure_range(\n",
    "    category={'scheme': 'tableau10'}\n",
    ")"
   ]
  },
  {
   "source": [
    "There seem to be data that is labeled as non-music which is strange because there shouldn't be any labeled non-music. If there is another genre listed, remove non-music"
   ],
   "cell_type": "markdown",
   "metadata": {}
  },
  {
   "source": [
    "# Keyword Extraction of all Genres"
   ],
   "cell_type": "markdown",
   "metadata": {}
  },
  {
   "cell_type": "code",
   "execution_count": 205,
   "metadata": {},
   "outputs": [],
   "source": [
    "### Importing More Dependencies\n",
    "from resources.word_extraction.text_cleaning import lem_stem_text\n",
    "from resources.word_extraction.stopwords import remove_stopw, get_stopwords\n",
    "from resources.analyze import find_keywords, find_instances"
   ]
  },
  {
   "cell_type": "code",
   "execution_count": 206,
   "metadata": {},
   "outputs": [],
   "source": [
    "df_['cleaned_lyrics'] = df_['lyrics'].str.replace('[^\\w\\s]','')\n",
    "df_['cleaned_lyrics'] = df_['cleaned_lyrics'].str.replace('missing lyrics','')\n",
    "df_['cleaned_lyrics'] = df_['cleaned_lyrics'].apply(remove_stopw)\n",
    "df_['cleaned_lyrics'] = df_['cleaned_lyrics'].apply(lem_stem_text)\n",
    "df_['cleaned_lyrics'] = df_.cleaned_lyrics.str.strip().str.split(' ')"
   ]
  },
  {
   "cell_type": "code",
   "execution_count": 207,
   "metadata": {},
   "outputs": [
    {
     "output_type": "execute_result",
     "data": {
      "text/plain": [
       "                        artist  \\\n",
       "0        The Weeknd, Daft Punk   \n",
       "1     The Chainsmokers, Halsey   \n",
       "2                 Clean Bandit   \n",
       "3      DJ Snake, Justin Bieber   \n",
       "4           ZAYN, Taylor Swift   \n",
       "...                        ...   \n",
       "3419             Sfera Ebbasta   \n",
       "3420           Trio Vegabajeño   \n",
       "3421           Camilo, El Alfa   \n",
       "3422              Taylor Swift   \n",
       "3423               Bing Crosby   \n",
       "\n",
       "                                                  track     genius_artist  \\\n",
       "0                                               Starboy        The weeknd   \n",
       "1                                                Closer  The chainsmokers   \n",
       "2               Rockabye (feat. Sean Paul & Anne-Marie)      Clean bandit   \n",
       "3                                       Let Me Love You          Dj snake   \n",
       "4     I Don’t Wanna Live Forever (Fifty Shades Darke...              Zayn   \n",
       "...                                                 ...               ...   \n",
       "3419                            Hollywood (feat. Diplo)     Sfera ebbasta   \n",
       "3420                                CANTARES DE NAVIDAD   Trio vegabajeno   \n",
       "3421                                               BEBÉ            Camilo   \n",
       "3422                                   long story short      Taylor swift   \n",
       "3423         Do You Hear What I Hear? - Remastered 2006       Bing crosby   \n",
       "\n",
       "                   genius_track  \\\n",
       "0                       Starboy   \n",
       "1                        Closer   \n",
       "2                      Rockabye   \n",
       "3               Let me love you   \n",
       "4     I dont wanna live forever   \n",
       "...                         ...   \n",
       "3419                  Hollywood   \n",
       "3420        Cantares de navidad   \n",
       "3421                       Bebe   \n",
       "3422           Long story short   \n",
       "3423    Do you hear what i hear   \n",
       "\n",
       "                                                 lyrics       genre  pop  rb  \\\n",
       "0        I'm tryna put you in the worst mood, ah P1 ...  [r-b, pop]    1   1   \n",
       "1        Hey, I was doing just fine before I met you...       [pop]    1   0   \n",
       "2        Call it love and devotion Call it a mom's a...       [pop]    1   0   \n",
       "3        I used to believe We were burnin' on the ed...       [pop]    1   0   \n",
       "4        Been sitting eyes wide open behind these fo...  [r-b, pop]    1   1   \n",
       "...                                                 ...         ...  ...  ..   \n",
       "3419       La mia ex mi scrive Mi dice che le manco ...       [pop]    1   0   \n",
       "3420       Navidad que vuelve, tradición del año Uno...       [pop]    1   0   \n",
       "3421       Un, dos, tres y   El la'o de tu cama que ...       [pop]    1   0   \n",
       "3422                                     missing lyrics         [m]    0   0   \n",
       "3423    Do you hear what I hear?  Said the night win...       [pop]    1   0   \n",
       "\n",
       "      rap  rock  country  no_genre  \\\n",
       "0       0     0        0         0   \n",
       "1       0     0        0         0   \n",
       "2       0     0        0         0   \n",
       "3       0     0        0         0   \n",
       "4       0     0        0         0   \n",
       "...   ...   ...      ...       ...   \n",
       "3419    0     0        0         0   \n",
       "3420    0     0        0         0   \n",
       "3421    0     0        0         0   \n",
       "3422    0     0        0         1   \n",
       "3423    0     0        0         0   \n",
       "\n",
       "                                         cleaned_lyrics  \n",
       "0     [im, tryna, worst, mood, ah, p1, cleaner, chur...  \n",
       "1     [hey, fine, met, drink, issu, im, hey, friend,...  \n",
       "2     [call, love, devot, call, mom, ador, foundat, ...  \n",
       "3     [burnin, edg, somethin, beauti, somethin, beau...  \n",
       "4     [sit, eye, wide, wall, hope, youd, call, cruel...  \n",
       "...                                                 ...  \n",
       "3419  [scrive, dice, che, manco, da, morir, quando, ...  \n",
       "3420  [navidad, vuelv, tradición, año, van, alegr, v...  \n",
       "3421  [do, tre, lao, cama, calient, está, congelando...  \n",
       "3422                                                 []  \n",
       "3423  [hear, hear, night, wind, lamb, sky, lamb, sta...  \n",
       "\n",
       "[3424 rows x 13 columns]"
      ],
      "text/html": "<div>\n<style scoped>\n    .dataframe tbody tr th:only-of-type {\n        vertical-align: middle;\n    }\n\n    .dataframe tbody tr th {\n        vertical-align: top;\n    }\n\n    .dataframe thead th {\n        text-align: right;\n    }\n</style>\n<table border=\"1\" class=\"dataframe\">\n  <thead>\n    <tr style=\"text-align: right;\">\n      <th></th>\n      <th>artist</th>\n      <th>track</th>\n      <th>genius_artist</th>\n      <th>genius_track</th>\n      <th>lyrics</th>\n      <th>genre</th>\n      <th>pop</th>\n      <th>rb</th>\n      <th>rap</th>\n      <th>rock</th>\n      <th>country</th>\n      <th>no_genre</th>\n      <th>cleaned_lyrics</th>\n    </tr>\n  </thead>\n  <tbody>\n    <tr>\n      <th>0</th>\n      <td>The Weeknd, Daft Punk</td>\n      <td>Starboy</td>\n      <td>The weeknd</td>\n      <td>Starboy</td>\n      <td>I'm tryna put you in the worst mood, ah P1 ...</td>\n      <td>[r-b, pop]</td>\n      <td>1</td>\n      <td>1</td>\n      <td>0</td>\n      <td>0</td>\n      <td>0</td>\n      <td>0</td>\n      <td>[im, tryna, worst, mood, ah, p1, cleaner, chur...</td>\n    </tr>\n    <tr>\n      <th>1</th>\n      <td>The Chainsmokers, Halsey</td>\n      <td>Closer</td>\n      <td>The chainsmokers</td>\n      <td>Closer</td>\n      <td>Hey, I was doing just fine before I met you...</td>\n      <td>[pop]</td>\n      <td>1</td>\n      <td>0</td>\n      <td>0</td>\n      <td>0</td>\n      <td>0</td>\n      <td>0</td>\n      <td>[hey, fine, met, drink, issu, im, hey, friend,...</td>\n    </tr>\n    <tr>\n      <th>2</th>\n      <td>Clean Bandit</td>\n      <td>Rockabye (feat. Sean Paul &amp; Anne-Marie)</td>\n      <td>Clean bandit</td>\n      <td>Rockabye</td>\n      <td>Call it love and devotion Call it a mom's a...</td>\n      <td>[pop]</td>\n      <td>1</td>\n      <td>0</td>\n      <td>0</td>\n      <td>0</td>\n      <td>0</td>\n      <td>0</td>\n      <td>[call, love, devot, call, mom, ador, foundat, ...</td>\n    </tr>\n    <tr>\n      <th>3</th>\n      <td>DJ Snake, Justin Bieber</td>\n      <td>Let Me Love You</td>\n      <td>Dj snake</td>\n      <td>Let me love you</td>\n      <td>I used to believe We were burnin' on the ed...</td>\n      <td>[pop]</td>\n      <td>1</td>\n      <td>0</td>\n      <td>0</td>\n      <td>0</td>\n      <td>0</td>\n      <td>0</td>\n      <td>[burnin, edg, somethin, beauti, somethin, beau...</td>\n    </tr>\n    <tr>\n      <th>4</th>\n      <td>ZAYN, Taylor Swift</td>\n      <td>I Don’t Wanna Live Forever (Fifty Shades Darke...</td>\n      <td>Zayn</td>\n      <td>I dont wanna live forever</td>\n      <td>Been sitting eyes wide open behind these fo...</td>\n      <td>[r-b, pop]</td>\n      <td>1</td>\n      <td>1</td>\n      <td>0</td>\n      <td>0</td>\n      <td>0</td>\n      <td>0</td>\n      <td>[sit, eye, wide, wall, hope, youd, call, cruel...</td>\n    </tr>\n    <tr>\n      <th>...</th>\n      <td>...</td>\n      <td>...</td>\n      <td>...</td>\n      <td>...</td>\n      <td>...</td>\n      <td>...</td>\n      <td>...</td>\n      <td>...</td>\n      <td>...</td>\n      <td>...</td>\n      <td>...</td>\n      <td>...</td>\n      <td>...</td>\n    </tr>\n    <tr>\n      <th>3419</th>\n      <td>Sfera Ebbasta</td>\n      <td>Hollywood (feat. Diplo)</td>\n      <td>Sfera ebbasta</td>\n      <td>Hollywood</td>\n      <td>La mia ex mi scrive Mi dice che le manco ...</td>\n      <td>[pop]</td>\n      <td>1</td>\n      <td>0</td>\n      <td>0</td>\n      <td>0</td>\n      <td>0</td>\n      <td>0</td>\n      <td>[scrive, dice, che, manco, da, morir, quando, ...</td>\n    </tr>\n    <tr>\n      <th>3420</th>\n      <td>Trio Vegabajeño</td>\n      <td>CANTARES DE NAVIDAD</td>\n      <td>Trio vegabajeno</td>\n      <td>Cantares de navidad</td>\n      <td>Navidad que vuelve, tradición del año Uno...</td>\n      <td>[pop]</td>\n      <td>1</td>\n      <td>0</td>\n      <td>0</td>\n      <td>0</td>\n      <td>0</td>\n      <td>0</td>\n      <td>[navidad, vuelv, tradición, año, van, alegr, v...</td>\n    </tr>\n    <tr>\n      <th>3421</th>\n      <td>Camilo, El Alfa</td>\n      <td>BEBÉ</td>\n      <td>Camilo</td>\n      <td>Bebe</td>\n      <td>Un, dos, tres y   El la'o de tu cama que ...</td>\n      <td>[pop]</td>\n      <td>1</td>\n      <td>0</td>\n      <td>0</td>\n      <td>0</td>\n      <td>0</td>\n      <td>0</td>\n      <td>[do, tre, lao, cama, calient, está, congelando...</td>\n    </tr>\n    <tr>\n      <th>3422</th>\n      <td>Taylor Swift</td>\n      <td>long story short</td>\n      <td>Taylor swift</td>\n      <td>Long story short</td>\n      <td>missing lyrics</td>\n      <td>[m]</td>\n      <td>0</td>\n      <td>0</td>\n      <td>0</td>\n      <td>0</td>\n      <td>0</td>\n      <td>1</td>\n      <td>[]</td>\n    </tr>\n    <tr>\n      <th>3423</th>\n      <td>Bing Crosby</td>\n      <td>Do You Hear What I Hear? - Remastered 2006</td>\n      <td>Bing crosby</td>\n      <td>Do you hear what i hear</td>\n      <td>Do you hear what I hear?  Said the night win...</td>\n      <td>[pop]</td>\n      <td>1</td>\n      <td>0</td>\n      <td>0</td>\n      <td>0</td>\n      <td>0</td>\n      <td>0</td>\n      <td>[hear, hear, night, wind, lamb, sky, lamb, sta...</td>\n    </tr>\n  </tbody>\n</table>\n<p>3424 rows × 13 columns</p>\n</div>"
     },
     "metadata": {},
     "execution_count": 207
    }
   ],
   "source": [
    "df_"
   ]
  },
  {
   "cell_type": "code",
   "execution_count": 208,
   "metadata": {},
   "outputs": [
    {
     "output_type": "execute_result",
     "data": {
      "text/plain": [
       "579547"
      ]
     },
     "metadata": {},
     "execution_count": 208
    }
   ],
   "source": [
    "## getting a list of all lemmed and stemmed keywords without stopwords\n",
    "lyrics_wordlist = df_['cleaned_lyrics'].tolist()\n",
    "words_list = []\n",
    "for i in lyrics_wordlist:\n",
    "    words_list.extend(i)\n",
    "len(words_list)"
   ]
  },
  {
   "cell_type": "code",
   "execution_count": 209,
   "metadata": {},
   "outputs": [
    {
     "output_type": "execute_result",
     "data": {
      "text/plain": [
       "           word  count\n",
       "0            im  15249\n",
       "214        yeah   9620\n",
       "40         dont   8962\n",
       "33         love   6381\n",
       "34         babi   4687\n",
       "...         ...    ...\n",
       "23310      børn      1\n",
       "23307      lore      1\n",
       "23306      yoke      1\n",
       "23305      esso      1\n",
       "38878  arroparm      1\n",
       "\n",
       "[38879 rows x 2 columns]"
      ],
      "text/html": "<div>\n<style scoped>\n    .dataframe tbody tr th:only-of-type {\n        vertical-align: middle;\n    }\n\n    .dataframe tbody tr th {\n        vertical-align: top;\n    }\n\n    .dataframe thead th {\n        text-align: right;\n    }\n</style>\n<table border=\"1\" class=\"dataframe\">\n  <thead>\n    <tr style=\"text-align: right;\">\n      <th></th>\n      <th>word</th>\n      <th>count</th>\n    </tr>\n  </thead>\n  <tbody>\n    <tr>\n      <th>0</th>\n      <td>im</td>\n      <td>15249</td>\n    </tr>\n    <tr>\n      <th>214</th>\n      <td>yeah</td>\n      <td>9620</td>\n    </tr>\n    <tr>\n      <th>40</th>\n      <td>dont</td>\n      <td>8962</td>\n    </tr>\n    <tr>\n      <th>33</th>\n      <td>love</td>\n      <td>6381</td>\n    </tr>\n    <tr>\n      <th>34</th>\n      <td>babi</td>\n      <td>4687</td>\n    </tr>\n    <tr>\n      <th>...</th>\n      <td>...</td>\n      <td>...</td>\n    </tr>\n    <tr>\n      <th>23310</th>\n      <td>børn</td>\n      <td>1</td>\n    </tr>\n    <tr>\n      <th>23307</th>\n      <td>lore</td>\n      <td>1</td>\n    </tr>\n    <tr>\n      <th>23306</th>\n      <td>yoke</td>\n      <td>1</td>\n    </tr>\n    <tr>\n      <th>23305</th>\n      <td>esso</td>\n      <td>1</td>\n    </tr>\n    <tr>\n      <th>38878</th>\n      <td>arroparm</td>\n      <td>1</td>\n    </tr>\n  </tbody>\n</table>\n<p>38879 rows × 2 columns</p>\n</div>"
     },
     "metadata": {},
     "execution_count": 209
    }
   ],
   "source": [
    "# Creating a DataFrame of the Word Counts\n",
    "lyric_word_frequencies = pd.DataFrame.from_dict(Counter(words_list), orient = 'index').reset_index()\n",
    "lyric_word_frequencies = lyric_word_frequencies.rename(columns={'index':'word', 0:'count'})\n",
    "lyric_word_frequencies = lyric_word_frequencies.sort_values(by = \"count\", ascending = False)\n",
    "lyric_word_frequencies"
   ]
  },
  {
   "cell_type": "code",
   "execution_count": 210,
   "metadata": {},
   "outputs": [
    {
     "output_type": "execute_result",
     "data": {
      "text/plain": [
       "       word  count\n",
       "0        im  15249\n",
       "214    yeah   9620\n",
       "40     dont   8962\n",
       "33     love   6381\n",
       "34     babi   4687\n",
       "52    nigga   4462\n",
       "19    bitch   3959\n",
       "134    aint   3938\n",
       "250   wanna   3580\n",
       "247    feel   3389\n",
       "115    your   3303\n",
       "506    fuck   3175\n",
       "298    shit   2655\n",
       "253     ill   2198\n",
       "91     girl   2135\n",
       "620      pa   2083\n",
       "8736    ich   1954\n",
       "157   night   1850\n",
       "163    life   1783\n",
       "114    call   1752"
      ],
      "text/html": "<div>\n<style scoped>\n    .dataframe tbody tr th:only-of-type {\n        vertical-align: middle;\n    }\n\n    .dataframe tbody tr th {\n        vertical-align: top;\n    }\n\n    .dataframe thead th {\n        text-align: right;\n    }\n</style>\n<table border=\"1\" class=\"dataframe\">\n  <thead>\n    <tr style=\"text-align: right;\">\n      <th></th>\n      <th>word</th>\n      <th>count</th>\n    </tr>\n  </thead>\n  <tbody>\n    <tr>\n      <th>0</th>\n      <td>im</td>\n      <td>15249</td>\n    </tr>\n    <tr>\n      <th>214</th>\n      <td>yeah</td>\n      <td>9620</td>\n    </tr>\n    <tr>\n      <th>40</th>\n      <td>dont</td>\n      <td>8962</td>\n    </tr>\n    <tr>\n      <th>33</th>\n      <td>love</td>\n      <td>6381</td>\n    </tr>\n    <tr>\n      <th>34</th>\n      <td>babi</td>\n      <td>4687</td>\n    </tr>\n    <tr>\n      <th>52</th>\n      <td>nigga</td>\n      <td>4462</td>\n    </tr>\n    <tr>\n      <th>19</th>\n      <td>bitch</td>\n      <td>3959</td>\n    </tr>\n    <tr>\n      <th>134</th>\n      <td>aint</td>\n      <td>3938</td>\n    </tr>\n    <tr>\n      <th>250</th>\n      <td>wanna</td>\n      <td>3580</td>\n    </tr>\n    <tr>\n      <th>247</th>\n      <td>feel</td>\n      <td>3389</td>\n    </tr>\n    <tr>\n      <th>115</th>\n      <td>your</td>\n      <td>3303</td>\n    </tr>\n    <tr>\n      <th>506</th>\n      <td>fuck</td>\n      <td>3175</td>\n    </tr>\n    <tr>\n      <th>298</th>\n      <td>shit</td>\n      <td>2655</td>\n    </tr>\n    <tr>\n      <th>253</th>\n      <td>ill</td>\n      <td>2198</td>\n    </tr>\n    <tr>\n      <th>91</th>\n      <td>girl</td>\n      <td>2135</td>\n    </tr>\n    <tr>\n      <th>620</th>\n      <td>pa</td>\n      <td>2083</td>\n    </tr>\n    <tr>\n      <th>8736</th>\n      <td>ich</td>\n      <td>1954</td>\n    </tr>\n    <tr>\n      <th>157</th>\n      <td>night</td>\n      <td>1850</td>\n    </tr>\n    <tr>\n      <th>163</th>\n      <td>life</td>\n      <td>1783</td>\n    </tr>\n    <tr>\n      <th>114</th>\n      <td>call</td>\n      <td>1752</td>\n    </tr>\n  </tbody>\n</table>\n</div>"
     },
     "metadata": {},
     "execution_count": 210
    }
   ],
   "source": [
    "lyric_word_frequencies.head(20)"
   ]
  },
  {
   "cell_type": "code",
   "execution_count": 211,
   "metadata": {},
   "outputs": [],
   "source": [
    "lyric_word_frequencies.to_csv('cleaned_data/lyric_word_frequencies.csv', index = False)"
   ]
  },
  {
   "cell_type": "code",
   "execution_count": 212,
   "metadata": {},
   "outputs": [
    {
     "output_type": "execute_result",
     "data": {
      "text/plain": [
       "         word  count\n",
       "0          im  15249\n",
       "214      yeah   9620\n",
       "40       dont   8962\n",
       "33       love   6381\n",
       "34       babi   4687\n",
       "...       ...    ...\n",
       "456    fuckin    673\n",
       "306     chang    667\n",
       "723   diamond    653\n",
       "1202       má    645\n",
       "136      left    643\n",
       "\n",
       "[100 rows x 2 columns]"
      ],
      "text/html": "<div>\n<style scoped>\n    .dataframe tbody tr th:only-of-type {\n        vertical-align: middle;\n    }\n\n    .dataframe tbody tr th {\n        vertical-align: top;\n    }\n\n    .dataframe thead th {\n        text-align: right;\n    }\n</style>\n<table border=\"1\" class=\"dataframe\">\n  <thead>\n    <tr style=\"text-align: right;\">\n      <th></th>\n      <th>word</th>\n      <th>count</th>\n    </tr>\n  </thead>\n  <tbody>\n    <tr>\n      <th>0</th>\n      <td>im</td>\n      <td>15249</td>\n    </tr>\n    <tr>\n      <th>214</th>\n      <td>yeah</td>\n      <td>9620</td>\n    </tr>\n    <tr>\n      <th>40</th>\n      <td>dont</td>\n      <td>8962</td>\n    </tr>\n    <tr>\n      <th>33</th>\n      <td>love</td>\n      <td>6381</td>\n    </tr>\n    <tr>\n      <th>34</th>\n      <td>babi</td>\n      <td>4687</td>\n    </tr>\n    <tr>\n      <th>...</th>\n      <td>...</td>\n      <td>...</td>\n    </tr>\n    <tr>\n      <th>456</th>\n      <td>fuckin</td>\n      <td>673</td>\n    </tr>\n    <tr>\n      <th>306</th>\n      <td>chang</td>\n      <td>667</td>\n    </tr>\n    <tr>\n      <th>723</th>\n      <td>diamond</td>\n      <td>653</td>\n    </tr>\n    <tr>\n      <th>1202</th>\n      <td>má</td>\n      <td>645</td>\n    </tr>\n    <tr>\n      <th>136</th>\n      <td>left</td>\n      <td>643</td>\n    </tr>\n  </tbody>\n</table>\n<p>100 rows × 2 columns</p>\n</div>"
     },
     "metadata": {},
     "execution_count": 212
    }
   ],
   "source": [
    "top_100 = lyric_word_frequencies[:100]\n",
    "top_100"
   ]
  },
  {
   "source": [
    "## Top Words by Genre"
   ],
   "cell_type": "markdown",
   "metadata": {}
  },
  {
   "cell_type": "code",
   "execution_count": 213,
   "metadata": {},
   "outputs": [
    {
     "output_type": "execute_result",
     "data": {
      "text/plain": [
       "array(['r-b', 'pop', 'rap', 'rock', 'non-music', 'country', 'm'],\n",
       "      dtype=object)"
      ]
     },
     "metadata": {},
     "execution_count": 213
    }
   ],
   "source": [
    "pd.Series(genres_list).unique()"
   ]
  },
  {
   "cell_type": "code",
   "execution_count": 214,
   "metadata": {},
   "outputs": [],
   "source": [
    "pop = df_[df_['pop'] == 1]\n",
    "rb = df_[df_['rb'] == 1]\n",
    "rap = df_[df_['rap'] == 1]\n",
    "rock = df_[df_['rock'] == 1]\n",
    "country = df_[df_['country'] == 1]\n",
    "m = df_[df_['no_genre'] == 1]"
   ]
  },
  {
   "cell_type": "code",
   "execution_count": 215,
   "metadata": {},
   "outputs": [],
   "source": [
    "def top_lyrics(df, dfname):\n",
    "    '''Function to find the top lyric unigrams based on a df containing lyrics'''\n",
    "    ## getting a list of all lemmed and stemmed keywords without stopwords\n",
    "    lyrics_wordlist = df['cleaned_lyrics'].tolist()\n",
    "    words_list = []\n",
    "    for i in lyrics_wordlist:\n",
    "        words_list.extend(i)\n",
    "    len(words_list)\n",
    "    # Creating a DataFrame of the Word Counts\n",
    "    lyric_word_frequencies = pd.DataFrame.from_dict(Counter(words_list), orient = 'index').reset_index()\n",
    "    lyric_word_frequencies = lyric_word_frequencies.rename(columns={'index':'word', 0:'count'})\n",
    "    lyric_word_frequencies = lyric_word_frequencies.sort_values(by = \"count\", ascending = False)\n",
    "    lyric_word_frequencies['genre'] = dfname\n",
    "    return lyric_word_frequencies"
   ]
  },
  {
   "cell_type": "code",
   "execution_count": 216,
   "metadata": {},
   "outputs": [
    {
     "output_type": "execute_result",
     "data": {
      "text/plain": [
       "      word  count genre\n",
       "0       im   2541   r-b\n",
       "40    dont   1932   r-b\n",
       "145   yeah   1915   r-b\n",
       "33    love   1532   r-b\n",
       "34    babi   1044   r-b\n",
       "175   your    760   r-b\n",
       "109   feel    703   r-b\n",
       "113  wanna    698   r-b\n",
       "138   aint    681   r-b\n",
       "91    girl    664   r-b\n",
       "116    ill    478   r-b\n",
       "111  night    474   r-b\n",
       "223   fuck    438   r-b\n",
       "127   life    395   r-b\n",
       "189  gotta    364   r-b"
      ],
      "text/html": "<div>\n<style scoped>\n    .dataframe tbody tr th:only-of-type {\n        vertical-align: middle;\n    }\n\n    .dataframe tbody tr th {\n        vertical-align: top;\n    }\n\n    .dataframe thead th {\n        text-align: right;\n    }\n</style>\n<table border=\"1\" class=\"dataframe\">\n  <thead>\n    <tr style=\"text-align: right;\">\n      <th></th>\n      <th>word</th>\n      <th>count</th>\n      <th>genre</th>\n    </tr>\n  </thead>\n  <tbody>\n    <tr>\n      <th>0</th>\n      <td>im</td>\n      <td>2541</td>\n      <td>r-b</td>\n    </tr>\n    <tr>\n      <th>40</th>\n      <td>dont</td>\n      <td>1932</td>\n      <td>r-b</td>\n    </tr>\n    <tr>\n      <th>145</th>\n      <td>yeah</td>\n      <td>1915</td>\n      <td>r-b</td>\n    </tr>\n    <tr>\n      <th>33</th>\n      <td>love</td>\n      <td>1532</td>\n      <td>r-b</td>\n    </tr>\n    <tr>\n      <th>34</th>\n      <td>babi</td>\n      <td>1044</td>\n      <td>r-b</td>\n    </tr>\n    <tr>\n      <th>175</th>\n      <td>your</td>\n      <td>760</td>\n      <td>r-b</td>\n    </tr>\n    <tr>\n      <th>109</th>\n      <td>feel</td>\n      <td>703</td>\n      <td>r-b</td>\n    </tr>\n    <tr>\n      <th>113</th>\n      <td>wanna</td>\n      <td>698</td>\n      <td>r-b</td>\n    </tr>\n    <tr>\n      <th>138</th>\n      <td>aint</td>\n      <td>681</td>\n      <td>r-b</td>\n    </tr>\n    <tr>\n      <th>91</th>\n      <td>girl</td>\n      <td>664</td>\n      <td>r-b</td>\n    </tr>\n    <tr>\n      <th>116</th>\n      <td>ill</td>\n      <td>478</td>\n      <td>r-b</td>\n    </tr>\n    <tr>\n      <th>111</th>\n      <td>night</td>\n      <td>474</td>\n      <td>r-b</td>\n    </tr>\n    <tr>\n      <th>223</th>\n      <td>fuck</td>\n      <td>438</td>\n      <td>r-b</td>\n    </tr>\n    <tr>\n      <th>127</th>\n      <td>life</td>\n      <td>395</td>\n      <td>r-b</td>\n    </tr>\n    <tr>\n      <th>189</th>\n      <td>gotta</td>\n      <td>364</td>\n      <td>r-b</td>\n    </tr>\n  </tbody>\n</table>\n</div>"
     },
     "metadata": {},
     "execution_count": 216
    }
   ],
   "source": [
    "rb_lyrics = top_lyrics(rb, 'r-b')[:15]\n",
    "rb_lyrics"
   ]
  },
  {
   "cell_type": "code",
   "execution_count": 217,
   "metadata": {},
   "outputs": [],
   "source": [
    "pop_lyrics = top_lyrics(pop, 'pop')[:15]"
   ]
  },
  {
   "cell_type": "code",
   "execution_count": 218,
   "metadata": {},
   "outputs": [],
   "source": [
    "country_lyrics = top_lyrics(country, 'country')[:15]"
   ]
  },
  {
   "cell_type": "code",
   "execution_count": 219,
   "metadata": {},
   "outputs": [],
   "source": [
    "rock_lyrics = top_lyrics(rock, 'rock')[:15]"
   ]
  },
  {
   "cell_type": "code",
   "execution_count": 220,
   "metadata": {},
   "outputs": [],
   "source": [
    "rap_lyrics = top_lyrics(rap, 'rap')[:15]"
   ]
  },
  {
   "cell_type": "code",
   "execution_count": 232,
   "metadata": {},
   "outputs": [
    {
     "output_type": "execute_result",
     "data": {
      "text/plain": [
       "      word  count genre\n",
       "0       im   7016   pop\n",
       "40    dont   4766   pop\n",
       "33    love   4693   pop\n",
       "214   yeah   4178   pop\n",
       "34    babi   3043   pop\n",
       "..     ...    ...   ...\n",
       "116    ill    478   r-b\n",
       "111  night    474   r-b\n",
       "223   fuck    438   r-b\n",
       "127   life    395   r-b\n",
       "189  gotta    364   r-b\n",
       "\n",
       "[75 rows x 3 columns]"
      ],
      "text/html": "<div>\n<style scoped>\n    .dataframe tbody tr th:only-of-type {\n        vertical-align: middle;\n    }\n\n    .dataframe tbody tr th {\n        vertical-align: top;\n    }\n\n    .dataframe thead th {\n        text-align: right;\n    }\n</style>\n<table border=\"1\" class=\"dataframe\">\n  <thead>\n    <tr style=\"text-align: right;\">\n      <th></th>\n      <th>word</th>\n      <th>count</th>\n      <th>genre</th>\n    </tr>\n  </thead>\n  <tbody>\n    <tr>\n      <th>0</th>\n      <td>im</td>\n      <td>7016</td>\n      <td>pop</td>\n    </tr>\n    <tr>\n      <th>40</th>\n      <td>dont</td>\n      <td>4766</td>\n      <td>pop</td>\n    </tr>\n    <tr>\n      <th>33</th>\n      <td>love</td>\n      <td>4693</td>\n      <td>pop</td>\n    </tr>\n    <tr>\n      <th>214</th>\n      <td>yeah</td>\n      <td>4178</td>\n      <td>pop</td>\n    </tr>\n    <tr>\n      <th>34</th>\n      <td>babi</td>\n      <td>3043</td>\n      <td>pop</td>\n    </tr>\n    <tr>\n      <th>...</th>\n      <td>...</td>\n      <td>...</td>\n      <td>...</td>\n    </tr>\n    <tr>\n      <th>116</th>\n      <td>ill</td>\n      <td>478</td>\n      <td>r-b</td>\n    </tr>\n    <tr>\n      <th>111</th>\n      <td>night</td>\n      <td>474</td>\n      <td>r-b</td>\n    </tr>\n    <tr>\n      <th>223</th>\n      <td>fuck</td>\n      <td>438</td>\n      <td>r-b</td>\n    </tr>\n    <tr>\n      <th>127</th>\n      <td>life</td>\n      <td>395</td>\n      <td>r-b</td>\n    </tr>\n    <tr>\n      <th>189</th>\n      <td>gotta</td>\n      <td>364</td>\n      <td>r-b</td>\n    </tr>\n  </tbody>\n</table>\n<p>75 rows × 3 columns</p>\n</div>"
     },
     "metadata": {},
     "execution_count": 232
    }
   ],
   "source": [
    "full_lyrics = pd.concat([pop_lyrics,country_lyrics,rock_lyrics,rap_lyrics,rb_lyrics])\n",
    "full_lyrics"
   ]
  },
  {
   "cell_type": "code",
   "execution_count": 233,
   "metadata": {},
   "outputs": [],
   "source": [
    "full_lyrics.to_csv('cleaned_data/lyric_frequencies/top15_all_genres_lyric_frequencies.csv', index = False)"
   ]
  },
  {
   "source": [
    "## Top Songs By Genre "
   ],
   "cell_type": "markdown",
   "metadata": {}
  },
  {
   "source": [
    "I forgot to get the top songs by genre streams so I am re importing the top 200 files and the previously created OHE (one-hot-encoded) df to create a new df with the streams"
   ],
   "cell_type": "markdown",
   "metadata": {}
  },
  {
   "cell_type": "code",
   "execution_count": 2,
   "metadata": {},
   "outputs": [],
   "source": [
    "import pandas as pd"
   ]
  },
  {
   "cell_type": "code",
   "execution_count": 8,
   "metadata": {},
   "outputs": [
    {
     "output_type": "execute_result",
     "data": {
      "text/plain": [
       "                        artist                                       track  \\\n",
       "0        The Weeknd, Daft Punk                                     Starboy   \n",
       "1        The Weeknd, Daft Punk                                     Starboy   \n",
       "2     The Chainsmokers, Halsey                                      Closer   \n",
       "3                 Clean Bandit     Rockabye (feat. Sean Paul & Anne-Marie)   \n",
       "4      DJ Snake, Justin Bieber                             Let Me Love You   \n",
       "...                        ...                                         ...   \n",
       "4231             Sfera Ebbasta                     Hollywood (feat. Diplo)   \n",
       "4232           Trio Vegabajeño                         CANTARES DE NAVIDAD   \n",
       "4233           Camilo, El Alfa                                        BEBÉ   \n",
       "4234              Taylor Swift                            long story short   \n",
       "4235               Bing Crosby  Do You Hear What I Hear? - Remastered 2006   \n",
       "\n",
       "         genius_artist             genius_track  \\\n",
       "0           The weeknd                  Starboy   \n",
       "1           The weeknd                  Starboy   \n",
       "2     The chainsmokers                   Closer   \n",
       "3         Clean bandit                 Rockabye   \n",
       "4             Dj snake          Let me love you   \n",
       "...                ...                      ...   \n",
       "4231     Sfera ebbasta                Hollywood   \n",
       "4232   Trio vegabajeno      Cantares de navidad   \n",
       "4233            Camilo                     Bebe   \n",
       "4234      Taylor swift         Long story short   \n",
       "4235       Bing crosby  Do you hear what i hear   \n",
       "\n",
       "                                                 lyrics           genre  pop  \\\n",
       "0        I'm tryna put you in the worst mood, ah P1 ...  ['r-b', 'pop']    1   \n",
       "1        I'm tryna put you in the worst mood, ah P1 ...  ['r-b', 'pop']    1   \n",
       "2        Hey, I was doing just fine before I met you...         ['pop']    1   \n",
       "3        Call it love and devotion Call it a mom's a...         ['pop']    1   \n",
       "4        I used to believe We were burnin' on the ed...         ['pop']    1   \n",
       "...                                                 ...             ...  ...   \n",
       "4231       La mia ex mi scrive Mi dice che le manco ...         ['pop']    1   \n",
       "4232       Navidad que vuelve, tradición del año Uno...         ['pop']    1   \n",
       "4233       Un, dos, tres y   El la'o de tu cama que ...         ['pop']    1   \n",
       "4234                                     missing lyrics           ['m']    0   \n",
       "4235    Do you hear what I hear?  Said the night win...         ['pop']    1   \n",
       "\n",
       "      rb  rap  rock  non-music  country  no_genre  \\\n",
       "0      1    0     0          0        0         0   \n",
       "1      1    0     0          0        0         0   \n",
       "2      0    0     0          0        0         0   \n",
       "3      0    0     0          0        0         0   \n",
       "4      0    0     0          0        0         0   \n",
       "...   ..  ...   ...        ...      ...       ...   \n",
       "4231   0    0     0          0        0         0   \n",
       "4232   0    0     0          0        0         0   \n",
       "4233   0    0     0          0        0         0   \n",
       "4234   0    0     0          0        0         1   \n",
       "4235   0    0     0          0        0         0   \n",
       "\n",
       "                                           spotify_link     rank  \\\n",
       "0     https://open.spotify.com/track/5aAx2yezTd8zXrk...   6529.0   \n",
       "1     https://open.spotify.com/track/7MXVkk9YMctZqd1...    912.0   \n",
       "2     https://open.spotify.com/track/7BKLCZ1jbUBVqRi...  19446.0   \n",
       "3     https://open.spotify.com/track/5knuzwU65gJK7IF...   4366.0   \n",
       "4     https://open.spotify.com/track/4pdPtRcBmOSQDlJ...   4072.0   \n",
       "...                                                 ...      ...   \n",
       "4231  https://open.spotify.com/track/4CvW0iHAs7yJhbp...    192.0   \n",
       "4232  https://open.spotify.com/track/2Iv6YBslkxslMJQ...    171.0   \n",
       "4233  https://open.spotify.com/track/7D7EH7MGyNHWSkq...    308.0   \n",
       "4234  https://open.spotify.com/track/0vVMlbdYx2080Oa...     45.0   \n",
       "4235  https://open.spotify.com/track/35z5xJpu76nakf6...    161.0   \n",
       "\n",
       "      total_streams  \n",
       "0         486509487  \n",
       "1          24036547  \n",
       "2         910179014  \n",
       "3         479452880  \n",
       "4         291862091  \n",
       "...             ...  \n",
       "4231        4920218  \n",
       "4232        5842320  \n",
       "4233       26124781  \n",
       "4234       13583538  \n",
       "4235        7149158  \n",
       "\n",
       "[4236 rows x 16 columns]"
      ],
      "text/html": "<div>\n<style scoped>\n    .dataframe tbody tr th:only-of-type {\n        vertical-align: middle;\n    }\n\n    .dataframe tbody tr th {\n        vertical-align: top;\n    }\n\n    .dataframe thead th {\n        text-align: right;\n    }\n</style>\n<table border=\"1\" class=\"dataframe\">\n  <thead>\n    <tr style=\"text-align: right;\">\n      <th></th>\n      <th>artist</th>\n      <th>track</th>\n      <th>genius_artist</th>\n      <th>genius_track</th>\n      <th>lyrics</th>\n      <th>genre</th>\n      <th>pop</th>\n      <th>rb</th>\n      <th>rap</th>\n      <th>rock</th>\n      <th>non-music</th>\n      <th>country</th>\n      <th>no_genre</th>\n      <th>spotify_link</th>\n      <th>rank</th>\n      <th>total_streams</th>\n    </tr>\n  </thead>\n  <tbody>\n    <tr>\n      <th>0</th>\n      <td>The Weeknd, Daft Punk</td>\n      <td>Starboy</td>\n      <td>The weeknd</td>\n      <td>Starboy</td>\n      <td>I'm tryna put you in the worst mood, ah P1 ...</td>\n      <td>['r-b', 'pop']</td>\n      <td>1</td>\n      <td>1</td>\n      <td>0</td>\n      <td>0</td>\n      <td>0</td>\n      <td>0</td>\n      <td>0</td>\n      <td>https://open.spotify.com/track/5aAx2yezTd8zXrk...</td>\n      <td>6529.0</td>\n      <td>486509487</td>\n    </tr>\n    <tr>\n      <th>1</th>\n      <td>The Weeknd, Daft Punk</td>\n      <td>Starboy</td>\n      <td>The weeknd</td>\n      <td>Starboy</td>\n      <td>I'm tryna put you in the worst mood, ah P1 ...</td>\n      <td>['r-b', 'pop']</td>\n      <td>1</td>\n      <td>1</td>\n      <td>0</td>\n      <td>0</td>\n      <td>0</td>\n      <td>0</td>\n      <td>0</td>\n      <td>https://open.spotify.com/track/7MXVkk9YMctZqd1...</td>\n      <td>912.0</td>\n      <td>24036547</td>\n    </tr>\n    <tr>\n      <th>2</th>\n      <td>The Chainsmokers, Halsey</td>\n      <td>Closer</td>\n      <td>The chainsmokers</td>\n      <td>Closer</td>\n      <td>Hey, I was doing just fine before I met you...</td>\n      <td>['pop']</td>\n      <td>1</td>\n      <td>0</td>\n      <td>0</td>\n      <td>0</td>\n      <td>0</td>\n      <td>0</td>\n      <td>0</td>\n      <td>https://open.spotify.com/track/7BKLCZ1jbUBVqRi...</td>\n      <td>19446.0</td>\n      <td>910179014</td>\n    </tr>\n    <tr>\n      <th>3</th>\n      <td>Clean Bandit</td>\n      <td>Rockabye (feat. Sean Paul &amp; Anne-Marie)</td>\n      <td>Clean bandit</td>\n      <td>Rockabye</td>\n      <td>Call it love and devotion Call it a mom's a...</td>\n      <td>['pop']</td>\n      <td>1</td>\n      <td>0</td>\n      <td>0</td>\n      <td>0</td>\n      <td>0</td>\n      <td>0</td>\n      <td>0</td>\n      <td>https://open.spotify.com/track/5knuzwU65gJK7IF...</td>\n      <td>4366.0</td>\n      <td>479452880</td>\n    </tr>\n    <tr>\n      <th>4</th>\n      <td>DJ Snake, Justin Bieber</td>\n      <td>Let Me Love You</td>\n      <td>Dj snake</td>\n      <td>Let me love you</td>\n      <td>I used to believe We were burnin' on the ed...</td>\n      <td>['pop']</td>\n      <td>1</td>\n      <td>0</td>\n      <td>0</td>\n      <td>0</td>\n      <td>0</td>\n      <td>0</td>\n      <td>0</td>\n      <td>https://open.spotify.com/track/4pdPtRcBmOSQDlJ...</td>\n      <td>4072.0</td>\n      <td>291862091</td>\n    </tr>\n    <tr>\n      <th>...</th>\n      <td>...</td>\n      <td>...</td>\n      <td>...</td>\n      <td>...</td>\n      <td>...</td>\n      <td>...</td>\n      <td>...</td>\n      <td>...</td>\n      <td>...</td>\n      <td>...</td>\n      <td>...</td>\n      <td>...</td>\n      <td>...</td>\n      <td>...</td>\n      <td>...</td>\n      <td>...</td>\n    </tr>\n    <tr>\n      <th>4231</th>\n      <td>Sfera Ebbasta</td>\n      <td>Hollywood (feat. Diplo)</td>\n      <td>Sfera ebbasta</td>\n      <td>Hollywood</td>\n      <td>La mia ex mi scrive Mi dice che le manco ...</td>\n      <td>['pop']</td>\n      <td>1</td>\n      <td>0</td>\n      <td>0</td>\n      <td>0</td>\n      <td>0</td>\n      <td>0</td>\n      <td>0</td>\n      <td>https://open.spotify.com/track/4CvW0iHAs7yJhbp...</td>\n      <td>192.0</td>\n      <td>4920218</td>\n    </tr>\n    <tr>\n      <th>4232</th>\n      <td>Trio Vegabajeño</td>\n      <td>CANTARES DE NAVIDAD</td>\n      <td>Trio vegabajeno</td>\n      <td>Cantares de navidad</td>\n      <td>Navidad que vuelve, tradición del año Uno...</td>\n      <td>['pop']</td>\n      <td>1</td>\n      <td>0</td>\n      <td>0</td>\n      <td>0</td>\n      <td>0</td>\n      <td>0</td>\n      <td>0</td>\n      <td>https://open.spotify.com/track/2Iv6YBslkxslMJQ...</td>\n      <td>171.0</td>\n      <td>5842320</td>\n    </tr>\n    <tr>\n      <th>4233</th>\n      <td>Camilo, El Alfa</td>\n      <td>BEBÉ</td>\n      <td>Camilo</td>\n      <td>Bebe</td>\n      <td>Un, dos, tres y   El la'o de tu cama que ...</td>\n      <td>['pop']</td>\n      <td>1</td>\n      <td>0</td>\n      <td>0</td>\n      <td>0</td>\n      <td>0</td>\n      <td>0</td>\n      <td>0</td>\n      <td>https://open.spotify.com/track/7D7EH7MGyNHWSkq...</td>\n      <td>308.0</td>\n      <td>26124781</td>\n    </tr>\n    <tr>\n      <th>4234</th>\n      <td>Taylor Swift</td>\n      <td>long story short</td>\n      <td>Taylor swift</td>\n      <td>Long story short</td>\n      <td>missing lyrics</td>\n      <td>['m']</td>\n      <td>0</td>\n      <td>0</td>\n      <td>0</td>\n      <td>0</td>\n      <td>0</td>\n      <td>0</td>\n      <td>1</td>\n      <td>https://open.spotify.com/track/0vVMlbdYx2080Oa...</td>\n      <td>45.0</td>\n      <td>13583538</td>\n    </tr>\n    <tr>\n      <th>4235</th>\n      <td>Bing Crosby</td>\n      <td>Do You Hear What I Hear? - Remastered 2006</td>\n      <td>Bing crosby</td>\n      <td>Do you hear what i hear</td>\n      <td>Do you hear what I hear?  Said the night win...</td>\n      <td>['pop']</td>\n      <td>1</td>\n      <td>0</td>\n      <td>0</td>\n      <td>0</td>\n      <td>0</td>\n      <td>0</td>\n      <td>0</td>\n      <td>https://open.spotify.com/track/35z5xJpu76nakf6...</td>\n      <td>161.0</td>\n      <td>7149158</td>\n    </tr>\n  </tbody>\n</table>\n<p>4236 rows × 16 columns</p>\n</div>"
     },
     "metadata": {},
     "execution_count": 8
    }
   ],
   "source": [
    "## OTHER MISC DATA CLEANING \n",
    "df1 = pd.read_csv('/Users/daphneyang/Desktop/5YMIDS_SP21/w209/spotify-visualizations/cleaned_data/2017_weekly_all_locations_top200.csv')\n",
    "df2 = pd.read_csv('/Users/daphneyang/Desktop/5YMIDS_SP21/w209/spotify-visualizations/cleaned_data/2018_weekly_all_locations_top200.csv')\n",
    "df3 = pd.read_csv('/Users/daphneyang/Desktop/5YMIDS_SP21/w209/spotify-visualizations/cleaned_data/2019_weekly_all_locations_top200.csv')\n",
    "df4 = pd.read_csv('/Users/daphneyang/Desktop/5YMIDS_SP21/w209/spotify-visualizations/cleaned_data/2020_weekly_all_locations_top200.csv')\n",
    "df = pd.concat([df1, df2, df3, df4])\n",
    "df['streams'] = df['streams'].str.replace(\",\", '').astype(int)\n",
    "global_df = df[df['country_chart'].str.contains(\"Global\")]\n",
    "global_df_total = global_df.groupby([\"track\", 'spotify_link']).sum().reset_index()\n",
    "lyrics_df = pd.read_csv('/Users/daphneyang/Desktop/5YMIDS_SP21/w209/spotify-visualizations/cleaned_data/OHE_all_top_songs.csv')\n",
    "merged_df = pd.merge(lyrics_df, global_df_total, \"inner\", on = \"track\")\n",
    "merged_df = merged_df.rename(columns={'streams': \"total_streams\"})\n",
    "merged_df"
   ]
  },
  {
   "cell_type": "code",
   "execution_count": 48,
   "metadata": {},
   "outputs": [],
   "source": [
    "pop = merged_df[merged_df['pop'] == 1][['track', 'artist', 'total_streams', 'spotify_link']].reset_index(drop=True).sort_values(by=['total_streams'], ascending = False)[:11]\n",
    "pop['genre'] = 'pop'\n",
    "rb = merged_df[merged_df['rb'] == 1][['track', 'artist', 'total_streams', 'spotify_link']].reset_index(drop=True).sort_values(by=['total_streams'], ascending = False)[:11]\n",
    "rb['genre'] = 'r-b'\n",
    "rap = merged_df[merged_df['rap'] == 1][['track', 'artist', 'total_streams', 'spotify_link']].reset_index(drop=True).sort_values(by=['total_streams'], ascending = False)[:13]\n",
    "rap['genre'] = 'rap'\n",
    "rock = merged_df[merged_df['rock'] == 1][['track', 'artist', 'total_streams', 'spotify_link']].reset_index(drop=True).sort_values(by=['total_streams'], ascending = False)[:13]\n",
    "rock['genre'] = 'rock'\n",
    "country = merged_df[merged_df['country'] == 1][['track', 'artist', 'total_streams', 'spotify_link']].reset_index(drop=True).sort_values(by=['total_streams'], ascending = False)[:12]\n",
    "country['genre'] = 'country'\n",
    "df_output = pd.concat([pop, rb, rap, rock, country])"
   ]
  },
  {
   "cell_type": "code",
   "execution_count": 49,
   "metadata": {},
   "outputs": [
    {
     "output_type": "execute_result",
     "data": {
      "text/plain": [
       "                                              track  \\\n",
       "164                                    Shape of You   \n",
       "1181                                   Dance Monkey   \n",
       "984                                         bad guy   \n",
       "232                                         Perfect   \n",
       "887                               Someone You Loved   \n",
       "751                                            SAD!   \n",
       "1132                                       Señorita   \n",
       "7                              Say You Won't Let Go   \n",
       "237                                         Happier   \n",
       "235                                         Happier   \n",
       "737                                      Better Now   \n",
       "309                                        Señorita   \n",
       "127                                  Jocelyn Flores   \n",
       "195                                      Better Now   \n",
       "378                                 Blinding Lights   \n",
       "338                                         Circles   \n",
       "334                                         Circles   \n",
       "243                                         7 rings   \n",
       "189                                Sweet but Psycho   \n",
       "187                                      Without Me   \n",
       "151                            Too Good At Goodbyes   \n",
       "384                           Roses - Imanbek Remix   \n",
       "102                                         Perfect   \n",
       "393                                            SAD!   \n",
       "264                                  Jocelyn Flores   \n",
       "391                                      Better Now   \n",
       "485                                         7 rings   \n",
       "399                      rockstar (feat. 21 Savage)   \n",
       "855                                         The Box   \n",
       "48                                       goosebumps   \n",
       "401                                       Moonlight   \n",
       "60                                  Congratulations   \n",
       "141                                         HUMBLE.   \n",
       "822                                            Tusa   \n",
       "805                                         ROXANNE   \n",
       "117                                         Shallow   \n",
       "160                                         Circles   \n",
       "179                                Watermelon Sugar   \n",
       "22                                         Believer   \n",
       "114   Sunflower - Spider-Man: Into the Spider-Verse   \n",
       "181                                   Before You Go   \n",
       "112   Sunflower - Spider-Man: Into the Spider-Verse   \n",
       "6               Bohemian Rhapsody - Remastered 2011   \n",
       "32                                          Thunder   \n",
       "3                                 Thinking out Loud   \n",
       "21                                         Believer   \n",
       "33                                          Thunder   \n",
       "122             Don't Stop Me Now - Remastered 2011   \n",
       "7                                     Unforgettable   \n",
       "11         Meant to Be (feat. Florida Georgia Line)   \n",
       "10         Meant to Be (feat. Florida Georgia Line)   \n",
       "2                             Body Like A Back Road   \n",
       "40                                You should be sad   \n",
       "23                                  One Thing Right   \n",
       "35            Say Something (feat. Chris Stapleton)   \n",
       "17                                 Jingle Bell Rock   \n",
       "5                                     Unforgettable   \n",
       "25                                            Lover   \n",
       "28                                             July   \n",
       "42           Be Like That - feat. Swae Lee & Khalid   \n",
       "\n",
       "                            artist  total_streams  \\\n",
       "164                     Ed Sheeran     2561858449   \n",
       "1181                   Tones And I     1977350595   \n",
       "984                  Billie Eilish     1626562811   \n",
       "232                     Ed Sheeran     1525083056   \n",
       "887                  Lewis Capaldi     1460020967   \n",
       "751                   XXXTENTACION     1384600058   \n",
       "1132  Shawn Mendes, Camila Cabello     1341350079   \n",
       "7                     James Arthur     1297986004   \n",
       "237           Marshmello, Bastille     1294102267   \n",
       "235                     Ed Sheeran     1294102267   \n",
       "737                    Post Malone     1219548035   \n",
       "309   Shawn Mendes, Camila Cabello     1341350079   \n",
       "127                   XXXTENTACION     1250387323   \n",
       "195                    Post Malone     1219548035   \n",
       "378                     The Weeknd     1213604384   \n",
       "338                     Mac Miller     1143933340   \n",
       "334                    Post Malone     1143933340   \n",
       "243                  Ariana Grande     1117945065   \n",
       "189                        Ava Max      926645669   \n",
       "187                         Halsey      881663895   \n",
       "151                      Sam Smith      759671704   \n",
       "384                      SAINt JHN      743328586   \n",
       "102                          Logic     1525083056   \n",
       "393                   XXXTENTACION     1384600058   \n",
       "264                   XXXTENTACION     1250387323   \n",
       "391                    Post Malone     1219548035   \n",
       "485                  Ariana Grande     1117945065   \n",
       "399                    Post Malone     1086155587   \n",
       "855                    Roddy Ricch     1084022570   \n",
       "48                    Travis Scott     1081888107   \n",
       "401                   XXXTENTACION     1020008616   \n",
       "60              Post Malone, Quavo      945850923   \n",
       "141                 Kendrick Lamar      922293728   \n",
       "822           KAROL G, Nicki Minaj      913426536   \n",
       "805                 Arizona Zervas      908067304   \n",
       "117      Lady Gaga, Bradley Cooper     1317216825   \n",
       "160                    Post Malone     1143933340   \n",
       "179                   Harry Styles      889687061   \n",
       "22                 Imagine Dragons      836743272   \n",
       "114          Post Malone, Swae Lee      756422236   \n",
       "181                  Lewis Capaldi      707784164   \n",
       "112          Post Malone, Swae Lee      692438468   \n",
       "6                            Queen      596546518   \n",
       "32                 Imagine Dragons      542569100   \n",
       "3                       Ed Sheeran      531279985   \n",
       "21                 Imagine Dragons      525616849   \n",
       "33                 Imagine Dragons      430932754   \n",
       "122                          Queen      399819415   \n",
       "7                     Thomas Rhett      650578985   \n",
       "11                      Bebe Rexha      428455004   \n",
       "10                      Bebe Rexha      243462597   \n",
       "2                         Sam Hunt      218658213   \n",
       "40                          Halsey      215981753   \n",
       "23          Marshmello, Kane Brown      184788700   \n",
       "35               Justin Timberlake      175104640   \n",
       "17                     Bobby Helms      174567207   \n",
       "5                     Thomas Rhett      172693953   \n",
       "25                    Taylor Swift      156747718   \n",
       "28                      Noah Cyrus      155645092   \n",
       "42                      Kane Brown      115760504   \n",
       "\n",
       "                                           spotify_link    genre  \n",
       "164   https://open.spotify.com/track/7qiZfU4dY1lWllz...      pop  \n",
       "1181  https://open.spotify.com/track/1rgnBhdG2JDFTbY...      pop  \n",
       "984   https://open.spotify.com/track/2Fxmhks0bxGSBdJ...      pop  \n",
       "232   https://open.spotify.com/track/0tgVpDi06FyKpA1...      pop  \n",
       "887   https://open.spotify.com/track/7qEHsqek33rTcFN...      pop  \n",
       "751   https://open.spotify.com/track/3ee8Jmje8o58CHK...      pop  \n",
       "1132  https://open.spotify.com/track/6v3KW9xbzN5yKLt...      pop  \n",
       "7     https://open.spotify.com/track/5uCax9HTNlzGybI...      pop  \n",
       "237   https://open.spotify.com/track/2dpaYNEQHiRxtZb...      pop  \n",
       "235   https://open.spotify.com/track/2dpaYNEQHiRxtZb...      pop  \n",
       "737   https://open.spotify.com/track/7dt6x5M1jzdTEt8...      pop  \n",
       "309   https://open.spotify.com/track/6v3KW9xbzN5yKLt...      r-b  \n",
       "127   https://open.spotify.com/track/7m9OqQk4RVRkw9J...      r-b  \n",
       "195   https://open.spotify.com/track/7dt6x5M1jzdTEt8...      r-b  \n",
       "378   https://open.spotify.com/track/0VjIjW4GlUZAMYd...      r-b  \n",
       "338   https://open.spotify.com/track/21jGcNKet2qwijl...      r-b  \n",
       "334   https://open.spotify.com/track/21jGcNKet2qwijl...      r-b  \n",
       "243   https://open.spotify.com/track/6ocbgoVGwYJhOv1...      r-b  \n",
       "189   https://open.spotify.com/track/25sgk305KZfyuqV...      r-b  \n",
       "187   https://open.spotify.com/track/5p7ujcrUXASCNwR...      r-b  \n",
       "151   https://open.spotify.com/track/1mXVgsBdtIVeCLJ...      r-b  \n",
       "384   https://open.spotify.com/track/24Yi9hE78yPEbZ4...      r-b  \n",
       "102   https://open.spotify.com/track/0tgVpDi06FyKpA1...      rap  \n",
       "393   https://open.spotify.com/track/3ee8Jmje8o58CHK...      rap  \n",
       "264   https://open.spotify.com/track/7m9OqQk4RVRkw9J...      rap  \n",
       "391   https://open.spotify.com/track/7dt6x5M1jzdTEt8...      rap  \n",
       "485   https://open.spotify.com/track/6ocbgoVGwYJhOv1...      rap  \n",
       "399   https://open.spotify.com/track/0e7ipj03S05BNil...      rap  \n",
       "855   https://open.spotify.com/track/0nbXyq5TXYPCO7p...      rap  \n",
       "48    https://open.spotify.com/track/6gBFPUFcJLzWGx4...      rap  \n",
       "401   https://open.spotify.com/track/0JP9xo3adEtGSdU...      rap  \n",
       "60    https://open.spotify.com/track/3a1lNhkSLSkpJE4...      rap  \n",
       "141   https://open.spotify.com/track/7KXjTSCq5nL1LoY...      rap  \n",
       "822   https://open.spotify.com/track/7k4t7uLgtOxPwTp...      rap  \n",
       "805   https://open.spotify.com/track/696DnlkuDOXcMAn...      rap  \n",
       "117   https://open.spotify.com/track/2VxeLyX666F8uXC...     rock  \n",
       "160   https://open.spotify.com/track/21jGcNKet2qwijl...     rock  \n",
       "179   https://open.spotify.com/track/6UelLqGlWMcVH1E...     rock  \n",
       "22    https://open.spotify.com/track/0pqnGHJpmpxLKif...     rock  \n",
       "114   https://open.spotify.com/track/3KkXRkHbMCARz0a...     rock  \n",
       "181   https://open.spotify.com/track/2gMXnyrvIjhVBUZ...     rock  \n",
       "112   https://open.spotify.com/track/0RiRZpuVRbi7oqR...     rock  \n",
       "6     https://open.spotify.com/track/4u7EnebtmKWzUH4...     rock  \n",
       "32    https://open.spotify.com/track/0tKcYR2II1VCQWT...     rock  \n",
       "3     https://open.spotify.com/track/1Slwb6dOYkBlWal...     rock  \n",
       "21    https://open.spotify.com/track/0CcQNd8CINkwQfe...     rock  \n",
       "33    https://open.spotify.com/track/1zB4vmk8tFRmM9U...     rock  \n",
       "122   https://open.spotify.com/track/5T8EDUDqKcs6OSO...     rock  \n",
       "7     https://open.spotify.com/track/3B54sVLJ402zGa6...  country  \n",
       "11    https://open.spotify.com/track/7iDa6hUg2VgEL1o...  country  \n",
       "10    https://open.spotify.com/track/4e4fqjx0Izh4svv...  country  \n",
       "2     https://open.spotify.com/track/7mldq42yDuxiUNn...  country  \n",
       "40    https://open.spotify.com/track/7lidXGPXPYLNThI...  country  \n",
       "23    https://open.spotify.com/track/4hPpVbbakQNv8YT...  country  \n",
       "35    https://open.spotify.com/track/1LhMopPAallLeae...  country  \n",
       "17    https://open.spotify.com/track/7vQbuQcyTflfCIO...  country  \n",
       "5     https://open.spotify.com/track/1F2HXIJrE2Xn81O...  country  \n",
       "25    https://open.spotify.com/track/1dGr1c8CrMLDpV6...  country  \n",
       "28    https://open.spotify.com/track/5a6pdCHlWS2ekOO...  country  \n",
       "42    https://open.spotify.com/track/5f1joOtoMeyppIc...  country  "
      ],
      "text/html": "<div>\n<style scoped>\n    .dataframe tbody tr th:only-of-type {\n        vertical-align: middle;\n    }\n\n    .dataframe tbody tr th {\n        vertical-align: top;\n    }\n\n    .dataframe thead th {\n        text-align: right;\n    }\n</style>\n<table border=\"1\" class=\"dataframe\">\n  <thead>\n    <tr style=\"text-align: right;\">\n      <th></th>\n      <th>track</th>\n      <th>artist</th>\n      <th>total_streams</th>\n      <th>spotify_link</th>\n      <th>genre</th>\n    </tr>\n  </thead>\n  <tbody>\n    <tr>\n      <th>164</th>\n      <td>Shape of You</td>\n      <td>Ed Sheeran</td>\n      <td>2561858449</td>\n      <td>https://open.spotify.com/track/7qiZfU4dY1lWllz...</td>\n      <td>pop</td>\n    </tr>\n    <tr>\n      <th>1181</th>\n      <td>Dance Monkey</td>\n      <td>Tones And I</td>\n      <td>1977350595</td>\n      <td>https://open.spotify.com/track/1rgnBhdG2JDFTbY...</td>\n      <td>pop</td>\n    </tr>\n    <tr>\n      <th>984</th>\n      <td>bad guy</td>\n      <td>Billie Eilish</td>\n      <td>1626562811</td>\n      <td>https://open.spotify.com/track/2Fxmhks0bxGSBdJ...</td>\n      <td>pop</td>\n    </tr>\n    <tr>\n      <th>232</th>\n      <td>Perfect</td>\n      <td>Ed Sheeran</td>\n      <td>1525083056</td>\n      <td>https://open.spotify.com/track/0tgVpDi06FyKpA1...</td>\n      <td>pop</td>\n    </tr>\n    <tr>\n      <th>887</th>\n      <td>Someone You Loved</td>\n      <td>Lewis Capaldi</td>\n      <td>1460020967</td>\n      <td>https://open.spotify.com/track/7qEHsqek33rTcFN...</td>\n      <td>pop</td>\n    </tr>\n    <tr>\n      <th>751</th>\n      <td>SAD!</td>\n      <td>XXXTENTACION</td>\n      <td>1384600058</td>\n      <td>https://open.spotify.com/track/3ee8Jmje8o58CHK...</td>\n      <td>pop</td>\n    </tr>\n    <tr>\n      <th>1132</th>\n      <td>Señorita</td>\n      <td>Shawn Mendes, Camila Cabello</td>\n      <td>1341350079</td>\n      <td>https://open.spotify.com/track/6v3KW9xbzN5yKLt...</td>\n      <td>pop</td>\n    </tr>\n    <tr>\n      <th>7</th>\n      <td>Say You Won't Let Go</td>\n      <td>James Arthur</td>\n      <td>1297986004</td>\n      <td>https://open.spotify.com/track/5uCax9HTNlzGybI...</td>\n      <td>pop</td>\n    </tr>\n    <tr>\n      <th>237</th>\n      <td>Happier</td>\n      <td>Marshmello, Bastille</td>\n      <td>1294102267</td>\n      <td>https://open.spotify.com/track/2dpaYNEQHiRxtZb...</td>\n      <td>pop</td>\n    </tr>\n    <tr>\n      <th>235</th>\n      <td>Happier</td>\n      <td>Ed Sheeran</td>\n      <td>1294102267</td>\n      <td>https://open.spotify.com/track/2dpaYNEQHiRxtZb...</td>\n      <td>pop</td>\n    </tr>\n    <tr>\n      <th>737</th>\n      <td>Better Now</td>\n      <td>Post Malone</td>\n      <td>1219548035</td>\n      <td>https://open.spotify.com/track/7dt6x5M1jzdTEt8...</td>\n      <td>pop</td>\n    </tr>\n    <tr>\n      <th>309</th>\n      <td>Señorita</td>\n      <td>Shawn Mendes, Camila Cabello</td>\n      <td>1341350079</td>\n      <td>https://open.spotify.com/track/6v3KW9xbzN5yKLt...</td>\n      <td>r-b</td>\n    </tr>\n    <tr>\n      <th>127</th>\n      <td>Jocelyn Flores</td>\n      <td>XXXTENTACION</td>\n      <td>1250387323</td>\n      <td>https://open.spotify.com/track/7m9OqQk4RVRkw9J...</td>\n      <td>r-b</td>\n    </tr>\n    <tr>\n      <th>195</th>\n      <td>Better Now</td>\n      <td>Post Malone</td>\n      <td>1219548035</td>\n      <td>https://open.spotify.com/track/7dt6x5M1jzdTEt8...</td>\n      <td>r-b</td>\n    </tr>\n    <tr>\n      <th>378</th>\n      <td>Blinding Lights</td>\n      <td>The Weeknd</td>\n      <td>1213604384</td>\n      <td>https://open.spotify.com/track/0VjIjW4GlUZAMYd...</td>\n      <td>r-b</td>\n    </tr>\n    <tr>\n      <th>338</th>\n      <td>Circles</td>\n      <td>Mac Miller</td>\n      <td>1143933340</td>\n      <td>https://open.spotify.com/track/21jGcNKet2qwijl...</td>\n      <td>r-b</td>\n    </tr>\n    <tr>\n      <th>334</th>\n      <td>Circles</td>\n      <td>Post Malone</td>\n      <td>1143933340</td>\n      <td>https://open.spotify.com/track/21jGcNKet2qwijl...</td>\n      <td>r-b</td>\n    </tr>\n    <tr>\n      <th>243</th>\n      <td>7 rings</td>\n      <td>Ariana Grande</td>\n      <td>1117945065</td>\n      <td>https://open.spotify.com/track/6ocbgoVGwYJhOv1...</td>\n      <td>r-b</td>\n    </tr>\n    <tr>\n      <th>189</th>\n      <td>Sweet but Psycho</td>\n      <td>Ava Max</td>\n      <td>926645669</td>\n      <td>https://open.spotify.com/track/25sgk305KZfyuqV...</td>\n      <td>r-b</td>\n    </tr>\n    <tr>\n      <th>187</th>\n      <td>Without Me</td>\n      <td>Halsey</td>\n      <td>881663895</td>\n      <td>https://open.spotify.com/track/5p7ujcrUXASCNwR...</td>\n      <td>r-b</td>\n    </tr>\n    <tr>\n      <th>151</th>\n      <td>Too Good At Goodbyes</td>\n      <td>Sam Smith</td>\n      <td>759671704</td>\n      <td>https://open.spotify.com/track/1mXVgsBdtIVeCLJ...</td>\n      <td>r-b</td>\n    </tr>\n    <tr>\n      <th>384</th>\n      <td>Roses - Imanbek Remix</td>\n      <td>SAINt JHN</td>\n      <td>743328586</td>\n      <td>https://open.spotify.com/track/24Yi9hE78yPEbZ4...</td>\n      <td>r-b</td>\n    </tr>\n    <tr>\n      <th>102</th>\n      <td>Perfect</td>\n      <td>Logic</td>\n      <td>1525083056</td>\n      <td>https://open.spotify.com/track/0tgVpDi06FyKpA1...</td>\n      <td>rap</td>\n    </tr>\n    <tr>\n      <th>393</th>\n      <td>SAD!</td>\n      <td>XXXTENTACION</td>\n      <td>1384600058</td>\n      <td>https://open.spotify.com/track/3ee8Jmje8o58CHK...</td>\n      <td>rap</td>\n    </tr>\n    <tr>\n      <th>264</th>\n      <td>Jocelyn Flores</td>\n      <td>XXXTENTACION</td>\n      <td>1250387323</td>\n      <td>https://open.spotify.com/track/7m9OqQk4RVRkw9J...</td>\n      <td>rap</td>\n    </tr>\n    <tr>\n      <th>391</th>\n      <td>Better Now</td>\n      <td>Post Malone</td>\n      <td>1219548035</td>\n      <td>https://open.spotify.com/track/7dt6x5M1jzdTEt8...</td>\n      <td>rap</td>\n    </tr>\n    <tr>\n      <th>485</th>\n      <td>7 rings</td>\n      <td>Ariana Grande</td>\n      <td>1117945065</td>\n      <td>https://open.spotify.com/track/6ocbgoVGwYJhOv1...</td>\n      <td>rap</td>\n    </tr>\n    <tr>\n      <th>399</th>\n      <td>rockstar (feat. 21 Savage)</td>\n      <td>Post Malone</td>\n      <td>1086155587</td>\n      <td>https://open.spotify.com/track/0e7ipj03S05BNil...</td>\n      <td>rap</td>\n    </tr>\n    <tr>\n      <th>855</th>\n      <td>The Box</td>\n      <td>Roddy Ricch</td>\n      <td>1084022570</td>\n      <td>https://open.spotify.com/track/0nbXyq5TXYPCO7p...</td>\n      <td>rap</td>\n    </tr>\n    <tr>\n      <th>48</th>\n      <td>goosebumps</td>\n      <td>Travis Scott</td>\n      <td>1081888107</td>\n      <td>https://open.spotify.com/track/6gBFPUFcJLzWGx4...</td>\n      <td>rap</td>\n    </tr>\n    <tr>\n      <th>401</th>\n      <td>Moonlight</td>\n      <td>XXXTENTACION</td>\n      <td>1020008616</td>\n      <td>https://open.spotify.com/track/0JP9xo3adEtGSdU...</td>\n      <td>rap</td>\n    </tr>\n    <tr>\n      <th>60</th>\n      <td>Congratulations</td>\n      <td>Post Malone, Quavo</td>\n      <td>945850923</td>\n      <td>https://open.spotify.com/track/3a1lNhkSLSkpJE4...</td>\n      <td>rap</td>\n    </tr>\n    <tr>\n      <th>141</th>\n      <td>HUMBLE.</td>\n      <td>Kendrick Lamar</td>\n      <td>922293728</td>\n      <td>https://open.spotify.com/track/7KXjTSCq5nL1LoY...</td>\n      <td>rap</td>\n    </tr>\n    <tr>\n      <th>822</th>\n      <td>Tusa</td>\n      <td>KAROL G, Nicki Minaj</td>\n      <td>913426536</td>\n      <td>https://open.spotify.com/track/7k4t7uLgtOxPwTp...</td>\n      <td>rap</td>\n    </tr>\n    <tr>\n      <th>805</th>\n      <td>ROXANNE</td>\n      <td>Arizona Zervas</td>\n      <td>908067304</td>\n      <td>https://open.spotify.com/track/696DnlkuDOXcMAn...</td>\n      <td>rap</td>\n    </tr>\n    <tr>\n      <th>117</th>\n      <td>Shallow</td>\n      <td>Lady Gaga, Bradley Cooper</td>\n      <td>1317216825</td>\n      <td>https://open.spotify.com/track/2VxeLyX666F8uXC...</td>\n      <td>rock</td>\n    </tr>\n    <tr>\n      <th>160</th>\n      <td>Circles</td>\n      <td>Post Malone</td>\n      <td>1143933340</td>\n      <td>https://open.spotify.com/track/21jGcNKet2qwijl...</td>\n      <td>rock</td>\n    </tr>\n    <tr>\n      <th>179</th>\n      <td>Watermelon Sugar</td>\n      <td>Harry Styles</td>\n      <td>889687061</td>\n      <td>https://open.spotify.com/track/6UelLqGlWMcVH1E...</td>\n      <td>rock</td>\n    </tr>\n    <tr>\n      <th>22</th>\n      <td>Believer</td>\n      <td>Imagine Dragons</td>\n      <td>836743272</td>\n      <td>https://open.spotify.com/track/0pqnGHJpmpxLKif...</td>\n      <td>rock</td>\n    </tr>\n    <tr>\n      <th>114</th>\n      <td>Sunflower - Spider-Man: Into the Spider-Verse</td>\n      <td>Post Malone, Swae Lee</td>\n      <td>756422236</td>\n      <td>https://open.spotify.com/track/3KkXRkHbMCARz0a...</td>\n      <td>rock</td>\n    </tr>\n    <tr>\n      <th>181</th>\n      <td>Before You Go</td>\n      <td>Lewis Capaldi</td>\n      <td>707784164</td>\n      <td>https://open.spotify.com/track/2gMXnyrvIjhVBUZ...</td>\n      <td>rock</td>\n    </tr>\n    <tr>\n      <th>112</th>\n      <td>Sunflower - Spider-Man: Into the Spider-Verse</td>\n      <td>Post Malone, Swae Lee</td>\n      <td>692438468</td>\n      <td>https://open.spotify.com/track/0RiRZpuVRbi7oqR...</td>\n      <td>rock</td>\n    </tr>\n    <tr>\n      <th>6</th>\n      <td>Bohemian Rhapsody - Remastered 2011</td>\n      <td>Queen</td>\n      <td>596546518</td>\n      <td>https://open.spotify.com/track/4u7EnebtmKWzUH4...</td>\n      <td>rock</td>\n    </tr>\n    <tr>\n      <th>32</th>\n      <td>Thunder</td>\n      <td>Imagine Dragons</td>\n      <td>542569100</td>\n      <td>https://open.spotify.com/track/0tKcYR2II1VCQWT...</td>\n      <td>rock</td>\n    </tr>\n    <tr>\n      <th>3</th>\n      <td>Thinking out Loud</td>\n      <td>Ed Sheeran</td>\n      <td>531279985</td>\n      <td>https://open.spotify.com/track/1Slwb6dOYkBlWal...</td>\n      <td>rock</td>\n    </tr>\n    <tr>\n      <th>21</th>\n      <td>Believer</td>\n      <td>Imagine Dragons</td>\n      <td>525616849</td>\n      <td>https://open.spotify.com/track/0CcQNd8CINkwQfe...</td>\n      <td>rock</td>\n    </tr>\n    <tr>\n      <th>33</th>\n      <td>Thunder</td>\n      <td>Imagine Dragons</td>\n      <td>430932754</td>\n      <td>https://open.spotify.com/track/1zB4vmk8tFRmM9U...</td>\n      <td>rock</td>\n    </tr>\n    <tr>\n      <th>122</th>\n      <td>Don't Stop Me Now - Remastered 2011</td>\n      <td>Queen</td>\n      <td>399819415</td>\n      <td>https://open.spotify.com/track/5T8EDUDqKcs6OSO...</td>\n      <td>rock</td>\n    </tr>\n    <tr>\n      <th>7</th>\n      <td>Unforgettable</td>\n      <td>Thomas Rhett</td>\n      <td>650578985</td>\n      <td>https://open.spotify.com/track/3B54sVLJ402zGa6...</td>\n      <td>country</td>\n    </tr>\n    <tr>\n      <th>11</th>\n      <td>Meant to Be (feat. Florida Georgia Line)</td>\n      <td>Bebe Rexha</td>\n      <td>428455004</td>\n      <td>https://open.spotify.com/track/7iDa6hUg2VgEL1o...</td>\n      <td>country</td>\n    </tr>\n    <tr>\n      <th>10</th>\n      <td>Meant to Be (feat. Florida Georgia Line)</td>\n      <td>Bebe Rexha</td>\n      <td>243462597</td>\n      <td>https://open.spotify.com/track/4e4fqjx0Izh4svv...</td>\n      <td>country</td>\n    </tr>\n    <tr>\n      <th>2</th>\n      <td>Body Like A Back Road</td>\n      <td>Sam Hunt</td>\n      <td>218658213</td>\n      <td>https://open.spotify.com/track/7mldq42yDuxiUNn...</td>\n      <td>country</td>\n    </tr>\n    <tr>\n      <th>40</th>\n      <td>You should be sad</td>\n      <td>Halsey</td>\n      <td>215981753</td>\n      <td>https://open.spotify.com/track/7lidXGPXPYLNThI...</td>\n      <td>country</td>\n    </tr>\n    <tr>\n      <th>23</th>\n      <td>One Thing Right</td>\n      <td>Marshmello, Kane Brown</td>\n      <td>184788700</td>\n      <td>https://open.spotify.com/track/4hPpVbbakQNv8YT...</td>\n      <td>country</td>\n    </tr>\n    <tr>\n      <th>35</th>\n      <td>Say Something (feat. Chris Stapleton)</td>\n      <td>Justin Timberlake</td>\n      <td>175104640</td>\n      <td>https://open.spotify.com/track/1LhMopPAallLeae...</td>\n      <td>country</td>\n    </tr>\n    <tr>\n      <th>17</th>\n      <td>Jingle Bell Rock</td>\n      <td>Bobby Helms</td>\n      <td>174567207</td>\n      <td>https://open.spotify.com/track/7vQbuQcyTflfCIO...</td>\n      <td>country</td>\n    </tr>\n    <tr>\n      <th>5</th>\n      <td>Unforgettable</td>\n      <td>Thomas Rhett</td>\n      <td>172693953</td>\n      <td>https://open.spotify.com/track/1F2HXIJrE2Xn81O...</td>\n      <td>country</td>\n    </tr>\n    <tr>\n      <th>25</th>\n      <td>Lover</td>\n      <td>Taylor Swift</td>\n      <td>156747718</td>\n      <td>https://open.spotify.com/track/1dGr1c8CrMLDpV6...</td>\n      <td>country</td>\n    </tr>\n    <tr>\n      <th>28</th>\n      <td>July</td>\n      <td>Noah Cyrus</td>\n      <td>155645092</td>\n      <td>https://open.spotify.com/track/5a6pdCHlWS2ekOO...</td>\n      <td>country</td>\n    </tr>\n    <tr>\n      <th>42</th>\n      <td>Be Like That - feat. Swae Lee &amp; Khalid</td>\n      <td>Kane Brown</td>\n      <td>115760504</td>\n      <td>https://open.spotify.com/track/5f1joOtoMeyppIc...</td>\n      <td>country</td>\n    </tr>\n  </tbody>\n</table>\n</div>"
     },
     "metadata": {},
     "execution_count": 49
    }
   ],
   "source": [
    "df_output"
   ]
  },
  {
   "cell_type": "code",
   "execution_count": 55,
   "metadata": {},
   "outputs": [
    {
     "output_type": "execute_result",
     "data": {
      "text/plain": [
       "'https://open.spotify.com/track/5f1joOtoMeyppIcJGZQvqJ'"
      ]
     },
     "metadata": {},
     "execution_count": 55
    }
   ],
   "source": [
    "df_output.iloc[59][3]"
   ]
  },
  {
   "cell_type": "code",
   "execution_count": 24,
   "metadata": {},
   "outputs": [],
   "source": [
    "# Change all links to embed links\n",
    "df_output.to_csv('../cleaned_data/top10_by_genre_all_time.csv', index = False)"
   ]
  },
  {
   "source": [
    "### Creating All Topic Songs With Years "
   ],
   "cell_type": "markdown",
   "metadata": {}
  },
  {
   "cell_type": "code",
   "execution_count": 1,
   "metadata": {},
   "outputs": [],
   "source": [
    "import pandas as pd \n",
    "\n",
    "df1 = pd.read_csv('/Users/daphneyang/Desktop/5YMIDS_SP21/w209/spotify-visualizations/cleaned_data/2017_weekly_all_locations_top200.csv')\n",
    "df1['year'] = '2017'\n",
    "df2 = pd.read_csv('/Users/daphneyang/Desktop/5YMIDS_SP21/w209/spotify-visualizations/cleaned_data/2018_weekly_all_locations_top200.csv')\n",
    "df2['year'] = '2018'\n",
    "df3 = pd.read_csv('/Users/daphneyang/Desktop/5YMIDS_SP21/w209/spotify-visualizations/cleaned_data/2019_weekly_all_locations_top200.csv')\n",
    "df3['year'] = '2019'\n",
    "df4 = pd.read_csv('/Users/daphneyang/Desktop/5YMIDS_SP21/w209/spotify-visualizations/cleaned_data/2020_weekly_all_locations_top200.csv')\n",
    "df4['year'] = '2020'"
   ]
  },
  {
   "cell_type": "code",
   "execution_count": 2,
   "metadata": {},
   "outputs": [
    {
     "output_type": "execute_result",
     "data": {
      "text/plain": [
       "                track               artist  year  streams   country_chart  \\\n",
       "0                   !             O.S.T.R.  2018   63,895          Poland   \n",
       "1                   !          Samey, Gleb  2019   35,871  Czech Republic   \n",
       "2                   !          Samey, Gleb  2019   59,254        Slovakia   \n",
       "3                   !          Samey, Gleb  2020   13,698        Slovakia   \n",
       "4                   !         Trippie Redd  2019  268,954          Canada   \n",
       "...               ...                  ...   ...      ...             ...   \n",
       "240691  항상 (HANGSANG)  j-hope, Supreme Boi  2018   75,326       Indonesia   \n",
       "240692  항상 (HANGSANG)  j-hope, Supreme Boi  2018    2,705       Lithuania   \n",
       "240693  항상 (HANGSANG)  j-hope, Supreme Boi  2018   36,333        Malaysia   \n",
       "240694  항상 (HANGSANG)  j-hope, Supreme Boi  2018   27,905          Taiwan   \n",
       "240695  항상 (HANGSANG)  j-hope, Supreme Boi  2018   10,606        Thailand   \n",
       "\n",
       "                                             spotify_link  \n",
       "0       https://open.spotify.com/track/5dwTUHjTcaMMkCD...  \n",
       "1       https://open.spotify.com/track/1A05ibu1DXGIt0F...  \n",
       "2       https://open.spotify.com/track/1A05ibu1DXGIt0F...  \n",
       "3       https://open.spotify.com/track/1A05ibu1DXGIt0F...  \n",
       "4       https://open.spotify.com/track/1qtHdSxiavDgUPZ...  \n",
       "...                                                   ...  \n",
       "240691  https://open.spotify.com/track/4mYu3kfBCW6qiTD...  \n",
       "240692  https://open.spotify.com/track/4mYu3kfBCW6qiTD...  \n",
       "240693  https://open.spotify.com/track/4mYu3kfBCW6qiTD...  \n",
       "240694  https://open.spotify.com/track/4mYu3kfBCW6qiTD...  \n",
       "240695  https://open.spotify.com/track/4mYu3kfBCW6qiTD...  \n",
       "\n",
       "[240696 rows x 6 columns]"
      ],
      "text/html": "<div>\n<style scoped>\n    .dataframe tbody tr th:only-of-type {\n        vertical-align: middle;\n    }\n\n    .dataframe tbody tr th {\n        vertical-align: top;\n    }\n\n    .dataframe thead th {\n        text-align: right;\n    }\n</style>\n<table border=\"1\" class=\"dataframe\">\n  <thead>\n    <tr style=\"text-align: right;\">\n      <th></th>\n      <th>track</th>\n      <th>artist</th>\n      <th>year</th>\n      <th>streams</th>\n      <th>country_chart</th>\n      <th>spotify_link</th>\n    </tr>\n  </thead>\n  <tbody>\n    <tr>\n      <th>0</th>\n      <td>!</td>\n      <td>O.S.T.R.</td>\n      <td>2018</td>\n      <td>63,895</td>\n      <td>Poland</td>\n      <td>https://open.spotify.com/track/5dwTUHjTcaMMkCD...</td>\n    </tr>\n    <tr>\n      <th>1</th>\n      <td>!</td>\n      <td>Samey, Gleb</td>\n      <td>2019</td>\n      <td>35,871</td>\n      <td>Czech Republic</td>\n      <td>https://open.spotify.com/track/1A05ibu1DXGIt0F...</td>\n    </tr>\n    <tr>\n      <th>2</th>\n      <td>!</td>\n      <td>Samey, Gleb</td>\n      <td>2019</td>\n      <td>59,254</td>\n      <td>Slovakia</td>\n      <td>https://open.spotify.com/track/1A05ibu1DXGIt0F...</td>\n    </tr>\n    <tr>\n      <th>3</th>\n      <td>!</td>\n      <td>Samey, Gleb</td>\n      <td>2020</td>\n      <td>13,698</td>\n      <td>Slovakia</td>\n      <td>https://open.spotify.com/track/1A05ibu1DXGIt0F...</td>\n    </tr>\n    <tr>\n      <th>4</th>\n      <td>!</td>\n      <td>Trippie Redd</td>\n      <td>2019</td>\n      <td>268,954</td>\n      <td>Canada</td>\n      <td>https://open.spotify.com/track/1qtHdSxiavDgUPZ...</td>\n    </tr>\n    <tr>\n      <th>...</th>\n      <td>...</td>\n      <td>...</td>\n      <td>...</td>\n      <td>...</td>\n      <td>...</td>\n      <td>...</td>\n    </tr>\n    <tr>\n      <th>240691</th>\n      <td>항상 (HANGSANG)</td>\n      <td>j-hope, Supreme Boi</td>\n      <td>2018</td>\n      <td>75,326</td>\n      <td>Indonesia</td>\n      <td>https://open.spotify.com/track/4mYu3kfBCW6qiTD...</td>\n    </tr>\n    <tr>\n      <th>240692</th>\n      <td>항상 (HANGSANG)</td>\n      <td>j-hope, Supreme Boi</td>\n      <td>2018</td>\n      <td>2,705</td>\n      <td>Lithuania</td>\n      <td>https://open.spotify.com/track/4mYu3kfBCW6qiTD...</td>\n    </tr>\n    <tr>\n      <th>240693</th>\n      <td>항상 (HANGSANG)</td>\n      <td>j-hope, Supreme Boi</td>\n      <td>2018</td>\n      <td>36,333</td>\n      <td>Malaysia</td>\n      <td>https://open.spotify.com/track/4mYu3kfBCW6qiTD...</td>\n    </tr>\n    <tr>\n      <th>240694</th>\n      <td>항상 (HANGSANG)</td>\n      <td>j-hope, Supreme Boi</td>\n      <td>2018</td>\n      <td>27,905</td>\n      <td>Taiwan</td>\n      <td>https://open.spotify.com/track/4mYu3kfBCW6qiTD...</td>\n    </tr>\n    <tr>\n      <th>240695</th>\n      <td>항상 (HANGSANG)</td>\n      <td>j-hope, Supreme Boi</td>\n      <td>2018</td>\n      <td>10,606</td>\n      <td>Thailand</td>\n      <td>https://open.spotify.com/track/4mYu3kfBCW6qiTD...</td>\n    </tr>\n  </tbody>\n</table>\n<p>240696 rows × 6 columns</p>\n</div>"
     },
     "metadata": {},
     "execution_count": 2
    }
   ],
   "source": [
    "df = pd.concat([df1, df2, df3, df4])\n",
    "\n",
    "all_locations_df_max = df.groupby([\"track\", 'artist','country_chart', 'year']).max().reset_index()[['track','artist',\"year\", 'streams', \"country_chart\",'spotify_link']]\n",
    "\n",
    "all_locations_df_max"
   ]
  },
  {
   "cell_type": "code",
   "execution_count": 3,
   "metadata": {},
   "outputs": [],
   "source": [
    "all_locations_df_max.to_csv(\"cleaned_data/2017_2020_all_locations_max_streams.csv\", index = False)"
   ]
  },
  {
   "cell_type": "code",
   "execution_count": null,
   "metadata": {},
   "outputs": [],
   "source": []
  }
 ]
}